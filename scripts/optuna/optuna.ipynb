{
 "cells": [
  {
   "cell_type": "code",
   "execution_count": 223,
   "metadata": {},
   "outputs": [],
   "source": [
    "# Jupyter packagesb\n",
    "from __future__ import print_function\n",
    "from keras.callbacks import EarlyStopping\n",
    "from ipywidgets import interact, interactive, fixed, interact_manual\n",
    "import ipywidgets as widgets\n",
    "\n",
    "import optuna\n",
    "import optuna.multi_objective\n",
    "\n",
    "import plotly\n",
    "\n",
    "import sklearn.datasets\n",
    "from sklearn.ensemble import RandomForestClassifier\n",
    "from sklearn.model_selection import cross_val_score\n",
    "from sklearn.model_selection import train_test_split\n",
    "from sklearn.preprocessing import StandardScaler\n",
    "\n",
    "from keras.layers.core import Activation\n",
    "from keras import backend\n",
    "\n",
    "\n",
    "# Common packages, you know them from before \n",
    "import matplotlib.pyplot as plt\n",
    "import pandas as pd\n",
    "import numpy as np\n",
    "import tensorflow as tf\n",
    "import random\n",
    "import math\n",
    "import copy\n",
    "from typing import *\n",
    "\n",
    "import pickle\n",
    "\n",
    "# Setup jupyter\n",
    "%matplotlib inline\n",
    "\n"
   ]
  },
  {
   "attachments": {},
   "cell_type": "markdown",
   "metadata": {},
   "source": [
    "Set constants:"
   ]
  },
  {
   "cell_type": "code",
   "execution_count": 224,
   "metadata": {},
   "outputs": [],
   "source": [
    "# Data constants\n",
    "DATASET_ID = 3\n",
    "DATA_PATH = f\"/home/feline/Documents/KIT/WS22_23/LAMA/belle_neural_trigger/data/random{DATASET_ID}.csv\"\n",
    "DATASET_NAME = f'random{DATASET_ID}'\n",
    "DATA_COUNT = 500\n",
    "\n",
    "# Random seed\n",
    "RANDOM_SEED = 42\n",
    "\n",
    "\n",
    "# mlp setup constants\n",
    "MIN_HIDDENLAYERS = 1\n",
    "MAX_HIDDENLAYERS = 20\n",
    "\n",
    "MIN_NEURON_PER_LAYER = 1\n",
    "MAX_NEURON_PER_LAYER = 300\n",
    "\n",
    "WEIGHT_THRESH = 0.05,\n",
    "\n",
    "NUM_EPOCHS = 500 #100 # plot showed that no more than 40 epochs are necessary, else the network will be overfitting \n",
    "\n",
    "METRIC = \"accuracy\"\n",
    "\n",
    "\n",
    "#Training\n",
    "N_TRAILS = 20\n",
    "\n",
    "\n"
   ]
  },
  {
   "attachments": {},
   "cell_type": "markdown",
   "metadata": {},
   "source": [
    "Read the data:"
   ]
  },
  {
   "cell_type": "code",
   "execution_count": 225,
   "metadata": {},
   "outputs": [],
   "source": [
    "data = pd.read_csv(DATA_PATH, delimiter='\\t');    \n",
    "data = data.iloc[:DATA_COUNT, 9:]\n",
    "\n",
    "input = data.iloc[:, :-9]\n",
    "target = data.iloc[:, -9:-7]"
   ]
  },
  {
   "cell_type": "code",
   "execution_count": 226,
   "metadata": {},
   "outputs": [
    {
     "data": {
      "text/html": [
       "<div>\n",
       "<style scoped>\n",
       "    .dataframe tbody tr th:only-of-type {\n",
       "        vertical-align: middle;\n",
       "    }\n",
       "\n",
       "    .dataframe tbody tr th {\n",
       "        vertical-align: top;\n",
       "    }\n",
       "\n",
       "    .dataframe thead th {\n",
       "        text-align: right;\n",
       "    }\n",
       "</style>\n",
       "<table border=\"1\" class=\"dataframe\">\n",
       "  <thead>\n",
       "    <tr style=\"text-align: right;\">\n",
       "      <th></th>\n",
       "      <th>SL0-relID</th>\n",
       "      <th>SL0-driftT</th>\n",
       "      <th>SL0-alpha</th>\n",
       "      <th>SL1-relID</th>\n",
       "      <th>SL1-driftT</th>\n",
       "      <th>SL1-alpha</th>\n",
       "      <th>SL2-relID</th>\n",
       "      <th>SL2-driftT</th>\n",
       "      <th>SL2-alpha</th>\n",
       "      <th>SL3-relID</th>\n",
       "      <th>...</th>\n",
       "      <th>SL5-alpha</th>\n",
       "      <th>SL6-relID</th>\n",
       "      <th>SL6-driftT</th>\n",
       "      <th>SL6-alpha</th>\n",
       "      <th>SL7-relID</th>\n",
       "      <th>SL7-driftT</th>\n",
       "      <th>SL7-alpha</th>\n",
       "      <th>SL8-relID</th>\n",
       "      <th>SL8-driftT</th>\n",
       "      <th>SL8-alpha</th>\n",
       "    </tr>\n",
       "  </thead>\n",
       "  <tbody>\n",
       "    <tr>\n",
       "      <th>26</th>\n",
       "      <td>0.0</td>\n",
       "      <td>-0.048085</td>\n",
       "      <td>0.466089</td>\n",
       "      <td>0.062500</td>\n",
       "      <td>-0.071386</td>\n",
       "      <td>0.005157</td>\n",
       "      <td>0.0</td>\n",
       "      <td>-0.098006</td>\n",
       "      <td>-0.614970</td>\n",
       "      <td>0.0</td>\n",
       "      <td>...</td>\n",
       "      <td>0.587446</td>\n",
       "      <td>0.113281</td>\n",
       "      <td>-0.209359</td>\n",
       "      <td>-0.413887</td>\n",
       "      <td>-0.074219</td>\n",
       "      <td>-0.239288</td>\n",
       "      <td>0.000000</td>\n",
       "      <td>0.0</td>\n",
       "      <td>0.000000</td>\n",
       "      <td>-0.00047</td>\n",
       "    </tr>\n",
       "    <tr>\n",
       "      <th>26</th>\n",
       "      <td>0.0</td>\n",
       "      <td>-0.048085</td>\n",
       "      <td>0.466089</td>\n",
       "      <td>0.062500</td>\n",
       "      <td>-0.071386</td>\n",
       "      <td>0.005157</td>\n",
       "      <td>0.0</td>\n",
       "      <td>-0.098006</td>\n",
       "      <td>-0.614970</td>\n",
       "      <td>0.0</td>\n",
       "      <td>...</td>\n",
       "      <td>0.587446</td>\n",
       "      <td>0.113281</td>\n",
       "      <td>-0.209359</td>\n",
       "      <td>-0.413887</td>\n",
       "      <td>-0.074219</td>\n",
       "      <td>-0.239288</td>\n",
       "      <td>0.000000</td>\n",
       "      <td>0.0</td>\n",
       "      <td>0.000000</td>\n",
       "      <td>-0.00047</td>\n",
       "    </tr>\n",
       "    <tr>\n",
       "      <th>26</th>\n",
       "      <td>0.0</td>\n",
       "      <td>-0.048085</td>\n",
       "      <td>0.466089</td>\n",
       "      <td>0.062500</td>\n",
       "      <td>-0.071386</td>\n",
       "      <td>0.005157</td>\n",
       "      <td>0.0</td>\n",
       "      <td>-0.098006</td>\n",
       "      <td>-0.614970</td>\n",
       "      <td>0.0</td>\n",
       "      <td>...</td>\n",
       "      <td>0.587446</td>\n",
       "      <td>0.113281</td>\n",
       "      <td>-0.209359</td>\n",
       "      <td>-0.413887</td>\n",
       "      <td>-0.074219</td>\n",
       "      <td>-0.239288</td>\n",
       "      <td>0.000000</td>\n",
       "      <td>0.0</td>\n",
       "      <td>0.000000</td>\n",
       "      <td>-0.00047</td>\n",
       "    </tr>\n",
       "    <tr>\n",
       "      <th>26</th>\n",
       "      <td>0.0</td>\n",
       "      <td>-0.048085</td>\n",
       "      <td>0.466089</td>\n",
       "      <td>0.062500</td>\n",
       "      <td>-0.071386</td>\n",
       "      <td>0.005157</td>\n",
       "      <td>0.0</td>\n",
       "      <td>-0.098006</td>\n",
       "      <td>-0.614970</td>\n",
       "      <td>0.0</td>\n",
       "      <td>...</td>\n",
       "      <td>0.587446</td>\n",
       "      <td>0.113281</td>\n",
       "      <td>-0.209359</td>\n",
       "      <td>-0.413887</td>\n",
       "      <td>-0.074219</td>\n",
       "      <td>-0.239288</td>\n",
       "      <td>0.000000</td>\n",
       "      <td>0.0</td>\n",
       "      <td>0.000000</td>\n",
       "      <td>-0.00047</td>\n",
       "    </tr>\n",
       "    <tr>\n",
       "      <th>26</th>\n",
       "      <td>0.0</td>\n",
       "      <td>0.000000</td>\n",
       "      <td>-0.208208</td>\n",
       "      <td>0.027344</td>\n",
       "      <td>-0.065440</td>\n",
       "      <td>-0.182200</td>\n",
       "      <td>0.0</td>\n",
       "      <td>-0.084502</td>\n",
       "      <td>0.026128</td>\n",
       "      <td>1.0</td>\n",
       "      <td>...</td>\n",
       "      <td>0.113390</td>\n",
       "      <td>0.062500</td>\n",
       "      <td>-0.179397</td>\n",
       "      <td>0.110643</td>\n",
       "      <td>0.292969</td>\n",
       "      <td>-0.204515</td>\n",
       "      <td>0.019405</td>\n",
       "      <td>0.0</td>\n",
       "      <td>-0.229258</td>\n",
       "      <td>-0.00047</td>\n",
       "    </tr>\n",
       "  </tbody>\n",
       "</table>\n",
       "<p>5 rows × 27 columns</p>\n",
       "</div>"
      ],
      "text/plain": [
       "    SL0-relID  SL0-driftT  SL0-alpha  SL1-relID  SL1-driftT  SL1-alpha  \\\n",
       "26        0.0   -0.048085   0.466089   0.062500   -0.071386   0.005157   \n",
       "26        0.0   -0.048085   0.466089   0.062500   -0.071386   0.005157   \n",
       "26        0.0   -0.048085   0.466089   0.062500   -0.071386   0.005157   \n",
       "26        0.0   -0.048085   0.466089   0.062500   -0.071386   0.005157   \n",
       "26        0.0    0.000000  -0.208208   0.027344   -0.065440  -0.182200   \n",
       "\n",
       "    SL2-relID  SL2-driftT  SL2-alpha  SL3-relID  ...  SL5-alpha  SL6-relID  \\\n",
       "26        0.0   -0.098006  -0.614970        0.0  ...   0.587446   0.113281   \n",
       "26        0.0   -0.098006  -0.614970        0.0  ...   0.587446   0.113281   \n",
       "26        0.0   -0.098006  -0.614970        0.0  ...   0.587446   0.113281   \n",
       "26        0.0   -0.098006  -0.614970        0.0  ...   0.587446   0.113281   \n",
       "26        0.0   -0.084502   0.026128        1.0  ...   0.113390   0.062500   \n",
       "\n",
       "    SL6-driftT  SL6-alpha  SL7-relID  SL7-driftT  SL7-alpha  SL8-relID  \\\n",
       "26   -0.209359  -0.413887  -0.074219   -0.239288   0.000000        0.0   \n",
       "26   -0.209359  -0.413887  -0.074219   -0.239288   0.000000        0.0   \n",
       "26   -0.209359  -0.413887  -0.074219   -0.239288   0.000000        0.0   \n",
       "26   -0.209359  -0.413887  -0.074219   -0.239288   0.000000        0.0   \n",
       "26   -0.179397   0.110643   0.292969   -0.204515   0.019405        0.0   \n",
       "\n",
       "    SL8-driftT  SL8-alpha  \n",
       "26    0.000000   -0.00047  \n",
       "26    0.000000   -0.00047  \n",
       "26    0.000000   -0.00047  \n",
       "26    0.000000   -0.00047  \n",
       "26   -0.229258   -0.00047  \n",
       "\n",
       "[5 rows x 27 columns]"
      ]
     },
     "execution_count": 226,
     "metadata": {},
     "output_type": "execute_result"
    }
   ],
   "source": [
    "input.head()"
   ]
  },
  {
   "cell_type": "code",
   "execution_count": 227,
   "metadata": {},
   "outputs": [],
   "source": [
    "X_train, X_test = train_test_split(input, random_state=RANDOM_SEED)\n",
    "y_train, y_test = train_test_split(target, random_state=RANDOM_SEED)\n"
   ]
  },
  {
   "attachments": {},
   "cell_type": "markdown",
   "metadata": {},
   "source": [
    "Method for plotting the accuracy history from the model training history:"
   ]
  },
  {
   "cell_type": "code",
   "execution_count": 228,
   "metadata": {},
   "outputs": [],
   "source": [
    "# Method for plotting the accuracy history from the model training history\n",
    "def plot_metric_history(history: tf.keras.callbacks.History, metric: str):\n",
    "    n_epochs = len(history[metric])\n",
    "\n",
    "    plt.plot(range(1, n_epochs + 1), history[metric], label=f'train {metric}')\n",
    "    plt.plot(range(1, n_epochs + 1), history[f'val_{metric}'], label=f'validation {metric}')\n",
    "    plt.legend()\n",
    "    plt.title(f'Training and validation {metric} for {n_epochs} epochs of training.')\n",
    "    plt.show()\n"
   ]
  },
  {
   "cell_type": "code",
   "execution_count": 240,
   "metadata": {},
   "outputs": [],
   "source": [
    "def plot_dead_weights(weight_values: List):\n",
    "    plt.scatter(weight_values, label='Amount ofWeight Values')\n",
    "    plt.xlabel('Layer Index')\n",
    "    plt.ylabel('Value')\n",
    "    plt.legend()\n",
    "    plt.show()"
   ]
  },
  {
   "cell_type": "code",
   "execution_count": 241,
   "metadata": {},
   "outputs": [],
   "source": [
    "def plot_dead_bias(bias_values: List):\n",
    "    plt.scatter(bias_values, label='Amount of bias Values')\n",
    "    plt.xlabel('Layer Index')\n",
    "    plt.ylabel('Value')\n",
    "    plt.legend()\n",
    "    plt.show()"
   ]
  },
  {
   "attachments": {},
   "cell_type": "markdown",
   "metadata": {},
   "source": [
    "## Bayesian Optimization overview steps:\n",
    "<ul>\n",
    "<ls>1.Build a surrogate probability model of the objektiv function</ls>\n",
    "</ls>2. Find the hyperparameters that perfomr best on the surrogate</ls>\n",
    "</ls>3. Applay the hyperparamerter to the thrue objectiv function</ls>\n",
    "</ls>4. Update th surrgate midel incorporating th enew results</ls>\n",
    "</ls>5. Repeat steps 2- 4 until max interation or time is reached</ls>\n",
    "</ul>\n",
    "\n"
   ]
  },
  {
   "cell_type": "code",
   "execution_count": 231,
   "metadata": {},
   "outputs": [],
   "source": [
    "# activation function: tanh(x/2)\n",
    "def tanh(x):\n",
    "    return backend.tanh(x/2)"
   ]
  },
  {
   "cell_type": "code",
   "execution_count": 242,
   "metadata": {},
   "outputs": [],
   "source": [
    "def objective(trial):\n",
    "\n",
    "    number_of_layer = trial.suggest_int(\"number_of_layer\", MIN_HIDDENLAYERS, MAX_HIDDENLAYERS)\n",
    "    num_neurons_per_layer = []\n",
    "    weights_history =[]\n",
    "    bias_history =[]\n",
    "\n",
    "    for layer in range(number_of_layer):\n",
    "\n",
    "        layer_id = \"layer_\" + str(layer)\n",
    "        layer_ = trial.suggest_int(layer_id, MIN_NEURON_PER_LAYER, MAX_NEURON_PER_LAYER)\n",
    "        num_neurons_per_layer.append(layer_)\n",
    "\n",
    "    num_neurons_per_layer = np.array(num_neurons_per_layer)\n",
    "        \n",
    "\n",
    "    \n",
    "    print(f'------numbers of neuron per layer-----')\n",
    "    print(num_neurons_per_layer)\n",
    "    print(f'------')\n",
    "    fitness_value: float\n",
    "    verbose = False\n",
    "    plot = False\n",
    "    \n",
    "    # sort the num_neurons parameter list\n",
    "    num_neurons_per_layer_without_zeros = num_neurons_per_layer[num_neurons_per_layer != 0]\n",
    "    num_neurons_per_layer_sorted = np.zeros(MAX_HIDDENLAYERS)\n",
    "\n",
    "    for i in range(len(num_neurons_per_layer_without_zeros)):\n",
    "        num_neurons_per_layer_sorted[i] = int(num_neurons_per_layer_without_zeros[i])\n",
    "    \n",
    "    activation_function = Activation(tanh)\n",
    "    num_neurons_per_layer = num_neurons_per_layer_sorted\n",
    "\n",
    "    # create model: \n",
    "    cnn_model = tf.keras.models.Sequential([\n",
    "        tf.keras.layers.Dense(\n",
    "            max(int(num_neurons_per_layer_without_zeros[0]), 1),\n",
    "            input_shape = (27,),  \n",
    "            activation=activation_function)\n",
    "    ])\n",
    "\n",
    "    for layer in range(1, len(num_neurons_per_layer_without_zeros)):\n",
    "        num_neurons = int(num_neurons_per_layer_without_zeros[layer])\n",
    "        cnn_model.add(\n",
    "            tf.keras.layers.Dense(\n",
    "                num_neurons,\n",
    "                activation = activation_function))\n",
    "\n",
    "    # The sigmoid activation function outputs a value between 0 and 1, \n",
    "    # which can be interpreted as the probability of the positive class\n",
    "    cnn_model.add(tf.keras.layers.Dense(\n",
    "        2, \n",
    "        activation = 'sigmoid'))\n",
    "\n",
    "\n",
    "    # Specify the loss fuction, optimizer, metrics\n",
    "    cnn_model.compile(\n",
    "        loss = tf.keras.losses.MeanSquaredError(),\n",
    "        optimizer = \"sgd\",#'adam', #'sdg'\n",
    "        metrics = [METRIC]\n",
    "    )\n",
    "\n",
    "    \n",
    "    # add early stopping callback to save time\n",
    "    es = EarlyStopping(monitor = f'val_{METRIC}', mode ='max', patience = 5)\n",
    "    # Train the model\n",
    "    history = cnn_model.fit(X_train, y_train, epochs= NUM_EPOCHS, validation_split = 0.2, batch_size= 2, callbacks = [es], use_multiprocessing=True, verbose=0)\n",
    "    \n",
    "    bias_values = []\n",
    "    weight_values = []\n",
    "    bias_values_deat = []\n",
    "    weight_values_deat = []\n",
    "\n",
    "    for layer in cnn_model.layers:\n",
    "        if isinstance(layer, tf.keras.layers.Dense):\n",
    "            weights = layer.get_weights()\n",
    "            \n",
    "            weight = weights[0]\n",
    "            bias = weights[1]\n",
    "\n",
    "            bias_values.append(np.sum(np.abs(bias)))\n",
    "            weight_values.append(np.sum(np.abs(weight)))\n",
    "\n",
    "            weight_threshold = np.mean(np.abs(weight)) * 0.1\n",
    "            bias_threshold = np.mean(np.abs(bias)) * 0.05\n",
    "\n",
    "            amount_dead_weights = len(np.where(weight < weight_threshold)[0])\n",
    "            amount_dead_bias = len(np.where(bias< weight_threshold)[0])\n",
    "\n",
    "            bias_values_deat.append(amount_dead_weights)\n",
    "            weight_values_deat.append(amount_dead_bias)\n",
    "\n",
    "            print(f'amount of dead weight{amount_dead_weights} and amount of dead bias {amount_dead_bias}')\n",
    "            #weight[np.abs(weight) < weight_threshold] = 0\n",
    "            #bias[np.abs(bias) < bias_threshold] = 0\n",
    "            #layer.set_weights([weight, weights[1]])\n",
    "\n",
    "    plot_dead_weights(weight_values)\n",
    "    plot_dead_bias(bias_values)\n",
    "\n",
    "    plot_dead_weights(bias_values_deat)\n",
    "    plot_dead_bias(weight_values_deat)\n",
    "\n",
    "    # TODO choose the best\n",
    "    last_result = history.history[f\"val_{METRIC}\"][-1:][0]\n",
    "    best_result = max(history.history[f\"val_{METRIC}\"])\n",
    "\n",
    "   \n",
    "    #weights = cnn_model.get_weights()\n",
    "    #amount_dead_weights = len(np.where(abs(weights[0]) < WEIGHT_THRESH)[0])\n",
    "    \n",
    "    \n",
    "\n",
    "    if (plot):\n",
    "        plot_metric_history(history.history, METRIC)\n",
    "    if (verbose):\n",
    "        #print (cnn_model.summary())\n",
    "        #print (history.history)\n",
    "        print (f\"last {METRIC}: {last_result:0.05f}, best {METRIC}: {best_result:0.05f}, parameter: {num_neurons_per_layer}\")\n",
    "       \n",
    "    return last_result, -amount_dead_weights, -amount_dead_bias\n",
    "    "
   ]
  },
  {
   "attachments": {},
   "cell_type": "markdown",
   "metadata": {},
   "source": [
    "    MedianPruner: This pruner stops trials that are unlikely to beat the median performance of all trials run so far.\n",
    "\n",
    "    HyperbandPruner: This pruner is based on the Hyperband algorithm and is designed for early stopping of poorly performing trials.\n",
    "\n",
    "    SuccessiveHalvingPruner: This pruner is based on the successive halving algorithm and is designed for early stopping of poorly performing trials.\n",
    "\n",
    "    NopPruner: This pruner does not stop any trials and is useful for debugging or for evaluating the performance of the optimization algorithm without the influence of pruning.\n",
    "\n",
    "    TakestepPruner: This pruner allows you to customize the pruning strategy by providing a callback function that can stop trials based on any criteria you define.\n",
    "\n",
    "    ThresholdPruner: This pruner stops trials that have objective values worse than a threshold."
   ]
  },
  {
   "cell_type": "code",
   "execution_count": 233,
   "metadata": {},
   "outputs": [],
   "source": [
    "#ensemble pruning = useing multiple pruners in an ensemble, the trial is stopped if any of the pruners request it.\n",
    "#from optuna.pruners import MedianPruner, HyperbandPruner, SuccessiveHalvingPruner, NopPruner, TakestepPruner, ThresholdPruner\n",
    "\n",
    "#pruner_1 = MedianPruner()\n",
    "#j\n",
    "#pruner_2 = HyperbandPruner()\n",
    "#study = create_study(pruner=[pruner_1, pruner_2])"
   ]
  },
  {
   "cell_type": "code",
   "execution_count": 243,
   "metadata": {},
   "outputs": [
    {
     "name": "stderr",
     "output_type": "stream",
     "text": [
      "\u001b[32m[I 2023-02-10 10:53:03,636]\u001b[0m A new study created in memory with name: no-name-b08576e2-269e-412c-94c0-6cf29bccc472\u001b[0m\n"
     ]
    },
    {
     "name": "stdout",
     "output_type": "stream",
     "text": [
      "-----------\n",
      "------numbers of neuron per layer-----\n",
      "[170 271  14  24 298 119 150 107  99 151 139 278   1  40  17 232 260  72\n",
      "  48 170]\n",
      "------\n"
     ]
    },
    {
     "name": "stderr",
     "output_type": "stream",
     "text": [
      "\u001b[33m[W 2023-02-10 10:53:07,895]\u001b[0m Trial 0 failed with parameters: {'number_of_layer': 20, 'layer_0': 170, 'layer_1': 271, 'layer_2': 14, 'layer_3': 24, 'layer_4': 298, 'layer_5': 119, 'layer_6': 150, 'layer_7': 107, 'layer_8': 99, 'layer_9': 151, 'layer_10': 139, 'layer_11': 278, 'layer_12': 1, 'layer_13': 40, 'layer_14': 17, 'layer_15': 232, 'layer_16': 260, 'layer_17': 72, 'layer_18': 48, 'layer_19': 170} because of the following error: TypeError(\"scatter() missing 1 required positional argument: 'y'\").\u001b[0m\n",
      "Traceback (most recent call last):\n",
      "  File \"/home/feline/.local/lib/python3.10/site-packages/optuna/study/_optimize.py\", line 200, in _run_trial\n",
      "    value_or_values = func(trial)\n",
      "  File \"/tmp/ipykernel_41421/1856321188.py\", line 99, in objective\n",
      "    plot_dead_weights(weight_values)\n",
      "  File \"/tmp/ipykernel_41421/4113070843.py\", line 2, in plot_dead_weights\n",
      "    plt.scatter(weight_values, label='Amount ofWeight Values')\n",
      "TypeError: scatter() missing 1 required positional argument: 'y'\n",
      "\u001b[33m[W 2023-02-10 10:53:07,899]\u001b[0m Trial 0 failed with value None.\u001b[0m\n"
     ]
    },
    {
     "name": "stdout",
     "output_type": "stream",
     "text": [
      "amount of dead weight2368 and amount of dead bias 170\n",
      "amount of dead weight24172 and amount of dead bias 271\n",
      "amount of dead weight1960 and amount of dead bias 14\n",
      "amount of dead weight193 and amount of dead bias 24\n",
      "amount of dead weight3734 and amount of dead bias 298\n",
      "amount of dead weight18625 and amount of dead bias 119\n",
      "amount of dead weight9343 and amount of dead bias 150\n",
      "amount of dead weight8453 and amount of dead bias 107\n",
      "amount of dead weight5483 and amount of dead bias 99\n",
      "amount of dead weight7810 and amount of dead bias 151\n",
      "amount of dead weight11055 and amount of dead bias 139\n",
      "amount of dead weight20271 and amount of dead bias 278\n",
      "amount of dead weight139 and amount of dead bias 1\n",
      "amount of dead weight24 and amount of dead bias 40\n",
      "amount of dead weight382 and amount of dead bias 17\n",
      "amount of dead weight2100 and amount of dead bias 231\n",
      "amount of dead weight31720 and amount of dead bias 221\n",
      "amount of dead weight9860 and amount of dead bias 46\n",
      "amount of dead weight1821 and amount of dead bias 34\n",
      "amount of dead weight4225 and amount of dead bias 98\n",
      "amount of dead weight169 and amount of dead bias 2\n"
     ]
    },
    {
     "ename": "TypeError",
     "evalue": "scatter() missing 1 required positional argument: 'y'",
     "output_type": "error",
     "traceback": [
      "\u001b[0;31m---------------------------------------------------------------------------\u001b[0m",
      "\u001b[0;31mTypeError\u001b[0m                                 Traceback (most recent call last)",
      "Cell \u001b[0;32mIn [243], line 9\u001b[0m\n\u001b[1;32m      5\u001b[0m pruner  \u001b[39m=\u001b[39m optuna\u001b[39m.\u001b[39mpruners\u001b[39m.\u001b[39mMedianPruner(n_startup_trials\u001b[39m=\u001b[39m\u001b[39m20\u001b[39m, n_warmup_steps\u001b[39m=\u001b[39m\u001b[39m30\u001b[39m, interval_steps\u001b[39m=\u001b[39m\u001b[39m10\u001b[39m)\n\u001b[1;32m      8\u001b[0m study \u001b[39m=\u001b[39m optuna\u001b[39m.\u001b[39mcreate_study(directions\u001b[39m=\u001b[39m[\u001b[39m\"\u001b[39m\u001b[39mmaximize\u001b[39m\u001b[39m\"\u001b[39m,\u001b[39m\"\u001b[39m\u001b[39mmaximize\u001b[39m\u001b[39m\"\u001b[39m], sampler\u001b[39m=\u001b[39msampler, pruner\u001b[39m=\u001b[39m pruner)\n\u001b[0;32m----> 9\u001b[0m study\u001b[39m.\u001b[39;49moptimize(objective, n_trials\u001b[39m=\u001b[39;49m N_TRAILS)\n\u001b[1;32m     10\u001b[0m \u001b[39m#study.optimize(objective, n_trials=N_TRAILS)\u001b[39;00m\n\u001b[1;32m     11\u001b[0m \u001b[39mprint\u001b[39m(\u001b[39m\"\u001b[39m\u001b[39m----------j-\u001b[39m\u001b[39m\"\u001b[39m)\n",
      "File \u001b[0;32m~/.local/lib/python3.10/site-packages/optuna/study/study.py:425\u001b[0m, in \u001b[0;36mStudy.optimize\u001b[0;34m(self, func, n_trials, timeout, n_jobs, catch, callbacks, gc_after_trial, show_progress_bar)\u001b[0m\n\u001b[1;32m    321\u001b[0m \u001b[39mdef\u001b[39;00m \u001b[39moptimize\u001b[39m(\n\u001b[1;32m    322\u001b[0m     \u001b[39mself\u001b[39m,\n\u001b[1;32m    323\u001b[0m     func: ObjectiveFuncType,\n\u001b[0;32m   (...)\u001b[0m\n\u001b[1;32m    330\u001b[0m     show_progress_bar: \u001b[39mbool\u001b[39m \u001b[39m=\u001b[39m \u001b[39mFalse\u001b[39;00m,\n\u001b[1;32m    331\u001b[0m ) \u001b[39m-\u001b[39m\u001b[39m>\u001b[39m \u001b[39mNone\u001b[39;00m:\n\u001b[1;32m    332\u001b[0m     \u001b[39m\"\"\"Optimize an objective function.\u001b[39;00m\n\u001b[1;32m    333\u001b[0m \n\u001b[1;32m    334\u001b[0m \u001b[39m    Optimization is done by choosing a suitable set of hyperparameter values from a given\u001b[39;00m\n\u001b[0;32m   (...)\u001b[0m\n\u001b[1;32m    422\u001b[0m \u001b[39m            If nested invocation of this method occurs.\u001b[39;00m\n\u001b[1;32m    423\u001b[0m \u001b[39m    \"\"\"\u001b[39;00m\n\u001b[0;32m--> 425\u001b[0m     _optimize(\n\u001b[1;32m    426\u001b[0m         study\u001b[39m=\u001b[39;49m\u001b[39mself\u001b[39;49m,\n\u001b[1;32m    427\u001b[0m         func\u001b[39m=\u001b[39;49mfunc,\n\u001b[1;32m    428\u001b[0m         n_trials\u001b[39m=\u001b[39;49mn_trials,\n\u001b[1;32m    429\u001b[0m         timeout\u001b[39m=\u001b[39;49mtimeout,\n\u001b[1;32m    430\u001b[0m         n_jobs\u001b[39m=\u001b[39;49mn_jobs,\n\u001b[1;32m    431\u001b[0m         catch\u001b[39m=\u001b[39;49m\u001b[39mtuple\u001b[39;49m(catch) \u001b[39mif\u001b[39;49;00m \u001b[39misinstance\u001b[39;49m(catch, Iterable) \u001b[39melse\u001b[39;49;00m (catch,),\n\u001b[1;32m    432\u001b[0m         callbacks\u001b[39m=\u001b[39;49mcallbacks,\n\u001b[1;32m    433\u001b[0m         gc_after_trial\u001b[39m=\u001b[39;49mgc_after_trial,\n\u001b[1;32m    434\u001b[0m         show_progress_bar\u001b[39m=\u001b[39;49mshow_progress_bar,\n\u001b[1;32m    435\u001b[0m     )\n",
      "File \u001b[0;32m~/.local/lib/python3.10/site-packages/optuna/study/_optimize.py:66\u001b[0m, in \u001b[0;36m_optimize\u001b[0;34m(study, func, n_trials, timeout, n_jobs, catch, callbacks, gc_after_trial, show_progress_bar)\u001b[0m\n\u001b[1;32m     64\u001b[0m \u001b[39mtry\u001b[39;00m:\n\u001b[1;32m     65\u001b[0m     \u001b[39mif\u001b[39;00m n_jobs \u001b[39m==\u001b[39m \u001b[39m1\u001b[39m:\n\u001b[0;32m---> 66\u001b[0m         _optimize_sequential(\n\u001b[1;32m     67\u001b[0m             study,\n\u001b[1;32m     68\u001b[0m             func,\n\u001b[1;32m     69\u001b[0m             n_trials,\n\u001b[1;32m     70\u001b[0m             timeout,\n\u001b[1;32m     71\u001b[0m             catch,\n\u001b[1;32m     72\u001b[0m             callbacks,\n\u001b[1;32m     73\u001b[0m             gc_after_trial,\n\u001b[1;32m     74\u001b[0m             reseed_sampler_rng\u001b[39m=\u001b[39;49m\u001b[39mFalse\u001b[39;49;00m,\n\u001b[1;32m     75\u001b[0m             time_start\u001b[39m=\u001b[39;49m\u001b[39mNone\u001b[39;49;00m,\n\u001b[1;32m     76\u001b[0m             progress_bar\u001b[39m=\u001b[39;49mprogress_bar,\n\u001b[1;32m     77\u001b[0m         )\n\u001b[1;32m     78\u001b[0m     \u001b[39melse\u001b[39;00m:\n\u001b[1;32m     79\u001b[0m         \u001b[39mif\u001b[39;00m n_jobs \u001b[39m==\u001b[39m \u001b[39m-\u001b[39m\u001b[39m1\u001b[39m:\n",
      "File \u001b[0;32m~/.local/lib/python3.10/site-packages/optuna/study/_optimize.py:163\u001b[0m, in \u001b[0;36m_optimize_sequential\u001b[0;34m(study, func, n_trials, timeout, catch, callbacks, gc_after_trial, reseed_sampler_rng, time_start, progress_bar)\u001b[0m\n\u001b[1;32m    160\u001b[0m         \u001b[39mbreak\u001b[39;00m\n\u001b[1;32m    162\u001b[0m \u001b[39mtry\u001b[39;00m:\n\u001b[0;32m--> 163\u001b[0m     frozen_trial \u001b[39m=\u001b[39m _run_trial(study, func, catch)\n\u001b[1;32m    164\u001b[0m \u001b[39mfinally\u001b[39;00m:\n\u001b[1;32m    165\u001b[0m     \u001b[39m# The following line mitigates memory problems that can be occurred in some\u001b[39;00m\n\u001b[1;32m    166\u001b[0m     \u001b[39m# environments (e.g., services that use computing containers such as GitHub Actions).\u001b[39;00m\n\u001b[1;32m    167\u001b[0m     \u001b[39m# Please refer to the following PR for further details:\u001b[39;00m\n\u001b[1;32m    168\u001b[0m     \u001b[39m# https://github.com/optuna/optuna/pull/325.\u001b[39;00m\n\u001b[1;32m    169\u001b[0m     \u001b[39mif\u001b[39;00m gc_after_trial:\n",
      "File \u001b[0;32m~/.local/lib/python3.10/site-packages/optuna/study/_optimize.py:251\u001b[0m, in \u001b[0;36m_run_trial\u001b[0;34m(study, func, catch)\u001b[0m\n\u001b[1;32m    244\u001b[0m         \u001b[39massert\u001b[39;00m \u001b[39mFalse\u001b[39;00m, \u001b[39m\"\u001b[39m\u001b[39mShould not reach.\u001b[39m\u001b[39m\"\u001b[39m\n\u001b[1;32m    246\u001b[0m \u001b[39mif\u001b[39;00m (\n\u001b[1;32m    247\u001b[0m     frozen_trial\u001b[39m.\u001b[39mstate \u001b[39m==\u001b[39m TrialState\u001b[39m.\u001b[39mFAIL\n\u001b[1;32m    248\u001b[0m     \u001b[39mand\u001b[39;00m func_err \u001b[39mis\u001b[39;00m \u001b[39mnot\u001b[39;00m \u001b[39mNone\u001b[39;00m\n\u001b[1;32m    249\u001b[0m     \u001b[39mand\u001b[39;00m \u001b[39mnot\u001b[39;00m \u001b[39misinstance\u001b[39m(func_err, catch)\n\u001b[1;32m    250\u001b[0m ):\n\u001b[0;32m--> 251\u001b[0m     \u001b[39mraise\u001b[39;00m func_err\n\u001b[1;32m    252\u001b[0m \u001b[39mreturn\u001b[39;00m frozen_trial\n",
      "File \u001b[0;32m~/.local/lib/python3.10/site-packages/optuna/study/_optimize.py:200\u001b[0m, in \u001b[0;36m_run_trial\u001b[0;34m(study, func, catch)\u001b[0m\n\u001b[1;32m    198\u001b[0m \u001b[39mwith\u001b[39;00m get_heartbeat_thread(trial\u001b[39m.\u001b[39m_trial_id, study\u001b[39m.\u001b[39m_storage):\n\u001b[1;32m    199\u001b[0m     \u001b[39mtry\u001b[39;00m:\n\u001b[0;32m--> 200\u001b[0m         value_or_values \u001b[39m=\u001b[39m func(trial)\n\u001b[1;32m    201\u001b[0m     \u001b[39mexcept\u001b[39;00m exceptions\u001b[39m.\u001b[39mTrialPruned \u001b[39mas\u001b[39;00m e:\n\u001b[1;32m    202\u001b[0m         \u001b[39m# TODO(mamu): Handle multi-objective cases.\u001b[39;00m\n\u001b[1;32m    203\u001b[0m         state \u001b[39m=\u001b[39m TrialState\u001b[39m.\u001b[39mPRUNED\n",
      "Cell \u001b[0;32mIn [242], line 99\u001b[0m, in \u001b[0;36mobjective\u001b[0;34m(trial)\u001b[0m\n\u001b[1;32m     94\u001b[0m         \u001b[39mprint\u001b[39m(\u001b[39mf\u001b[39m\u001b[39m'\u001b[39m\u001b[39mamount of dead weight\u001b[39m\u001b[39m{\u001b[39;00mamount_dead_weights\u001b[39m}\u001b[39;00m\u001b[39m and amount of dead bias \u001b[39m\u001b[39m{\u001b[39;00mamount_dead_bias\u001b[39m}\u001b[39;00m\u001b[39m'\u001b[39m)\n\u001b[1;32m     95\u001b[0m         \u001b[39m#weight[np.abs(weight) < weight_threshold] = 0\u001b[39;00m\n\u001b[1;32m     96\u001b[0m         \u001b[39m#bias[np.abs(bias) < bias_threshold] = 0\u001b[39;00m\n\u001b[1;32m     97\u001b[0m         \u001b[39m#layer.set_weights([weight, weights[1]])\u001b[39;00m\n\u001b[0;32m---> 99\u001b[0m plot_dead_weights(weight_values)\n\u001b[1;32m    100\u001b[0m plot_dead_bias(bias_values)\n\u001b[1;32m    102\u001b[0m plot_dead_weights(bias_values_deat)\n",
      "Cell \u001b[0;32mIn [240], line 2\u001b[0m, in \u001b[0;36mplot_dead_weights\u001b[0;34m(weight_values)\u001b[0m\n\u001b[1;32m      1\u001b[0m \u001b[39mdef\u001b[39;00m \u001b[39mplot_dead_weights\u001b[39m(weight_values: List):\n\u001b[0;32m----> 2\u001b[0m     plt\u001b[39m.\u001b[39;49mscatter(weight_values, label\u001b[39m=\u001b[39;49m\u001b[39m'\u001b[39;49m\u001b[39mAmount ofWeight Values\u001b[39;49m\u001b[39m'\u001b[39;49m)\n\u001b[1;32m      3\u001b[0m     plt\u001b[39m.\u001b[39mxlabel(\u001b[39m'\u001b[39m\u001b[39mLayer Index\u001b[39m\u001b[39m'\u001b[39m)\n\u001b[1;32m      4\u001b[0m     plt\u001b[39m.\u001b[39mylabel(\u001b[39m'\u001b[39m\u001b[39mValue\u001b[39m\u001b[39m'\u001b[39m)\n",
      "\u001b[0;31mTypeError\u001b[0m: scatter() missing 1 required positional argument: 'y'"
     ]
    }
   ],
   "source": [
    "print(\"-----------\")\n",
    "#sampler = optuna.samplers.TPESampler(seed=10) TODO\n",
    "#sampler = optuna.samplers.RandomSampler(seed=RANDOM_SEED)\n",
    "sampler = optuna.samplers.NSGAIISampler()\n",
    "pruner  = optuna.pruners.MedianPruner(n_startup_trials=20, n_warmup_steps=30, interval_steps=10)\n",
    "\n",
    "    \n",
    "study = optuna.create_study(directions=[\"maximize\",\"maximize\"], sampler=sampler, pruner= pruner)\n",
    "study.optimize(objective, n_trials= N_TRAILS)\n",
    "#study.optimize(objective, n_trials=N_TRAILS)\n",
    "print(\"----------j-\")\n"
   ]
  },
  {
   "cell_type": "code",
   "execution_count": 244,
   "metadata": {},
   "outputs": [
    {
     "name": "stderr",
     "output_type": "stream",
     "text": [
      "\u001b[33m[W 2023-02-10 11:56:39,751]\u001b[0m Your study does not have any completed trials.\u001b[0m\n"
     ]
    },
    {
     "name": "stdout",
     "output_type": "stream",
     "text": [
      "-----------\n"
     ]
    },
    {
     "data": {
      "application/vnd.plotly.v1+json": {
       "config": {
        "plotlyServerURL": "https://plot.ly"
       },
       "data": [
        {
         "hovertemplate": "%{text}<extra>Trial</extra>",
         "marker": {
          "color": [],
          "colorbar": {
           "title": {
            "text": "Trial"
           }
          },
          "colorscale": [
           [
            0,
            "rgb(247,251,255)"
           ],
           [
            0.125,
            "rgb(222,235,247)"
           ],
           [
            0.25,
            "rgb(198,219,239)"
           ],
           [
            0.375,
            "rgb(158,202,225)"
           ],
           [
            0.5,
            "rgb(107,174,214)"
           ],
           [
            0.625,
            "rgb(66,146,198)"
           ],
           [
            0.75,
            "rgb(33,113,181)"
           ],
           [
            0.875,
            "rgb(8,81,156)"
           ],
           [
            1,
            "rgb(8,48,107)"
           ]
          ],
          "line": {
           "color": "Grey",
           "width": 0.5
          }
         },
         "mode": "markers",
         "showlegend": false,
         "text": [],
         "type": "scatter",
         "x": [],
         "y": []
        },
        {
         "hovertemplate": "%{text}<extra>Best Trial</extra>",
         "marker": {
          "color": [],
          "colorbar": {
           "title": {
            "text": "Best Trial"
           },
           "x": 1.1,
           "xpad": 40
          },
          "colorscale": [
           [
            0,
            "rgb(255,245,240)"
           ],
           [
            0.125,
            "rgb(254,224,210)"
           ],
           [
            0.25,
            "rgb(252,187,161)"
           ],
           [
            0.375,
            "rgb(252,146,114)"
           ],
           [
            0.5,
            "rgb(251,106,74)"
           ],
           [
            0.625,
            "rgb(239,59,44)"
           ],
           [
            0.75,
            "rgb(203,24,29)"
           ],
           [
            0.875,
            "rgb(165,15,21)"
           ],
           [
            1,
            "rgb(103,0,13)"
           ]
          ],
          "line": {
           "color": "Grey",
           "width": 0.5
          }
         },
         "mode": "markers",
         "showlegend": false,
         "text": [],
         "type": "scatter",
         "x": [],
         "y": []
        }
       ],
       "layout": {
        "template": {
         "data": {
          "bar": [
           {
            "error_x": {
             "color": "#2a3f5f"
            },
            "error_y": {
             "color": "#2a3f5f"
            },
            "marker": {
             "line": {
              "color": "#E5ECF6",
              "width": 0.5
             },
             "pattern": {
              "fillmode": "overlay",
              "size": 10,
              "solidity": 0.2
             }
            },
            "type": "bar"
           }
          ],
          "barpolar": [
           {
            "marker": {
             "line": {
              "color": "#E5ECF6",
              "width": 0.5
             },
             "pattern": {
              "fillmode": "overlay",
              "size": 10,
              "solidity": 0.2
             }
            },
            "type": "barpolar"
           }
          ],
          "carpet": [
           {
            "aaxis": {
             "endlinecolor": "#2a3f5f",
             "gridcolor": "white",
             "linecolor": "white",
             "minorgridcolor": "white",
             "startlinecolor": "#2a3f5f"
            },
            "baxis": {
             "endlinecolor": "#2a3f5f",
             "gridcolor": "white",
             "linecolor": "white",
             "minorgridcolor": "white",
             "startlinecolor": "#2a3f5f"
            },
            "type": "carpet"
           }
          ],
          "choropleth": [
           {
            "colorbar": {
             "outlinewidth": 0,
             "ticks": ""
            },
            "type": "choropleth"
           }
          ],
          "contour": [
           {
            "colorbar": {
             "outlinewidth": 0,
             "ticks": ""
            },
            "colorscale": [
             [
              0,
              "#0d0887"
             ],
             [
              0.1111111111111111,
              "#46039f"
             ],
             [
              0.2222222222222222,
              "#7201a8"
             ],
             [
              0.3333333333333333,
              "#9c179e"
             ],
             [
              0.4444444444444444,
              "#bd3786"
             ],
             [
              0.5555555555555556,
              "#d8576b"
             ],
             [
              0.6666666666666666,
              "#ed7953"
             ],
             [
              0.7777777777777778,
              "#fb9f3a"
             ],
             [
              0.8888888888888888,
              "#fdca26"
             ],
             [
              1,
              "#f0f921"
             ]
            ],
            "type": "contour"
           }
          ],
          "contourcarpet": [
           {
            "colorbar": {
             "outlinewidth": 0,
             "ticks": ""
            },
            "type": "contourcarpet"
           }
          ],
          "heatmap": [
           {
            "colorbar": {
             "outlinewidth": 0,
             "ticks": ""
            },
            "colorscale": [
             [
              0,
              "#0d0887"
             ],
             [
              0.1111111111111111,
              "#46039f"
             ],
             [
              0.2222222222222222,
              "#7201a8"
             ],
             [
              0.3333333333333333,
              "#9c179e"
             ],
             [
              0.4444444444444444,
              "#bd3786"
             ],
             [
              0.5555555555555556,
              "#d8576b"
             ],
             [
              0.6666666666666666,
              "#ed7953"
             ],
             [
              0.7777777777777778,
              "#fb9f3a"
             ],
             [
              0.8888888888888888,
              "#fdca26"
             ],
             [
              1,
              "#f0f921"
             ]
            ],
            "type": "heatmap"
           }
          ],
          "heatmapgl": [
           {
            "colorbar": {
             "outlinewidth": 0,
             "ticks": ""
            },
            "colorscale": [
             [
              0,
              "#0d0887"
             ],
             [
              0.1111111111111111,
              "#46039f"
             ],
             [
              0.2222222222222222,
              "#7201a8"
             ],
             [
              0.3333333333333333,
              "#9c179e"
             ],
             [
              0.4444444444444444,
              "#bd3786"
             ],
             [
              0.5555555555555556,
              "#d8576b"
             ],
             [
              0.6666666666666666,
              "#ed7953"
             ],
             [
              0.7777777777777778,
              "#fb9f3a"
             ],
             [
              0.8888888888888888,
              "#fdca26"
             ],
             [
              1,
              "#f0f921"
             ]
            ],
            "type": "heatmapgl"
           }
          ],
          "histogram": [
           {
            "marker": {
             "pattern": {
              "fillmode": "overlay",
              "size": 10,
              "solidity": 0.2
             }
            },
            "type": "histogram"
           }
          ],
          "histogram2d": [
           {
            "colorbar": {
             "outlinewidth": 0,
             "ticks": ""
            },
            "colorscale": [
             [
              0,
              "#0d0887"
             ],
             [
              0.1111111111111111,
              "#46039f"
             ],
             [
              0.2222222222222222,
              "#7201a8"
             ],
             [
              0.3333333333333333,
              "#9c179e"
             ],
             [
              0.4444444444444444,
              "#bd3786"
             ],
             [
              0.5555555555555556,
              "#d8576b"
             ],
             [
              0.6666666666666666,
              "#ed7953"
             ],
             [
              0.7777777777777778,
              "#fb9f3a"
             ],
             [
              0.8888888888888888,
              "#fdca26"
             ],
             [
              1,
              "#f0f921"
             ]
            ],
            "type": "histogram2d"
           }
          ],
          "histogram2dcontour": [
           {
            "colorbar": {
             "outlinewidth": 0,
             "ticks": ""
            },
            "colorscale": [
             [
              0,
              "#0d0887"
             ],
             [
              0.1111111111111111,
              "#46039f"
             ],
             [
              0.2222222222222222,
              "#7201a8"
             ],
             [
              0.3333333333333333,
              "#9c179e"
             ],
             [
              0.4444444444444444,
              "#bd3786"
             ],
             [
              0.5555555555555556,
              "#d8576b"
             ],
             [
              0.6666666666666666,
              "#ed7953"
             ],
             [
              0.7777777777777778,
              "#fb9f3a"
             ],
             [
              0.8888888888888888,
              "#fdca26"
             ],
             [
              1,
              "#f0f921"
             ]
            ],
            "type": "histogram2dcontour"
           }
          ],
          "mesh3d": [
           {
            "colorbar": {
             "outlinewidth": 0,
             "ticks": ""
            },
            "type": "mesh3d"
           }
          ],
          "parcoords": [
           {
            "line": {
             "colorbar": {
              "outlinewidth": 0,
              "ticks": ""
             }
            },
            "type": "parcoords"
           }
          ],
          "pie": [
           {
            "automargin": true,
            "type": "pie"
           }
          ],
          "scatter": [
           {
            "fillpattern": {
             "fillmode": "overlay",
             "size": 10,
             "solidity": 0.2
            },
            "type": "scatter"
           }
          ],
          "scatter3d": [
           {
            "line": {
             "colorbar": {
              "outlinewidth": 0,
              "ticks": ""
             }
            },
            "marker": {
             "colorbar": {
              "outlinewidth": 0,
              "ticks": ""
             }
            },
            "type": "scatter3d"
           }
          ],
          "scattercarpet": [
           {
            "marker": {
             "colorbar": {
              "outlinewidth": 0,
              "ticks": ""
             }
            },
            "type": "scattercarpet"
           }
          ],
          "scattergeo": [
           {
            "marker": {
             "colorbar": {
              "outlinewidth": 0,
              "ticks": ""
             }
            },
            "type": "scattergeo"
           }
          ],
          "scattergl": [
           {
            "marker": {
             "colorbar": {
              "outlinewidth": 0,
              "ticks": ""
             }
            },
            "type": "scattergl"
           }
          ],
          "scattermapbox": [
           {
            "marker": {
             "colorbar": {
              "outlinewidth": 0,
              "ticks": ""
             }
            },
            "type": "scattermapbox"
           }
          ],
          "scatterpolar": [
           {
            "marker": {
             "colorbar": {
              "outlinewidth": 0,
              "ticks": ""
             }
            },
            "type": "scatterpolar"
           }
          ],
          "scatterpolargl": [
           {
            "marker": {
             "colorbar": {
              "outlinewidth": 0,
              "ticks": ""
             }
            },
            "type": "scatterpolargl"
           }
          ],
          "scatterternary": [
           {
            "marker": {
             "colorbar": {
              "outlinewidth": 0,
              "ticks": ""
             }
            },
            "type": "scatterternary"
           }
          ],
          "surface": [
           {
            "colorbar": {
             "outlinewidth": 0,
             "ticks": ""
            },
            "colorscale": [
             [
              0,
              "#0d0887"
             ],
             [
              0.1111111111111111,
              "#46039f"
             ],
             [
              0.2222222222222222,
              "#7201a8"
             ],
             [
              0.3333333333333333,
              "#9c179e"
             ],
             [
              0.4444444444444444,
              "#bd3786"
             ],
             [
              0.5555555555555556,
              "#d8576b"
             ],
             [
              0.6666666666666666,
              "#ed7953"
             ],
             [
              0.7777777777777778,
              "#fb9f3a"
             ],
             [
              0.8888888888888888,
              "#fdca26"
             ],
             [
              1,
              "#f0f921"
             ]
            ],
            "type": "surface"
           }
          ],
          "table": [
           {
            "cells": {
             "fill": {
              "color": "#EBF0F8"
             },
             "line": {
              "color": "white"
             }
            },
            "header": {
             "fill": {
              "color": "#C8D4E3"
             },
             "line": {
              "color": "white"
             }
            },
            "type": "table"
           }
          ]
         },
         "layout": {
          "annotationdefaults": {
           "arrowcolor": "#2a3f5f",
           "arrowhead": 0,
           "arrowwidth": 1
          },
          "autotypenumbers": "strict",
          "coloraxis": {
           "colorbar": {
            "outlinewidth": 0,
            "ticks": ""
           }
          },
          "colorscale": {
           "diverging": [
            [
             0,
             "#8e0152"
            ],
            [
             0.1,
             "#c51b7d"
            ],
            [
             0.2,
             "#de77ae"
            ],
            [
             0.3,
             "#f1b6da"
            ],
            [
             0.4,
             "#fde0ef"
            ],
            [
             0.5,
             "#f7f7f7"
            ],
            [
             0.6,
             "#e6f5d0"
            ],
            [
             0.7,
             "#b8e186"
            ],
            [
             0.8,
             "#7fbc41"
            ],
            [
             0.9,
             "#4d9221"
            ],
            [
             1,
             "#276419"
            ]
           ],
           "sequential": [
            [
             0,
             "#0d0887"
            ],
            [
             0.1111111111111111,
             "#46039f"
            ],
            [
             0.2222222222222222,
             "#7201a8"
            ],
            [
             0.3333333333333333,
             "#9c179e"
            ],
            [
             0.4444444444444444,
             "#bd3786"
            ],
            [
             0.5555555555555556,
             "#d8576b"
            ],
            [
             0.6666666666666666,
             "#ed7953"
            ],
            [
             0.7777777777777778,
             "#fb9f3a"
            ],
            [
             0.8888888888888888,
             "#fdca26"
            ],
            [
             1,
             "#f0f921"
            ]
           ],
           "sequentialminus": [
            [
             0,
             "#0d0887"
            ],
            [
             0.1111111111111111,
             "#46039f"
            ],
            [
             0.2222222222222222,
             "#7201a8"
            ],
            [
             0.3333333333333333,
             "#9c179e"
            ],
            [
             0.4444444444444444,
             "#bd3786"
            ],
            [
             0.5555555555555556,
             "#d8576b"
            ],
            [
             0.6666666666666666,
             "#ed7953"
            ],
            [
             0.7777777777777778,
             "#fb9f3a"
            ],
            [
             0.8888888888888888,
             "#fdca26"
            ],
            [
             1,
             "#f0f921"
            ]
           ]
          },
          "colorway": [
           "#636efa",
           "#EF553B",
           "#00cc96",
           "#ab63fa",
           "#FFA15A",
           "#19d3f3",
           "#FF6692",
           "#B6E880",
           "#FF97FF",
           "#FECB52"
          ],
          "font": {
           "color": "#2a3f5f"
          },
          "geo": {
           "bgcolor": "white",
           "lakecolor": "white",
           "landcolor": "#E5ECF6",
           "showlakes": true,
           "showland": true,
           "subunitcolor": "white"
          },
          "hoverlabel": {
           "align": "left"
          },
          "hovermode": "closest",
          "mapbox": {
           "style": "light"
          },
          "paper_bgcolor": "white",
          "plot_bgcolor": "#E5ECF6",
          "polar": {
           "angularaxis": {
            "gridcolor": "white",
            "linecolor": "white",
            "ticks": ""
           },
           "bgcolor": "#E5ECF6",
           "radialaxis": {
            "gridcolor": "white",
            "linecolor": "white",
            "ticks": ""
           }
          },
          "scene": {
           "xaxis": {
            "backgroundcolor": "#E5ECF6",
            "gridcolor": "white",
            "gridwidth": 2,
            "linecolor": "white",
            "showbackground": true,
            "ticks": "",
            "zerolinecolor": "white"
           },
           "yaxis": {
            "backgroundcolor": "#E5ECF6",
            "gridcolor": "white",
            "gridwidth": 2,
            "linecolor": "white",
            "showbackground": true,
            "ticks": "",
            "zerolinecolor": "white"
           },
           "zaxis": {
            "backgroundcolor": "#E5ECF6",
            "gridcolor": "white",
            "gridwidth": 2,
            "linecolor": "white",
            "showbackground": true,
            "ticks": "",
            "zerolinecolor": "white"
           }
          },
          "shapedefaults": {
           "line": {
            "color": "#2a3f5f"
           }
          },
          "ternary": {
           "aaxis": {
            "gridcolor": "white",
            "linecolor": "white",
            "ticks": ""
           },
           "baxis": {
            "gridcolor": "white",
            "linecolor": "white",
            "ticks": ""
           },
           "bgcolor": "#E5ECF6",
           "caxis": {
            "gridcolor": "white",
            "linecolor": "white",
            "ticks": ""
           }
          },
          "title": {
           "x": 0.05
          },
          "xaxis": {
           "automargin": true,
           "gridcolor": "white",
           "linecolor": "white",
           "ticks": "",
           "title": {
            "standoff": 15
           },
           "zerolinecolor": "white",
           "zerolinewidth": 2
          },
          "yaxis": {
           "automargin": true,
           "gridcolor": "white",
           "linecolor": "white",
           "ticks": "",
           "title": {
            "standoff": 15
           },
           "zerolinecolor": "white",
           "zerolinewidth": 2
          }
         }
        },
        "title": {
         "text": "Pareto-front Plot"
        },
        "xaxis": {
         "title": {
          "text": "Objective 0"
         }
        },
        "yaxis": {
         "title": {
          "text": "Objective 1"
         }
        }
       }
      }
     },
     "metadata": {},
     "output_type": "display_data"
    },
    {
     "name": "stderr",
     "output_type": "stream",
     "text": [
      "\u001b[33m[W 2023-02-10 11:56:39,767]\u001b[0m Study instance does not contain completed trials.\u001b[0m\n"
     ]
    },
    {
     "data": {
      "application/vnd.plotly.v1+json": {
       "config": {
        "plotlyServerURL": "https://plot.ly"
       },
       "data": [],
       "layout": {
        "showlegend": false,
        "template": {
         "data": {
          "bar": [
           {
            "error_x": {
             "color": "#2a3f5f"
            },
            "error_y": {
             "color": "#2a3f5f"
            },
            "marker": {
             "line": {
              "color": "#E5ECF6",
              "width": 0.5
             },
             "pattern": {
              "fillmode": "overlay",
              "size": 10,
              "solidity": 0.2
             }
            },
            "type": "bar"
           }
          ],
          "barpolar": [
           {
            "marker": {
             "line": {
              "color": "#E5ECF6",
              "width": 0.5
             },
             "pattern": {
              "fillmode": "overlay",
              "size": 10,
              "solidity": 0.2
             }
            },
            "type": "barpolar"
           }
          ],
          "carpet": [
           {
            "aaxis": {
             "endlinecolor": "#2a3f5f",
             "gridcolor": "white",
             "linecolor": "white",
             "minorgridcolor": "white",
             "startlinecolor": "#2a3f5f"
            },
            "baxis": {
             "endlinecolor": "#2a3f5f",
             "gridcolor": "white",
             "linecolor": "white",
             "minorgridcolor": "white",
             "startlinecolor": "#2a3f5f"
            },
            "type": "carpet"
           }
          ],
          "choropleth": [
           {
            "colorbar": {
             "outlinewidth": 0,
             "ticks": ""
            },
            "type": "choropleth"
           }
          ],
          "contour": [
           {
            "colorbar": {
             "outlinewidth": 0,
             "ticks": ""
            },
            "colorscale": [
             [
              0,
              "#0d0887"
             ],
             [
              0.1111111111111111,
              "#46039f"
             ],
             [
              0.2222222222222222,
              "#7201a8"
             ],
             [
              0.3333333333333333,
              "#9c179e"
             ],
             [
              0.4444444444444444,
              "#bd3786"
             ],
             [
              0.5555555555555556,
              "#d8576b"
             ],
             [
              0.6666666666666666,
              "#ed7953"
             ],
             [
              0.7777777777777778,
              "#fb9f3a"
             ],
             [
              0.8888888888888888,
              "#fdca26"
             ],
             [
              1,
              "#f0f921"
             ]
            ],
            "type": "contour"
           }
          ],
          "contourcarpet": [
           {
            "colorbar": {
             "outlinewidth": 0,
             "ticks": ""
            },
            "type": "contourcarpet"
           }
          ],
          "heatmap": [
           {
            "colorbar": {
             "outlinewidth": 0,
             "ticks": ""
            },
            "colorscale": [
             [
              0,
              "#0d0887"
             ],
             [
              0.1111111111111111,
              "#46039f"
             ],
             [
              0.2222222222222222,
              "#7201a8"
             ],
             [
              0.3333333333333333,
              "#9c179e"
             ],
             [
              0.4444444444444444,
              "#bd3786"
             ],
             [
              0.5555555555555556,
              "#d8576b"
             ],
             [
              0.6666666666666666,
              "#ed7953"
             ],
             [
              0.7777777777777778,
              "#fb9f3a"
             ],
             [
              0.8888888888888888,
              "#fdca26"
             ],
             [
              1,
              "#f0f921"
             ]
            ],
            "type": "heatmap"
           }
          ],
          "heatmapgl": [
           {
            "colorbar": {
             "outlinewidth": 0,
             "ticks": ""
            },
            "colorscale": [
             [
              0,
              "#0d0887"
             ],
             [
              0.1111111111111111,
              "#46039f"
             ],
             [
              0.2222222222222222,
              "#7201a8"
             ],
             [
              0.3333333333333333,
              "#9c179e"
             ],
             [
              0.4444444444444444,
              "#bd3786"
             ],
             [
              0.5555555555555556,
              "#d8576b"
             ],
             [
              0.6666666666666666,
              "#ed7953"
             ],
             [
              0.7777777777777778,
              "#fb9f3a"
             ],
             [
              0.8888888888888888,
              "#fdca26"
             ],
             [
              1,
              "#f0f921"
             ]
            ],
            "type": "heatmapgl"
           }
          ],
          "histogram": [
           {
            "marker": {
             "pattern": {
              "fillmode": "overlay",
              "size": 10,
              "solidity": 0.2
             }
            },
            "type": "histogram"
           }
          ],
          "histogram2d": [
           {
            "colorbar": {
             "outlinewidth": 0,
             "ticks": ""
            },
            "colorscale": [
             [
              0,
              "#0d0887"
             ],
             [
              0.1111111111111111,
              "#46039f"
             ],
             [
              0.2222222222222222,
              "#7201a8"
             ],
             [
              0.3333333333333333,
              "#9c179e"
             ],
             [
              0.4444444444444444,
              "#bd3786"
             ],
             [
              0.5555555555555556,
              "#d8576b"
             ],
             [
              0.6666666666666666,
              "#ed7953"
             ],
             [
              0.7777777777777778,
              "#fb9f3a"
             ],
             [
              0.8888888888888888,
              "#fdca26"
             ],
             [
              1,
              "#f0f921"
             ]
            ],
            "type": "histogram2d"
           }
          ],
          "histogram2dcontour": [
           {
            "colorbar": {
             "outlinewidth": 0,
             "ticks": ""
            },
            "colorscale": [
             [
              0,
              "#0d0887"
             ],
             [
              0.1111111111111111,
              "#46039f"
             ],
             [
              0.2222222222222222,
              "#7201a8"
             ],
             [
              0.3333333333333333,
              "#9c179e"
             ],
             [
              0.4444444444444444,
              "#bd3786"
             ],
             [
              0.5555555555555556,
              "#d8576b"
             ],
             [
              0.6666666666666666,
              "#ed7953"
             ],
             [
              0.7777777777777778,
              "#fb9f3a"
             ],
             [
              0.8888888888888888,
              "#fdca26"
             ],
             [
              1,
              "#f0f921"
             ]
            ],
            "type": "histogram2dcontour"
           }
          ],
          "mesh3d": [
           {
            "colorbar": {
             "outlinewidth": 0,
             "ticks": ""
            },
            "type": "mesh3d"
           }
          ],
          "parcoords": [
           {
            "line": {
             "colorbar": {
              "outlinewidth": 0,
              "ticks": ""
             }
            },
            "type": "parcoords"
           }
          ],
          "pie": [
           {
            "automargin": true,
            "type": "pie"
           }
          ],
          "scatter": [
           {
            "fillpattern": {
             "fillmode": "overlay",
             "size": 10,
             "solidity": 0.2
            },
            "type": "scatter"
           }
          ],
          "scatter3d": [
           {
            "line": {
             "colorbar": {
              "outlinewidth": 0,
              "ticks": ""
             }
            },
            "marker": {
             "colorbar": {
              "outlinewidth": 0,
              "ticks": ""
             }
            },
            "type": "scatter3d"
           }
          ],
          "scattercarpet": [
           {
            "marker": {
             "colorbar": {
              "outlinewidth": 0,
              "ticks": ""
             }
            },
            "type": "scattercarpet"
           }
          ],
          "scattergeo": [
           {
            "marker": {
             "colorbar": {
              "outlinewidth": 0,
              "ticks": ""
             }
            },
            "type": "scattergeo"
           }
          ],
          "scattergl": [
           {
            "marker": {
             "colorbar": {
              "outlinewidth": 0,
              "ticks": ""
             }
            },
            "type": "scattergl"
           }
          ],
          "scattermapbox": [
           {
            "marker": {
             "colorbar": {
              "outlinewidth": 0,
              "ticks": ""
             }
            },
            "type": "scattermapbox"
           }
          ],
          "scatterpolar": [
           {
            "marker": {
             "colorbar": {
              "outlinewidth": 0,
              "ticks": ""
             }
            },
            "type": "scatterpolar"
           }
          ],
          "scatterpolargl": [
           {
            "marker": {
             "colorbar": {
              "outlinewidth": 0,
              "ticks": ""
             }
            },
            "type": "scatterpolargl"
           }
          ],
          "scatterternary": [
           {
            "marker": {
             "colorbar": {
              "outlinewidth": 0,
              "ticks": ""
             }
            },
            "type": "scatterternary"
           }
          ],
          "surface": [
           {
            "colorbar": {
             "outlinewidth": 0,
             "ticks": ""
            },
            "colorscale": [
             [
              0,
              "#0d0887"
             ],
             [
              0.1111111111111111,
              "#46039f"
             ],
             [
              0.2222222222222222,
              "#7201a8"
             ],
             [
              0.3333333333333333,
              "#9c179e"
             ],
             [
              0.4444444444444444,
              "#bd3786"
             ],
             [
              0.5555555555555556,
              "#d8576b"
             ],
             [
              0.6666666666666666,
              "#ed7953"
             ],
             [
              0.7777777777777778,
              "#fb9f3a"
             ],
             [
              0.8888888888888888,
              "#fdca26"
             ],
             [
              1,
              "#f0f921"
             ]
            ],
            "type": "surface"
           }
          ],
          "table": [
           {
            "cells": {
             "fill": {
              "color": "#EBF0F8"
             },
             "line": {
              "color": "white"
             }
            },
            "header": {
             "fill": {
              "color": "#C8D4E3"
             },
             "line": {
              "color": "white"
             }
            },
            "type": "table"
           }
          ]
         },
         "layout": {
          "annotationdefaults": {
           "arrowcolor": "#2a3f5f",
           "arrowhead": 0,
           "arrowwidth": 1
          },
          "autotypenumbers": "strict",
          "coloraxis": {
           "colorbar": {
            "outlinewidth": 0,
            "ticks": ""
           }
          },
          "colorscale": {
           "diverging": [
            [
             0,
             "#8e0152"
            ],
            [
             0.1,
             "#c51b7d"
            ],
            [
             0.2,
             "#de77ae"
            ],
            [
             0.3,
             "#f1b6da"
            ],
            [
             0.4,
             "#fde0ef"
            ],
            [
             0.5,
             "#f7f7f7"
            ],
            [
             0.6,
             "#e6f5d0"
            ],
            [
             0.7,
             "#b8e186"
            ],
            [
             0.8,
             "#7fbc41"
            ],
            [
             0.9,
             "#4d9221"
            ],
            [
             1,
             "#276419"
            ]
           ],
           "sequential": [
            [
             0,
             "#0d0887"
            ],
            [
             0.1111111111111111,
             "#46039f"
            ],
            [
             0.2222222222222222,
             "#7201a8"
            ],
            [
             0.3333333333333333,
             "#9c179e"
            ],
            [
             0.4444444444444444,
             "#bd3786"
            ],
            [
             0.5555555555555556,
             "#d8576b"
            ],
            [
             0.6666666666666666,
             "#ed7953"
            ],
            [
             0.7777777777777778,
             "#fb9f3a"
            ],
            [
             0.8888888888888888,
             "#fdca26"
            ],
            [
             1,
             "#f0f921"
            ]
           ],
           "sequentialminus": [
            [
             0,
             "#0d0887"
            ],
            [
             0.1111111111111111,
             "#46039f"
            ],
            [
             0.2222222222222222,
             "#7201a8"
            ],
            [
             0.3333333333333333,
             "#9c179e"
            ],
            [
             0.4444444444444444,
             "#bd3786"
            ],
            [
             0.5555555555555556,
             "#d8576b"
            ],
            [
             0.6666666666666666,
             "#ed7953"
            ],
            [
             0.7777777777777778,
             "#fb9f3a"
            ],
            [
             0.8888888888888888,
             "#fdca26"
            ],
            [
             1,
             "#f0f921"
            ]
           ]
          },
          "colorway": [
           "#636efa",
           "#EF553B",
           "#00cc96",
           "#ab63fa",
           "#FFA15A",
           "#19d3f3",
           "#FF6692",
           "#B6E880",
           "#FF97FF",
           "#FECB52"
          ],
          "font": {
           "color": "#2a3f5f"
          },
          "geo": {
           "bgcolor": "white",
           "lakecolor": "white",
           "landcolor": "#E5ECF6",
           "showlakes": true,
           "showland": true,
           "subunitcolor": "white"
          },
          "hoverlabel": {
           "align": "left"
          },
          "hovermode": "closest",
          "mapbox": {
           "style": "light"
          },
          "paper_bgcolor": "white",
          "plot_bgcolor": "#E5ECF6",
          "polar": {
           "angularaxis": {
            "gridcolor": "white",
            "linecolor": "white",
            "ticks": ""
           },
           "bgcolor": "#E5ECF6",
           "radialaxis": {
            "gridcolor": "white",
            "linecolor": "white",
            "ticks": ""
           }
          },
          "scene": {
           "xaxis": {
            "backgroundcolor": "#E5ECF6",
            "gridcolor": "white",
            "gridwidth": 2,
            "linecolor": "white",
            "showbackground": true,
            "ticks": "",
            "zerolinecolor": "white"
           },
           "yaxis": {
            "backgroundcolor": "#E5ECF6",
            "gridcolor": "white",
            "gridwidth": 2,
            "linecolor": "white",
            "showbackground": true,
            "ticks": "",
            "zerolinecolor": "white"
           },
           "zaxis": {
            "backgroundcolor": "#E5ECF6",
            "gridcolor": "white",
            "gridwidth": 2,
            "linecolor": "white",
            "showbackground": true,
            "ticks": "",
            "zerolinecolor": "white"
           }
          },
          "shapedefaults": {
           "line": {
            "color": "#2a3f5f"
           }
          },
          "ternary": {
           "aaxis": {
            "gridcolor": "white",
            "linecolor": "white",
            "ticks": ""
           },
           "baxis": {
            "gridcolor": "white",
            "linecolor": "white",
            "ticks": ""
           },
           "bgcolor": "#E5ECF6",
           "caxis": {
            "gridcolor": "white",
            "linecolor": "white",
            "ticks": ""
           }
          },
          "title": {
           "x": 0.05
          },
          "xaxis": {
           "automargin": true,
           "gridcolor": "white",
           "linecolor": "white",
           "ticks": "",
           "title": {
            "standoff": 15
           },
           "zerolinecolor": "white",
           "zerolinewidth": 2
          },
          "yaxis": {
           "automargin": true,
           "gridcolor": "white",
           "linecolor": "white",
           "ticks": "",
           "title": {
            "standoff": 15
           },
           "zerolinecolor": "white",
           "zerolinewidth": 2
          }
         }
        },
        "title": {
         "text": "Hyperparameter Importances"
        },
        "xaxis": {
         "title": {
          "text": "Importance for accurcy"
         }
        },
        "yaxis": {
         "title": {
          "text": "Hyperparameter"
         }
        }
       }
      }
     },
     "metadata": {},
     "output_type": "display_data"
    }
   ],
   "source": [
    "\n",
    "#pareto_front = study.get_pareto_front_trials()\n",
    "pareto_front = study.best_trials\n",
    "\n",
    "#frozen trial= snapshot of a trial at a specific point in time\n",
    "for trial in pareto_front:\n",
    "    print(\"Trial number:\", trial.number)\n",
    "    print(\"state:\", trial.params)\n",
    "    #objective_values = trial.values\n",
    "    #objective_values = [obj.value for obj in trial.val]\n",
    "    print(\"Objective values:\", trial.values)\n",
    "    \n",
    "    #trial.report()\n",
    "    #print(\"Objective intermediate_values:\", trial.intermediate_values)\n",
    "    # Access other information of the trial as needed.\n",
    "\n",
    "\n",
    "#trial = study.best_trial\n",
    "    print('Accuracy: {}'.format(trial.values))\n",
    "    print(\"Best hyperparameters: {}\".format(trial.params))\n",
    "    print(\"-----------\")\n",
    "\n",
    "target_index = 0\n",
    "#optuna.visualization.plot_optimization_history(study=study,target = target_index, target_name=\"Objective 1\")\n",
    "#plt.show()\n",
    "print(\"-----------\")\n",
    "#optuna.visualization.plot_slice(study)\n",
    "#optuna.visualization.plot_pareto_front(study)\n",
    "\n",
    "optuna.visualization.plot_pareto_front(study, target_names=[\"accuracy\", \"weights\",\"bias\"]).show()\n",
    "optuna.visualization.plot_param_importances( study, target=lambda t: t.values[0], target_name=\"accurcy\").show()\n"
   ]
  },
  {
   "attachments": {},
   "cell_type": "markdown",
   "metadata": {},
   "source": [
    "The set of all non-dominated solutions is referred to as the Pareto front. The Pareto front represents the trade-off between the objectives and provides insight into the optimal solutions. Solutions on the Pareto front are often called Pareto-optimal solutions."
   ]
  },
  {
   "cell_type": "code",
   "execution_count": 236,
   "metadata": {},
   "outputs": [],
   "source": [
    "# Narrowest search space but it doesn't include the global optimum point.\n",
    "#study2 = optuna.create_study(study_name=\"x=[1,3), y=[1,3)\", sampler=sampler)\n",
    "#study2.optimize(lambda t: objective(t, 1, 5, MIN_NEURON_PER_LAYER,MAX_NEURON_PER_LAYER), n_trials=10)\n",
    "\n",
    "#study3 = optuna.create_study(study_name=\"x=[1,3), y=[1,3)\", sampler=sampler)\n",
    "#study3.optimize(lambda t: objective(t, 0, 5, MIN_NEURON_PER_LAYER,MAX_NEURON_PER_LAYER), n_trials=500)\n",
    "\n",
    "\n",
    "#fig = optuna.visualization.plot_edf([study,study2])\n",
    "#fig.show()"
   ]
  },
  {
   "cell_type": "code",
   "execution_count": 237,
   "metadata": {},
   "outputs": [],
   "source": [
    "#Plot intermediate values of all trials in a study\n",
    "#fig = optuna.visualization.plot_intermediate_values(study)\n",
    "#fig.show()"
   ]
  },
  {
   "cell_type": "code",
   "execution_count": 238,
   "metadata": {},
   "outputs": [],
   "source": [
    "#Plot optimization history of all trials in a study\n",
    "#fig = optuna.visualization.plot_optimization_history(study)\n",
    "#fig.show()"
   ]
  },
  {
   "cell_type": "code",
   "execution_count": 239,
   "metadata": {},
   "outputs": [
    {
     "ename": "ValueError",
     "evalue": "If the `study` is being used for multi-objective optimization, please specify the `target`.",
     "output_type": "error",
     "traceback": [
      "\u001b[0;31m---------------------------------------------------------------------------\u001b[0m",
      "\u001b[0;31mValueError\u001b[0m                                Traceback (most recent call last)",
      "Cell \u001b[0;32mIn [239], line 2\u001b[0m\n\u001b[1;32m      1\u001b[0m \u001b[39m#Plot the high-dimensional parameter relationships in a study\u001b[39;00m\n\u001b[0;32m----> 2\u001b[0m fig \u001b[39m=\u001b[39m optuna\u001b[39m.\u001b[39;49mvisualization\u001b[39m.\u001b[39;49mplot_parallel_coordinate(study,params \u001b[39m=\u001b[39;49m [\u001b[39m\"\u001b[39;49m\u001b[39mnumber_of_layer\u001b[39;49m\u001b[39m\"\u001b[39;49m,\u001b[39m\"\u001b[39;49m\u001b[39mlayer_0\u001b[39;49m\u001b[39m\"\u001b[39;49m, \u001b[39m\"\u001b[39;49m\u001b[39mlayer_1\u001b[39;49m\u001b[39m\"\u001b[39;49m,\u001b[39m\"\u001b[39;49m\u001b[39mlayer_2\u001b[39;49m\u001b[39m\"\u001b[39;49m, \u001b[39m\"\u001b[39;49m\u001b[39mlayer_3\u001b[39;49m\u001b[39m\"\u001b[39;49m,\u001b[39m\"\u001b[39;49m\u001b[39mlayer_4\u001b[39;49m\u001b[39m\"\u001b[39;49m, \u001b[39m\"\u001b[39;49m\u001b[39mlayer_5\u001b[39;49m\u001b[39m\"\u001b[39;49m,\u001b[39m\"\u001b[39;49m\u001b[39mlayer_6\u001b[39;49m\u001b[39m\"\u001b[39;49m, \u001b[39m\"\u001b[39;49m\u001b[39mlayer_7\u001b[39;49m\u001b[39m\"\u001b[39;49m,\u001b[39m\"\u001b[39;49m\u001b[39mlayer_8\u001b[39;49m\u001b[39m\"\u001b[39;49m, \u001b[39m\"\u001b[39;49m\u001b[39mlayer_9\u001b[39;49m\u001b[39m\"\u001b[39;49m])\n\u001b[1;32m      3\u001b[0m fig\u001b[39m.\u001b[39mshow()\n\u001b[1;32m      6\u001b[0m \u001b[39m#Plot the high-dimensional parameter relationships in a study\u001b[39;00m\n",
      "File \u001b[0;32m~/.local/lib/python3.10/site-packages/optuna/visualization/_parallel_coordinate.py:110\u001b[0m, in \u001b[0;36mplot_parallel_coordinate\u001b[0;34m(study, params, target, target_name)\u001b[0m\n\u001b[1;32m     61\u001b[0m \u001b[39m\"\"\"Plot the high-dimensional parameter relationships in a study.\u001b[39;00m\n\u001b[1;32m     62\u001b[0m \n\u001b[1;32m     63\u001b[0m \u001b[39mNote that, if a parameter contains missing values, a trial with missing values is not plotted.\u001b[39;00m\n\u001b[0;32m   (...)\u001b[0m\n\u001b[1;32m    106\u001b[0m \u001b[39m    of :class:`~optuna.study.Study` is ``minimize``.\u001b[39;00m\n\u001b[1;32m    107\u001b[0m \u001b[39m\"\"\"\u001b[39;00m\n\u001b[1;32m    109\u001b[0m _imports\u001b[39m.\u001b[39mcheck()\n\u001b[0;32m--> 110\u001b[0m info \u001b[39m=\u001b[39m _get_parallel_coordinate_info(study, params, target, target_name)\n\u001b[1;32m    111\u001b[0m \u001b[39mreturn\u001b[39;00m _get_parallel_coordinate_plot(info)\n",
      "File \u001b[0;32m~/.local/lib/python3.10/site-packages/optuna/visualization/_parallel_coordinate.py:152\u001b[0m, in \u001b[0;36m_get_parallel_coordinate_info\u001b[0;34m(study, params, target, target_name)\u001b[0m\n\u001b[1;32m    145\u001b[0m \u001b[39mdef\u001b[39;00m \u001b[39m_get_parallel_coordinate_info\u001b[39m(\n\u001b[1;32m    146\u001b[0m     study: Study,\n\u001b[1;32m    147\u001b[0m     params: Optional[List[\u001b[39mstr\u001b[39m]] \u001b[39m=\u001b[39m \u001b[39mNone\u001b[39;00m,\n\u001b[1;32m    148\u001b[0m     target: Optional[Callable[[FrozenTrial], \u001b[39mfloat\u001b[39m]] \u001b[39m=\u001b[39m \u001b[39mNone\u001b[39;00m,\n\u001b[1;32m    149\u001b[0m     target_name: \u001b[39mstr\u001b[39m \u001b[39m=\u001b[39m \u001b[39m\"\u001b[39m\u001b[39mObjective Value\u001b[39m\u001b[39m\"\u001b[39m,\n\u001b[1;32m    150\u001b[0m ) \u001b[39m-\u001b[39m\u001b[39m>\u001b[39m _ParallelCoordinateInfo:\n\u001b[0;32m--> 152\u001b[0m     _check_plot_args(study, target, target_name)\n\u001b[1;32m    154\u001b[0m     reverse_scale \u001b[39m=\u001b[39m _is_reverse_scale(study, target)\n\u001b[1;32m    156\u001b[0m     trials \u001b[39m=\u001b[39m _filter_nonfinite(\n\u001b[1;32m    157\u001b[0m         study\u001b[39m.\u001b[39mget_trials(deepcopy\u001b[39m=\u001b[39m\u001b[39mFalse\u001b[39;00m, states\u001b[39m=\u001b[39m(TrialState\u001b[39m.\u001b[39mCOMPLETE,)), target\u001b[39m=\u001b[39mtarget\n\u001b[1;32m    158\u001b[0m     )\n",
      "File \u001b[0;32m~/.local/lib/python3.10/site-packages/optuna/visualization/_utils.py:63\u001b[0m, in \u001b[0;36m_check_plot_args\u001b[0;34m(study, target, target_name)\u001b[0m\n\u001b[1;32m     60\u001b[0m     studies \u001b[39m=\u001b[39m study\n\u001b[1;32m     62\u001b[0m \u001b[39mif\u001b[39;00m target \u001b[39mis\u001b[39;00m \u001b[39mNone\u001b[39;00m \u001b[39mand\u001b[39;00m \u001b[39many\u001b[39m(study\u001b[39m.\u001b[39m_is_multi_objective() \u001b[39mfor\u001b[39;00m study \u001b[39min\u001b[39;00m studies):\n\u001b[0;32m---> 63\u001b[0m     \u001b[39mraise\u001b[39;00m \u001b[39mValueError\u001b[39;00m(\n\u001b[1;32m     64\u001b[0m         \u001b[39m\"\u001b[39m\u001b[39mIf the `study` is being used for multi-objective optimization, \u001b[39m\u001b[39m\"\u001b[39m\n\u001b[1;32m     65\u001b[0m         \u001b[39m\"\u001b[39m\u001b[39mplease specify the `target`.\u001b[39m\u001b[39m\"\u001b[39m\n\u001b[1;32m     66\u001b[0m     )\n\u001b[1;32m     68\u001b[0m \u001b[39mif\u001b[39;00m target \u001b[39mis\u001b[39;00m \u001b[39mnot\u001b[39;00m \u001b[39mNone\u001b[39;00m \u001b[39mand\u001b[39;00m target_name \u001b[39m==\u001b[39m \u001b[39m\"\u001b[39m\u001b[39mObjective Value\u001b[39m\u001b[39m\"\u001b[39m:\n\u001b[1;32m     69\u001b[0m     warnings\u001b[39m.\u001b[39mwarn(\n\u001b[1;32m     70\u001b[0m         \u001b[39m\"\u001b[39m\u001b[39m`target` is specified, but `target_name` is the default value, \u001b[39m\u001b[39m'\u001b[39m\u001b[39mObjective Value\u001b[39m\u001b[39m'\u001b[39m\u001b[39m.\u001b[39m\u001b[39m\"\u001b[39m\n\u001b[1;32m     71\u001b[0m     )\n",
      "\u001b[0;31mValueError\u001b[0m: If the `study` is being used for multi-objective optimization, please specify the `target`."
     ]
    }
   ],
   "source": [
    "#Plot the high-dimensional parameter relationships in a study\n",
    "fig = optuna.visualization.plot_parallel_coordinate(study,params = [\"number_of_layer\",\"layer_0\", \"layer_1\",\"layer_2\", \"layer_3\",\"layer_4\", \"layer_5\",\"layer_6\", \"layer_7\",\"layer_8\", \"layer_9\"])\n",
    "fig.show()\n",
    "\n",
    "\n",
    "#Plot the high-dimensional parameter relationships in a study\n",
    "fig = optuna.visualization.plot_parallel_coordinate(study,params = [\"number_of_layer\",\"layer_0\", \"layer_1\",\"layer_2\", \"layer_3\",\"layer_4\", \"layer_5\",\"layer_6\", \"layer_7\",\"layer_8\"])\n",
    "fig.show()\n",
    "\n",
    "fig = optuna.visualization.plot_parallel_coordinate(study,params = [\"number_of_layer\"])\n",
    "fig.show()"
   ]
  },
  {
   "cell_type": "code",
   "execution_count": null,
   "metadata": {},
   "outputs": [],
   "source": [
    "#fPlot the Pareto front of a study\n",
    "fig = optuna.visualization.plot_pareto_front(study, target_names=[\"accuracy\", \"v1\"])\n",
    "fig.show()"
   ]
  },
  {
   "attachments": {},
   "cell_type": "markdown",
   "metadata": {},
   "source": []
  }
 ],
 "metadata": {
  "kernelspec": {
   "display_name": "Python 3",
   "language": "python",
   "name": "python3"
  },
  "language_info": {
   "codemirror_mode": {
    "name": "ipython",
    "version": 3
   },
   "file_extension": ".py",
   "mimetype": "text/x-python",
   "name": "python",
   "nbconvert_exporter": "python",
   "pygments_lexer": "ipython3",
   "version": "3.10.6"
  },
  "orig_nbformat": 4,
  "vscode": {
   "interpreter": {
    "hash": "916dbcbb3f70747c44a77c7bcd40155683ae19c65e1c03b4aa3499c5328201f1"
   }
  }
 },
 "nbformat": 4,
 "nbformat_minor": 2
}
