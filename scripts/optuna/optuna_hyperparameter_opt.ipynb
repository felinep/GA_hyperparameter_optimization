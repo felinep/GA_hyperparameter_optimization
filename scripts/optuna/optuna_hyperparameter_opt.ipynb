{
 "cells": [
  {
   "attachments": {},
   "cell_type": "markdown",
   "metadata": {},
   "source": []
  },
  {
   "attachments": {},
   "cell_type": "markdown",
   "metadata": {},
   "source": [
    "# Hperparameter optimization with Optuna\n",
    "Zur Suchraum eingrenzung\n"
   ]
  },
  {
   "cell_type": "code",
   "execution_count": 94,
   "metadata": {},
   "outputs": [],
   "source": [
    "# all imports\n",
    "import optuna\n",
    "\n",
    "import numpy as np\n",
    "import pandas as pd\n",
    "import tensorflow as tf\n",
    "\n",
    "# Keras Imports\n",
    "from keras import backend\n",
    "from keras.layers.core import Activation\n",
    "from keras.callbacks import EarlyStopping\n",
    "\n",
    "import os\n"
   ]
  },
  {
   "cell_type": "code",
   "execution_count": 95,
   "metadata": {},
   "outputs": [],
   "source": [
    "# Data constants\n",
    "DATASET_ID = 1\n",
    "DATA_PATH = f\"/home/feline/Documents/KIT/WS22_23/LAMA/GA/GA_hyperparameter_optimization/data/random{DATASET_ID}.csv\"\n",
    "\n",
    "#ATA_PATH = f\"{os.getcwd()}/belle_neural_trigger/data/random{DATASET_ID}.csv\"\n",
    "DATA_COUNT = 5000\n",
    "\n",
    "# Random seed\n",
    "RANDOM_SEED = 42\n",
    "\n",
    "METRIC = \"accuracy\"\n",
    "\n",
    "\n",
    "# mlp setup constants\n",
    "MIN_HIDDENLAYERS = 1\n",
    "MAX_HIDDENLAYERS = 10\n",
    "\n",
    "MIN_NEURON_PER_LAYER = 1\n",
    "MAX_NEURON_PER_LAYER = 300\n",
    "\n",
    "WEIGHT_THRESH = 0.05\n",
    "\n",
    "NUM_EPOCHS = 500\n",
    "\n",
    "\n",
    "#Training\n",
    "N_TRAILS = 100\n",
    "N_TRAILS_2 = 50\n"
   ]
  },
  {
   "cell_type": "code",
   "execution_count": 96,
   "metadata": {},
   "outputs": [],
   "source": [
    "data = pd.read_csv(DATA_PATH, delimiter='\\t');    \n",
    "data = data.iloc[:DATA_COUNT, 9:]\n",
    "\n",
    "input = data.iloc[:, :-9]\n",
    "target = data.iloc[:, -9:-7]\n"
   ]
  },
  {
   "cell_type": "code",
   "execution_count": 97,
   "metadata": {},
   "outputs": [
    {
     "data": {
      "text/html": [
       "<div>\n",
       "<style scoped>\n",
       "    .dataframe tbody tr th:only-of-type {\n",
       "        vertical-align: middle;\n",
       "    }\n",
       "\n",
       "    .dataframe tbody tr th {\n",
       "        vertical-align: top;\n",
       "    }\n",
       "\n",
       "    .dataframe thead th {\n",
       "        text-align: right;\n",
       "    }\n",
       "</style>\n",
       "<table border=\"1\" class=\"dataframe\">\n",
       "  <thead>\n",
       "    <tr style=\"text-align: right;\">\n",
       "      <th></th>\n",
       "      <th>SL0-relID</th>\n",
       "      <th>SL0-driftT</th>\n",
       "      <th>SL0-alpha</th>\n",
       "      <th>SL1-relID</th>\n",
       "      <th>SL1-driftT</th>\n",
       "      <th>SL1-alpha</th>\n",
       "      <th>SL2-relID</th>\n",
       "      <th>SL2-driftT</th>\n",
       "      <th>SL2-alpha</th>\n",
       "      <th>SL3-relID</th>\n",
       "      <th>...</th>\n",
       "      <th>SL5-alpha</th>\n",
       "      <th>SL6-relID</th>\n",
       "      <th>SL6-driftT</th>\n",
       "      <th>SL6-alpha</th>\n",
       "      <th>SL7-relID</th>\n",
       "      <th>SL7-driftT</th>\n",
       "      <th>SL7-alpha</th>\n",
       "      <th>SL8-relID</th>\n",
       "      <th>SL8-driftT</th>\n",
       "      <th>SL8-alpha</th>\n",
       "    </tr>\n",
       "  </thead>\n",
       "  <tbody>\n",
       "    <tr>\n",
       "      <th>26</th>\n",
       "      <td>0.000000</td>\n",
       "      <td>0.019646</td>\n",
       "      <td>0.518803</td>\n",
       "      <td>-0.175781</td>\n",
       "      <td>0.030929</td>\n",
       "      <td>0.418625</td>\n",
       "      <td>0.0</td>\n",
       "      <td>0.039879</td>\n",
       "      <td>0.265662</td>\n",
       "      <td>-0.140625</td>\n",
       "      <td>...</td>\n",
       "      <td>0.000000</td>\n",
       "      <td>0.0</td>\n",
       "      <td>0.000000</td>\n",
       "      <td>-0.497786</td>\n",
       "      <td>-0.929688</td>\n",
       "      <td>0.094763</td>\n",
       "      <td>0.483770</td>\n",
       "      <td>0.000</td>\n",
       "      <td>0.107461</td>\n",
       "      <td>0.000216</td>\n",
       "    </tr>\n",
       "    <tr>\n",
       "      <th>26</th>\n",
       "      <td>0.000000</td>\n",
       "      <td>0.019646</td>\n",
       "      <td>0.518803</td>\n",
       "      <td>-0.175781</td>\n",
       "      <td>0.030929</td>\n",
       "      <td>0.418625</td>\n",
       "      <td>0.0</td>\n",
       "      <td>0.039879</td>\n",
       "      <td>0.265662</td>\n",
       "      <td>-0.140625</td>\n",
       "      <td>...</td>\n",
       "      <td>0.000000</td>\n",
       "      <td>0.0</td>\n",
       "      <td>0.000000</td>\n",
       "      <td>-0.497786</td>\n",
       "      <td>-0.929688</td>\n",
       "      <td>0.094763</td>\n",
       "      <td>0.483770</td>\n",
       "      <td>0.000</td>\n",
       "      <td>0.107461</td>\n",
       "      <td>0.000216</td>\n",
       "    </tr>\n",
       "    <tr>\n",
       "      <th>26</th>\n",
       "      <td>0.003906</td>\n",
       "      <td>-0.043702</td>\n",
       "      <td>0.372666</td>\n",
       "      <td>1.000000</td>\n",
       "      <td>-0.068906</td>\n",
       "      <td>0.000000</td>\n",
       "      <td>0.0</td>\n",
       "      <td>0.000000</td>\n",
       "      <td>-0.307539</td>\n",
       "      <td>-0.015625</td>\n",
       "      <td>...</td>\n",
       "      <td>0.608852</td>\n",
       "      <td>0.0</td>\n",
       "      <td>-0.189303</td>\n",
       "      <td>-0.187435</td>\n",
       "      <td>0.000000</td>\n",
       "      <td>-0.215980</td>\n",
       "      <td>0.319851</td>\n",
       "      <td>0.125</td>\n",
       "      <td>-0.242333</td>\n",
       "      <td>0.000308</td>\n",
       "    </tr>\n",
       "    <tr>\n",
       "      <th>26</th>\n",
       "      <td>0.003906</td>\n",
       "      <td>-0.043702</td>\n",
       "      <td>0.372666</td>\n",
       "      <td>1.000000</td>\n",
       "      <td>-0.068906</td>\n",
       "      <td>0.000000</td>\n",
       "      <td>0.0</td>\n",
       "      <td>0.000000</td>\n",
       "      <td>-0.307539</td>\n",
       "      <td>-0.015625</td>\n",
       "      <td>...</td>\n",
       "      <td>0.608852</td>\n",
       "      <td>0.0</td>\n",
       "      <td>-0.189303</td>\n",
       "      <td>-0.187435</td>\n",
       "      <td>0.000000</td>\n",
       "      <td>-0.215980</td>\n",
       "      <td>0.319851</td>\n",
       "      <td>0.125</td>\n",
       "      <td>-0.242333</td>\n",
       "      <td>0.000308</td>\n",
       "    </tr>\n",
       "    <tr>\n",
       "      <th>26</th>\n",
       "      <td>0.003906</td>\n",
       "      <td>-0.041512</td>\n",
       "      <td>0.166792</td>\n",
       "      <td>1.000000</td>\n",
       "      <td>-0.065440</td>\n",
       "      <td>0.049572</td>\n",
       "      <td>0.0</td>\n",
       "      <td>-0.088371</td>\n",
       "      <td>-0.554250</td>\n",
       "      <td>-0.015625</td>\n",
       "      <td>...</td>\n",
       "      <td>0.113390</td>\n",
       "      <td>0.0</td>\n",
       "      <td>-0.179397</td>\n",
       "      <td>-0.301857</td>\n",
       "      <td>0.000000</td>\n",
       "      <td>-0.204515</td>\n",
       "      <td>0.119405</td>\n",
       "      <td>0.125</td>\n",
       "      <td>-0.229258</td>\n",
       "      <td>0.000308</td>\n",
       "    </tr>\n",
       "  </tbody>\n",
       "</table>\n",
       "<p>5 rows × 27 columns</p>\n",
       "</div>"
      ],
      "text/plain": [
       "    SL0-relID  SL0-driftT  SL0-alpha  SL1-relID  SL1-driftT  SL1-alpha  \\\n",
       "26   0.000000    0.019646   0.518803  -0.175781    0.030929   0.418625   \n",
       "26   0.000000    0.019646   0.518803  -0.175781    0.030929   0.418625   \n",
       "26   0.003906   -0.043702   0.372666   1.000000   -0.068906   0.000000   \n",
       "26   0.003906   -0.043702   0.372666   1.000000   -0.068906   0.000000   \n",
       "26   0.003906   -0.041512   0.166792   1.000000   -0.065440   0.049572   \n",
       "\n",
       "    SL2-relID  SL2-driftT  SL2-alpha  SL3-relID  ...  SL5-alpha  SL6-relID  \\\n",
       "26        0.0    0.039879   0.265662  -0.140625  ...   0.000000        0.0   \n",
       "26        0.0    0.039879   0.265662  -0.140625  ...   0.000000        0.0   \n",
       "26        0.0    0.000000  -0.307539  -0.015625  ...   0.608852        0.0   \n",
       "26        0.0    0.000000  -0.307539  -0.015625  ...   0.608852        0.0   \n",
       "26        0.0   -0.088371  -0.554250  -0.015625  ...   0.113390        0.0   \n",
       "\n",
       "    SL6-driftT  SL6-alpha  SL7-relID  SL7-driftT  SL7-alpha  SL8-relID  \\\n",
       "26    0.000000  -0.497786  -0.929688    0.094763   0.483770      0.000   \n",
       "26    0.000000  -0.497786  -0.929688    0.094763   0.483770      0.000   \n",
       "26   -0.189303  -0.187435   0.000000   -0.215980   0.319851      0.125   \n",
       "26   -0.189303  -0.187435   0.000000   -0.215980   0.319851      0.125   \n",
       "26   -0.179397  -0.301857   0.000000   -0.204515   0.119405      0.125   \n",
       "\n",
       "    SL8-driftT  SL8-alpha  \n",
       "26    0.107461   0.000216  \n",
       "26    0.107461   0.000216  \n",
       "26   -0.242333   0.000308  \n",
       "26   -0.242333   0.000308  \n",
       "26   -0.229258   0.000308  \n",
       "\n",
       "[5 rows x 27 columns]"
      ]
     },
     "execution_count": 97,
     "metadata": {},
     "output_type": "execute_result"
    }
   ],
   "source": [
    "input.head()"
   ]
  },
  {
   "cell_type": "code",
   "execution_count": 98,
   "metadata": {},
   "outputs": [
    {
     "data": {
      "text/html": [
       "<div>\n",
       "<style scoped>\n",
       "    .dataframe tbody tr th:only-of-type {\n",
       "        vertical-align: middle;\n",
       "    }\n",
       "\n",
       "    .dataframe tbody tr th {\n",
       "        vertical-align: top;\n",
       "    }\n",
       "\n",
       "    .dataframe thead th {\n",
       "        text-align: right;\n",
       "    }\n",
       "</style>\n",
       "<table border=\"1\" class=\"dataframe\">\n",
       "  <thead>\n",
       "    <tr style=\"text-align: right;\">\n",
       "      <th></th>\n",
       "      <th>RecoZ</th>\n",
       "      <th>RecoTheta</th>\n",
       "    </tr>\n",
       "  </thead>\n",
       "  <tbody>\n",
       "    <tr>\n",
       "      <th>26</th>\n",
       "      <td>0.065285</td>\n",
       "      <td>0</td>\n",
       "    </tr>\n",
       "    <tr>\n",
       "      <th>26</th>\n",
       "      <td>0.065285</td>\n",
       "      <td>0</td>\n",
       "    </tr>\n",
       "    <tr>\n",
       "      <th>26</th>\n",
       "      <td>0.080510</td>\n",
       "      <td>0</td>\n",
       "    </tr>\n",
       "    <tr>\n",
       "      <th>26</th>\n",
       "      <td>0.080510</td>\n",
       "      <td>0</td>\n",
       "    </tr>\n",
       "    <tr>\n",
       "      <th>26</th>\n",
       "      <td>0.080510</td>\n",
       "      <td>0</td>\n",
       "    </tr>\n",
       "  </tbody>\n",
       "</table>\n",
       "</div>"
      ],
      "text/plain": [
       "       RecoZ  RecoTheta\n",
       "26  0.065285          0\n",
       "26  0.065285          0\n",
       "26  0.080510          0\n",
       "26  0.080510          0\n",
       "26  0.080510          0"
      ]
     },
     "execution_count": 98,
     "metadata": {},
     "output_type": "execute_result"
    }
   ],
   "source": [
    "target.head()"
   ]
  },
  {
   "cell_type": "code",
   "execution_count": 99,
   "metadata": {},
   "outputs": [],
   "source": [
    "# activation function: tanh(x/2)\n",
    "def tanh(x):\n",
    "    return backend.tanh(x/2)"
   ]
  },
  {
   "cell_type": "code",
   "execution_count": 100,
   "metadata": {},
   "outputs": [],
   "source": [
    "def bias_(model):\n",
    "    for layer in model.layers:\n",
    "            if isinstance(layer, tf.keras.layers.Dense):\n",
    "                weights = layer.get_weights()\n",
    "                \n",
    "                weight = weights[0]\n",
    "                bias = weights[1]\n",
    "        \n",
    "                weight_threshold = np.mean(np.abs(weight)) * 0.1\n",
    "                bias_threshold = np.mean(np.abs(bias)) * 0.05\n",
    "\n",
    "                amount_dead_weights = len(np.where(weight < weight_threshold)[0])\n",
    "                amount_dead_bias = len(np.where(bias< bias_threshold)[0])\n",
    "                \n",
    "    return amount_dead_weights,amount_dead_bias\n",
    "\n"
   ]
  },
  {
   "cell_type": "code",
   "execution_count": 101,
   "metadata": {},
   "outputs": [],
   "source": [
    "# print out current architecture\n",
    "def mlp_arcitecture(num_neurons_per_layer):\n",
    "    num_of_neurons = sum(num_neurons_per_layer)\n",
    "    num_neurons_per_layer = np.array(num_neurons_per_layer)\n",
    "    \n",
    "    print(f'------numbers of neuron per layer-----')\n",
    "    print(num_neurons_per_layer)\n",
    "    print(num_of_neurons)\n",
    "    print(f'------')"
   ]
  },
  {
   "cell_type": "code",
   "execution_count": 102,
   "metadata": {},
   "outputs": [],
   "source": [
    "def build_model(num_neurons_per_layer):\n",
    "    \n",
    "    # activation function\n",
    "    activation_function = Activation(tanh)\n",
    "\n",
    "     # create model: \n",
    "    model = tf.keras.models.Sequential([\n",
    "        tf.keras.layers.Dense(num_neurons_per_layer[0],\n",
    "            input_shape = (27,),  \n",
    "            activation=activation_function)\n",
    "    ])\n",
    "\n",
    "    for layer in range(1, len(num_neurons_per_layer)):\n",
    "        #num_neurons = int(num_neurons_per_layer[layer])\n",
    "        model.add(\n",
    "            tf.keras.layers.Dense(\n",
    "                num_neurons_per_layer[layer],\n",
    "                activation = activation_function))\n",
    "\n",
    "    model.add(tf.keras.layers.Dense(\n",
    "        2, \n",
    "        activation = activation_function\n",
    "        ))\n",
    "    \n",
    "    # Specify the loss fuction, optimizer, metrics\n",
    "    model.compile(\n",
    "        loss = tf.keras.losses.MeanSquaredError(),\n",
    "        optimizer = \"sgd\",\n",
    "        metrics = [METRIC]\n",
    "    )\n",
    "    return model\n",
    "    "
   ]
  },
  {
   "cell_type": "code",
   "execution_count": 103,
   "metadata": {},
   "outputs": [],
   "source": [
    "def pruning(trial,acc):\n",
    "    #value = trail.report(value, step= epoch)\n",
    "    if trial.should_prune( acc):\n",
    "        raise optuna.TrialPruned()"
   ]
  },
  {
   "cell_type": "code",
   "execution_count": 104,
   "metadata": {},
   "outputs": [],
   "source": [
    "def mlp_weights(model):\n",
    "    weights = model.get_weights()\n",
    "    amount_dead_weights = 0\n",
    "    for layer in model.layers:\n",
    "        weights = layer.get_weights()\n",
    "        amount_dead_weights = amount_dead_weights + len(np.where(abs(weights[0]) < WEIGHT_THRESH)[0])\n",
    "    return amount_dead_weights"
   ]
  },
  {
   "cell_type": "code",
   "execution_count": 108,
   "metadata": {},
   "outputs": [],
   "source": [
    "# Define the objective function, with on hyperparameter\n",
    "def objective(trial):\n",
    "\n",
    "    number_of_layer = trial.suggest_int(\"number_of_layer\", MIN_HIDDENLAYERS, MAX_HIDDENLAYERS)\n",
    "    num_neurons_per_layer = []\n",
    "\n",
    "    for i in range(number_of_layer):\n",
    "        layer_ = trial.suggest_int('layer_{}'.format(i), MIN_NEURON_PER_LAYER, MAX_NEURON_PER_LAYER)\n",
    "        num_neurons_per_layer.append(layer_)\n",
    "    \n",
    "\n",
    "    num_neurons_per_layer = np.array(num_neurons_per_layer)\n",
    "    \n",
    "    # build model\n",
    "    model = build_model(num_neurons_per_layer)\n",
    "\n",
    "    # add early stopping callback to save time\n",
    "    es = EarlyStopping(monitor = f'val_{METRIC}', mode ='max', patience = 5)\n",
    "   \n",
    "    # Train the model\n",
    "    history = model.fit(input, target, epochs= NUM_EPOCHS, validation_split = 0.2, batch_size= 2, callbacks = [es], use_multiprocessing=True, verbose=0)\n",
    "        \n",
    "    # accurcy\n",
    "    last_result = history.history[f\"val_{METRIC}\"][-1:][0]\n",
    "\n",
    "    return last_result"
   ]
  },
  {
   "cell_type": "code",
   "execution_count": 109,
   "metadata": {},
   "outputs": [
    {
     "name": "stderr",
     "output_type": "stream",
     "text": [
      "\u001b[32m[I 2023-02-27 12:58:25,599]\u001b[0m A new study created in memory with name: no-name-a458e477-271d-423a-a52b-22af64a129b4\u001b[0m\n",
      "\u001b[32m[I 2023-02-27 12:58:53,102]\u001b[0m Trial 0 finished with value: 0.9359999895095825 and parameters: {'number_of_layer': 4, 'layer_0': 286, 'layer_1': 220, 'layer_2': 180, 'layer_3': 47}. Best is trial 0 with value: 0.9359999895095825.\u001b[0m\n",
      "\u001b[32m[I 2023-02-27 12:59:09,607]\u001b[0m Trial 1 finished with value: 0.9419999718666077 and parameters: {'number_of_layer': 2, 'layer_0': 18, 'layer_1': 260}. Best is trial 1 with value: 0.9419999718666077.\u001b[0m\n",
      "\u001b[32m[I 2023-02-27 12:59:21,132]\u001b[0m Trial 2 finished with value: 0.6710000038146973 and parameters: {'number_of_layer': 7, 'layer_0': 213, 'layer_1': 7, 'layer_2': 291, 'layer_3': 250, 'layer_4': 64, 'layer_5': 55, 'layer_6': 56}. Best is trial 1 with value: 0.9419999718666077.\u001b[0m\n",
      "\u001b[32m[I 2023-02-27 12:59:44,664]\u001b[0m Trial 3 finished with value: 0.9390000104904175 and parameters: {'number_of_layer': 4, 'layer_0': 158, 'layer_1': 130, 'layer_2': 88, 'layer_3': 184}. Best is trial 1 with value: 0.9419999718666077.\u001b[0m\n",
      "\u001b[32m[I 2023-02-27 13:00:06,828]\u001b[0m Trial 4 finished with value: 0.9390000104904175 and parameters: {'number_of_layer': 2, 'layer_0': 88, 'layer_1': 110}. Best is trial 1 with value: 0.9419999718666077.\u001b[0m\n",
      "\u001b[32m[I 2023-02-27 13:00:34,337]\u001b[0m Trial 5 finished with value: 0.9390000104904175 and parameters: {'number_of_layer': 5, 'layer_0': 236, 'layer_1': 60, 'layer_2': 155, 'layer_3': 178, 'layer_4': 14}. Best is trial 1 with value: 0.9419999718666077.\u001b[0m\n",
      "\u001b[32m[I 2023-02-27 13:00:48,707]\u001b[0m Trial 6 finished with value: 0.6710000038146973 and parameters: {'number_of_layer': 7, 'layer_0': 52, 'layer_1': 20, 'layer_2': 285, 'layer_3': 290, 'layer_4': 243, 'layer_5': 92, 'layer_6': 30}. Best is trial 1 with value: 0.9419999718666077.\u001b[0m\n",
      "\u001b[32m[I 2023-02-27 13:01:00,596]\u001b[0m Trial 7 finished with value: 0.6710000038146973 and parameters: {'number_of_layer': 7, 'layer_0': 133, 'layer_1': 37, 'layer_2': 149, 'layer_3': 11, 'layer_4': 273, 'layer_5': 78, 'layer_6': 199}. Best is trial 1 with value: 0.9419999718666077.\u001b[0m\n",
      "\u001b[32m[I 2023-02-27 13:01:26,332]\u001b[0m Trial 8 finished with value: 0.9390000104904175 and parameters: {'number_of_layer': 4, 'layer_0': 157, 'layer_1': 165, 'layer_2': 56, 'layer_3': 291}. Best is trial 1 with value: 0.9419999718666077.\u001b[0m\n",
      "\u001b[32m[I 2023-02-27 13:01:43,200]\u001b[0m Trial 9 finished with value: 0.6710000038146973 and parameters: {'number_of_layer': 8, 'layer_0': 282, 'layer_1': 269, 'layer_2': 180, 'layer_3': 277, 'layer_4': 27, 'layer_5': 59, 'layer_6': 14, 'layer_7': 98}. Best is trial 1 with value: 0.9419999718666077.\u001b[0m\n",
      "\u001b[32m[I 2023-02-27 13:02:03,241]\u001b[0m Trial 10 finished with value: 0.9369999766349792 and parameters: {'number_of_layer': 1, 'layer_0': 2}. Best is trial 1 with value: 0.9419999718666077.\u001b[0m\n",
      "\u001b[32m[I 2023-02-27 13:02:19,718]\u001b[0m Trial 11 finished with value: 0.6710000038146973 and parameters: {'number_of_layer': 10, 'layer_0': 167, 'layer_1': 296, 'layer_2': 12, 'layer_3': 127, 'layer_4': 164, 'layer_5': 285, 'layer_6': 298, 'layer_7': 296, 'layer_8': 165, 'layer_9': 54}. Best is trial 1 with value: 0.9419999718666077.\u001b[0m\n",
      "\u001b[32m[I 2023-02-27 13:02:38,568]\u001b[0m Trial 12 finished with value: 0.9419999718666077 and parameters: {'number_of_layer': 3, 'layer_0': 100, 'layer_1': 163, 'layer_2': 100}. Best is trial 1 with value: 0.9419999718666077.\u001b[0m\n",
      "\u001b[32m[I 2023-02-27 13:03:15,871]\u001b[0m Trial 13 finished with value: 0.9399999976158142 and parameters: {'number_of_layer': 2, 'layer_0': 2, 'layer_1': 203}. Best is trial 1 with value: 0.9419999718666077.\u001b[0m\n",
      "\u001b[32m[I 2023-02-27 13:03:37,464]\u001b[0m Trial 14 finished with value: 0.9330000281333923 and parameters: {'number_of_layer': 2, 'layer_0': 68, 'layer_1': 234}. Best is trial 1 with value: 0.9419999718666077.\u001b[0m\n",
      "\u001b[32m[I 2023-02-27 13:04:03,925]\u001b[0m Trial 15 finished with value: 0.9369999766349792 and parameters: {'number_of_layer': 3, 'layer_0': 105, 'layer_1': 173, 'layer_2': 96}. Best is trial 1 with value: 0.9419999718666077.\u001b[0m\n",
      "\u001b[32m[I 2023-02-27 13:04:28,377]\u001b[0m Trial 16 finished with value: 0.9359999895095825 and parameters: {'number_of_layer': 1, 'layer_0': 40}. Best is trial 1 with value: 0.9419999718666077.\u001b[0m\n",
      "\u001b[32m[I 2023-02-27 13:04:46,225]\u001b[0m Trial 17 finished with value: 0.9380000233650208 and parameters: {'number_of_layer': 3, 'layer_0': 115, 'layer_1': 84, 'layer_2': 245}. Best is trial 1 with value: 0.9419999718666077.\u001b[0m\n",
      "\u001b[32m[I 2023-02-27 13:04:54,918]\u001b[0m Trial 18 finished with value: 0.6710000038146973 and parameters: {'number_of_layer': 5, 'layer_0': 37, 'layer_1': 251, 'layer_2': 4, 'layer_3': 92, 'layer_4': 139}. Best is trial 1 with value: 0.9419999718666077.\u001b[0m\n",
      "\u001b[32m[I 2023-02-27 13:05:14,856]\u001b[0m Trial 19 finished with value: 0.9390000104904175 and parameters: {'number_of_layer': 3, 'layer_0': 190, 'layer_1': 196, 'layer_2': 110}. Best is trial 1 with value: 0.9419999718666077.\u001b[0m\n",
      "\u001b[32m[I 2023-02-27 13:05:39,065]\u001b[0m Trial 20 finished with value: 0.9399999976158142 and parameters: {'number_of_layer': 1, 'layer_0': 81}. Best is trial 1 with value: 0.9419999718666077.\u001b[0m\n",
      "\u001b[32m[I 2023-02-27 13:05:59,964]\u001b[0m Trial 21 finished with value: 0.9399999976158142 and parameters: {'number_of_layer': 2, 'layer_0': 7, 'layer_1': 201}. Best is trial 1 with value: 0.9419999718666077.\u001b[0m\n",
      "\u001b[32m[I 2023-02-27 13:06:15,637]\u001b[0m Trial 22 finished with value: 0.9390000104904175 and parameters: {'number_of_layer': 2, 'layer_0': 25, 'layer_1': 145}. Best is trial 1 with value: 0.9419999718666077.\u001b[0m\n",
      "\u001b[32m[I 2023-02-27 13:06:47,287]\u001b[0m Trial 23 finished with value: 0.9390000104904175 and parameters: {'number_of_layer': 3, 'layer_0': 62, 'layer_1': 278, 'layer_2': 226}. Best is trial 1 with value: 0.9419999718666077.\u001b[0m\n",
      "\u001b[32m[I 2023-02-27 13:07:08,536]\u001b[0m Trial 24 finished with value: 0.9369999766349792 and parameters: {'number_of_layer': 1, 'layer_0': 24}. Best is trial 1 with value: 0.9419999718666077.\u001b[0m\n",
      "\u001b[32m[I 2023-02-27 13:07:44,431]\u001b[0m Trial 25 finished with value: 0.9380000233650208 and parameters: {'number_of_layer': 4, 'layer_0': 4, 'layer_1': 202, 'layer_2': 50, 'layer_3': 219}. Best is trial 1 with value: 0.9419999718666077.\u001b[0m\n",
      "\u001b[32m[I 2023-02-27 13:08:04,741]\u001b[0m Trial 26 finished with value: 0.9409999847412109 and parameters: {'number_of_layer': 2, 'layer_0': 87, 'layer_1': 231}. Best is trial 1 with value: 0.9419999718666077.\u001b[0m\n",
      "\u001b[32m[I 2023-02-27 13:08:38,402]\u001b[0m Trial 27 finished with value: 0.9350000023841858 and parameters: {'number_of_layer': 5, 'layer_0': 130, 'layer_1': 246, 'layer_2': 130, 'layer_3': 97, 'layer_4': 173}. Best is trial 1 with value: 0.9419999718666077.\u001b[0m\n",
      "\u001b[32m[I 2023-02-27 13:08:49,374]\u001b[0m Trial 28 finished with value: 0.6710000038146973 and parameters: {'number_of_layer': 6, 'layer_0': 89, 'layer_1': 290, 'layer_2': 55, 'layer_3': 1, 'layer_4': 106, 'layer_5': 225}. Best is trial 1 with value: 0.9419999718666077.\u001b[0m\n",
      "\u001b[32m[I 2023-02-27 13:09:22,149]\u001b[0m Trial 29 finished with value: 0.9309999942779541 and parameters: {'number_of_layer': 4, 'layer_0': 104, 'layer_1': 262, 'layer_2': 217, 'layer_3': 70}. Best is trial 1 with value: 0.9419999718666077.\u001b[0m\n",
      "\u001b[32m[I 2023-02-27 13:09:51,233]\u001b[0m Trial 30 finished with value: 0.9359999895095825 and parameters: {'number_of_layer': 3, 'layer_0': 130, 'layer_1': 170, 'layer_2': 31}. Best is trial 1 with value: 0.9419999718666077.\u001b[0m\n",
      "\u001b[32m[I 2023-02-27 13:10:22,457]\u001b[0m Trial 31 finished with value: 0.9350000023841858 and parameters: {'number_of_layer': 2, 'layer_0': 49, 'layer_1': 218}. Best is trial 1 with value: 0.9419999718666077.\u001b[0m\n",
      "\u001b[32m[I 2023-02-27 13:10:46,019]\u001b[0m Trial 32 finished with value: 0.9369999766349792 and parameters: {'number_of_layer': 2, 'layer_0': 24, 'layer_1': 228}. Best is trial 1 with value: 0.9419999718666077.\u001b[0m\n",
      "\u001b[32m[I 2023-02-27 13:11:06,063]\u001b[0m Trial 33 finished with value: 0.9430000185966492 and parameters: {'number_of_layer': 1, 'layer_0': 67}. Best is trial 33 with value: 0.9430000185966492.\u001b[0m\n",
      "\u001b[32m[I 2023-02-27 13:11:26,444]\u001b[0m Trial 34 finished with value: 0.9359999895095825 and parameters: {'number_of_layer': 1, 'layer_0': 70}. Best is trial 33 with value: 0.9430000185966492.\u001b[0m\n",
      "\u001b[32m[I 2023-02-27 13:11:42,742]\u001b[0m Trial 35 finished with value: 0.9419999718666077 and parameters: {'number_of_layer': 1, 'layer_0': 88}. Best is trial 33 with value: 0.9430000185966492.\u001b[0m\n",
      "\u001b[32m[I 2023-02-27 13:11:57,716]\u001b[0m Trial 36 finished with value: 0.9409999847412109 and parameters: {'number_of_layer': 1, 'layer_0': 108}. Best is trial 33 with value: 0.9430000185966492.\u001b[0m\n",
      "\u001b[32m[I 2023-02-27 13:12:16,283]\u001b[0m Trial 37 finished with value: 0.9390000104904175 and parameters: {'number_of_layer': 1, 'layer_0': 56}. Best is trial 33 with value: 0.9430000185966492.\u001b[0m\n",
      "\u001b[32m[I 2023-02-27 13:12:40,296]\u001b[0m Trial 38 finished with value: 0.9369999766349792 and parameters: {'number_of_layer': 3, 'layer_0': 76, 'layer_1': 103, 'layer_2': 73}. Best is trial 33 with value: 0.9430000185966492.\u001b[0m\n",
      "\u001b[32m[I 2023-02-27 13:12:53,101]\u001b[0m Trial 39 finished with value: 0.6710000038146973 and parameters: {'number_of_layer': 9, 'layer_0': 145, 'layer_1': 141, 'layer_2': 119, 'layer_3': 146, 'layer_4': 219, 'layer_5': 163, 'layer_6': 152, 'layer_7': 8, 'layer_8': 13}. Best is trial 33 with value: 0.9430000185966492.\u001b[0m\n",
      "\u001b[32m[I 2023-02-27 13:13:06,156]\u001b[0m Trial 40 finished with value: 0.6710000038146973 and parameters: {'number_of_layer': 6, 'layer_0': 225, 'layer_1': 120, 'layer_2': 194, 'layer_3': 219, 'layer_4': 299, 'layer_5': 3}. Best is trial 33 with value: 0.9430000185966492.\u001b[0m\n",
      "\u001b[32m[I 2023-02-27 13:13:24,963]\u001b[0m Trial 41 finished with value: 0.9369999766349792 and parameters: {'number_of_layer': 2, 'layer_0': 87, 'layer_1': 187}. Best is trial 33 with value: 0.9430000185966492.\u001b[0m\n",
      "\u001b[32m[I 2023-02-27 13:13:39,828]\u001b[0m Trial 42 finished with value: 0.9390000104904175 and parameters: {'number_of_layer': 1, 'layer_0': 99}. Best is trial 33 with value: 0.9430000185966492.\u001b[0m\n",
      "\u001b[32m[I 2023-02-27 13:14:03,438]\u001b[0m Trial 43 finished with value: 0.9359999895095825 and parameters: {'number_of_layer': 4, 'layer_0': 121, 'layer_1': 223, 'layer_2': 266, 'layer_3': 50}. Best is trial 33 with value: 0.9430000185966492.\u001b[0m\n",
      "\u001b[32m[I 2023-02-27 13:14:19,849]\u001b[0m Trial 44 finished with value: 0.9409999847412109 and parameters: {'number_of_layer': 2, 'layer_0': 171, 'layer_1': 248}. Best is trial 33 with value: 0.9430000185966492.\u001b[0m\n",
      "\u001b[32m[I 2023-02-27 13:14:39,453]\u001b[0m Trial 45 finished with value: 0.9359999895095825 and parameters: {'number_of_layer': 1, 'layer_0': 42}. Best is trial 33 with value: 0.9430000185966492.\u001b[0m\n",
      "\u001b[32m[I 2023-02-27 13:14:55,431]\u001b[0m Trial 46 finished with value: 0.9390000104904175 and parameters: {'number_of_layer': 2, 'layer_0': 94, 'layer_1': 88}. Best is trial 33 with value: 0.9430000185966492.\u001b[0m\n",
      "\u001b[32m[I 2023-02-27 13:15:20,378]\u001b[0m Trial 47 finished with value: 0.9350000023841858 and parameters: {'number_of_layer': 3, 'layer_0': 254, 'layer_1': 276, 'layer_2': 143}. Best is trial 33 with value: 0.9430000185966492.\u001b[0m\n",
      "\u001b[32m[I 2023-02-27 13:15:47,537]\u001b[0m Trial 48 finished with value: 0.9350000023841858 and parameters: {'number_of_layer': 2, 'layer_0': 146, 'layer_1': 182}. Best is trial 33 with value: 0.9430000185966492.\u001b[0m\n",
      "\u001b[32m[I 2023-02-27 13:16:05,483]\u001b[0m Trial 49 finished with value: 0.9359999895095825 and parameters: {'number_of_layer': 1, 'layer_0': 65}. Best is trial 33 with value: 0.9430000185966492.\u001b[0m\n",
      "\u001b[32m[I 2023-02-27 13:16:28,341]\u001b[0m Trial 50 finished with value: 0.9390000104904175 and parameters: {'number_of_layer': 4, 'layer_0': 53, 'layer_1': 55, 'layer_2': 33, 'layer_3': 183}. Best is trial 33 with value: 0.9430000185966492.\u001b[0m\n",
      "\u001b[32m[I 2023-02-27 13:16:42,621]\u001b[0m Trial 51 finished with value: 0.9390000104904175 and parameters: {'number_of_layer': 1, 'layer_0': 113}. Best is trial 33 with value: 0.9430000185966492.\u001b[0m\n",
      "\u001b[32m[I 2023-02-27 13:16:56,585]\u001b[0m Trial 52 finished with value: 0.9409999847412109 and parameters: {'number_of_layer': 1, 'layer_0': 109}. Best is trial 33 with value: 0.9430000185966492.\u001b[0m\n",
      "\u001b[32m[I 2023-02-27 13:17:16,712]\u001b[0m Trial 53 finished with value: 0.9340000152587891 and parameters: {'number_of_layer': 2, 'layer_0': 78, 'layer_1': 214}. Best is trial 33 with value: 0.9430000185966492.\u001b[0m\n",
      "\u001b[32m[I 2023-02-27 13:17:31,528]\u001b[0m Trial 54 finished with value: 0.9409999847412109 and parameters: {'number_of_layer': 1, 'layer_0': 96}. Best is trial 33 with value: 0.9430000185966492.\u001b[0m\n",
      "\u001b[32m[I 2023-02-27 13:17:45,560]\u001b[0m Trial 55 finished with value: 0.9419999718666077 and parameters: {'number_of_layer': 2, 'layer_0': 123, 'layer_1': 154}. Best is trial 33 with value: 0.9430000185966492.\u001b[0m\n",
      "\u001b[32m[I 2023-02-27 13:18:06,020]\u001b[0m Trial 56 finished with value: 0.9399999976158142 and parameters: {'number_of_layer': 3, 'layer_0': 121, 'layer_1': 164, 'layer_2': 164}. Best is trial 33 with value: 0.9430000185966492.\u001b[0m\n",
      "\u001b[32m[I 2023-02-27 13:18:27,240]\u001b[0m Trial 57 finished with value: 0.9330000281333923 and parameters: {'number_of_layer': 3, 'layer_0': 137, 'layer_1': 159, 'layer_2': 195}. Best is trial 33 with value: 0.9430000185966492.\u001b[0m\n",
      "\u001b[32m[I 2023-02-27 13:18:46,604]\u001b[0m Trial 58 finished with value: 0.9350000023841858 and parameters: {'number_of_layer': 2, 'layer_0': 167, 'layer_1': 125}. Best is trial 33 with value: 0.9430000185966492.\u001b[0m\n",
      "\u001b[32m[I 2023-02-27 13:19:08,479]\u001b[0m Trial 59 finished with value: 0.9380000233650208 and parameters: {'number_of_layer': 2, 'layer_0': 29, 'layer_1': 137}. Best is trial 33 with value: 0.9430000185966492.\u001b[0m\n",
      "\u001b[32m[I 2023-02-27 13:19:21,400]\u001b[0m Trial 60 finished with value: 0.6710000038146973 and parameters: {'number_of_layer': 8, 'layer_0': 189, 'layer_1': 259, 'layer_2': 106, 'layer_3': 130, 'layer_4': 84, 'layer_5': 172, 'layer_6': 296, 'layer_7': 288}. Best is trial 33 with value: 0.9430000185966492.\u001b[0m\n",
      "\u001b[32m[I 2023-02-27 13:19:40,446]\u001b[0m Trial 61 finished with value: 0.9319999814033508 and parameters: {'number_of_layer': 1, 'layer_0': 83}. Best is trial 33 with value: 0.9430000185966492.\u001b[0m\n",
      "\u001b[32m[I 2023-02-27 13:19:55,331]\u001b[0m Trial 62 finished with value: 0.9390000104904175 and parameters: {'number_of_layer': 1, 'layer_0': 300}. Best is trial 33 with value: 0.9430000185966492.\u001b[0m\n",
      "\u001b[32m[I 2023-02-27 13:20:17,646]\u001b[0m Trial 63 finished with value: 0.9359999895095825 and parameters: {'number_of_layer': 2, 'layer_0': 118, 'layer_1': 239}. Best is trial 33 with value: 0.9430000185966492.\u001b[0m\n",
      "\u001b[32m[I 2023-02-27 13:20:35,829]\u001b[0m Trial 64 finished with value: 0.9350000023841858 and parameters: {'number_of_layer': 1, 'layer_0': 102}. Best is trial 33 with value: 0.9430000185966492.\u001b[0m\n",
      "\u001b[32m[I 2023-02-27 13:20:53,766]\u001b[0m Trial 65 finished with value: 0.9399999976158142 and parameters: {'number_of_layer': 2, 'layer_0': 74, 'layer_1': 103}. Best is trial 33 with value: 0.9430000185966492.\u001b[0m\n",
      "\u001b[32m[I 2023-02-27 13:21:18,914]\u001b[0m Trial 66 finished with value: 0.9390000104904175 and parameters: {'number_of_layer': 3, 'layer_0': 128, 'layer_1': 2, 'layer_2': 77}. Best is trial 33 with value: 0.9430000185966492.\u001b[0m\n",
      "\u001b[32m[I 2023-02-27 13:21:35,640]\u001b[0m Trial 67 finished with value: 0.9340000152587891 and parameters: {'number_of_layer': 1, 'layer_0': 10}. Best is trial 33 with value: 0.9430000185966492.\u001b[0m\n",
      "\u001b[32m[I 2023-02-27 13:21:59,069]\u001b[0m Trial 68 finished with value: 0.9350000023841858 and parameters: {'number_of_layer': 2, 'layer_0': 63, 'layer_1': 154}. Best is trial 33 with value: 0.9430000185966492.\u001b[0m\n",
      "\u001b[32m[I 2023-02-27 13:22:16,617]\u001b[0m Trial 69 finished with value: 0.9399999976158142 and parameters: {'number_of_layer': 1, 'layer_0': 90}. Best is trial 33 with value: 0.9430000185966492.\u001b[0m\n",
      "\u001b[32m[I 2023-02-27 13:22:38,520]\u001b[0m Trial 70 finished with value: 0.9399999976158142 and parameters: {'number_of_layer': 3, 'layer_0': 154, 'layer_1': 182, 'layer_2': 178}. Best is trial 33 with value: 0.9430000185966492.\u001b[0m\n",
      "\u001b[32m[I 2023-02-27 13:22:59,831]\u001b[0m Trial 71 finished with value: 0.9409999847412109 and parameters: {'number_of_layer': 2, 'layer_0': 190, 'layer_1': 253}. Best is trial 33 with value: 0.9430000185966492.\u001b[0m\n",
      "\u001b[32m[I 2023-02-27 13:23:19,942]\u001b[0m Trial 72 finished with value: 0.9409999847412109 and parameters: {'number_of_layer': 2, 'layer_0': 139, 'layer_1': 281}. Best is trial 33 with value: 0.9430000185966492.\u001b[0m\n",
      "\u001b[32m[I 2023-02-27 13:23:36,405]\u001b[0m Trial 73 finished with value: 0.9419999718666077 and parameters: {'number_of_layer': 2, 'layer_0': 169, 'layer_1': 237}. Best is trial 33 with value: 0.9430000185966492.\u001b[0m\n",
      "\u001b[32m[I 2023-02-27 13:23:54,518]\u001b[0m Trial 74 finished with value: 0.9399999976158142 and parameters: {'number_of_layer': 1, 'layer_0': 174}. Best is trial 33 with value: 0.9430000185966492.\u001b[0m\n",
      "\u001b[32m[I 2023-02-27 13:24:17,400]\u001b[0m Trial 75 finished with value: 0.9409999847412109 and parameters: {'number_of_layer': 3, 'layer_0': 110, 'layer_1': 215, 'layer_2': 215}. Best is trial 33 with value: 0.9430000185966492.\u001b[0m\n",
      "\u001b[32m[I 2023-02-27 13:24:50,387]\u001b[0m Trial 76 finished with value: 0.9359999895095825 and parameters: {'number_of_layer': 5, 'layer_0': 104, 'layer_1': 237, 'layer_2': 131, 'layer_3': 250, 'layer_4': 204}. Best is trial 33 with value: 0.9430000185966492.\u001b[0m\n",
      "\u001b[32m[I 2023-02-27 13:25:16,240]\u001b[0m Trial 77 finished with value: 0.9300000071525574 and parameters: {'number_of_layer': 2, 'layer_0': 15, 'layer_1': 293}. Best is trial 33 with value: 0.9430000185966492.\u001b[0m\n",
      "\u001b[32m[I 2023-02-27 13:25:34,521]\u001b[0m Trial 78 finished with value: 0.9359999895095825 and parameters: {'number_of_layer': 1, 'layer_0': 45}. Best is trial 33 with value: 0.9430000185966492.\u001b[0m\n",
      "\u001b[32m[I 2023-02-27 13:25:49,386]\u001b[0m Trial 79 finished with value: 0.9359999895095825 and parameters: {'number_of_layer': 2, 'layer_0': 159, 'layer_1': 267}. Best is trial 33 with value: 0.9430000185966492.\u001b[0m\n",
      "\u001b[32m[I 2023-02-27 13:26:10,950]\u001b[0m Trial 80 finished with value: 0.9340000152587891 and parameters: {'number_of_layer': 1, 'layer_0': 126}. Best is trial 33 with value: 0.9430000185966492.\u001b[0m\n",
      "\u001b[32m[I 2023-02-27 13:26:41,166]\u001b[0m Trial 81 finished with value: 0.9350000023841858 and parameters: {'number_of_layer': 2, 'layer_0': 197, 'layer_1': 242}. Best is trial 33 with value: 0.9430000185966492.\u001b[0m\n",
      "\u001b[32m[I 2023-02-27 13:27:02,778]\u001b[0m Trial 82 finished with value: 0.9399999976158142 and parameters: {'number_of_layer': 3, 'layer_0': 178, 'layer_1': 229, 'layer_2': 297}. Best is trial 33 with value: 0.9430000185966492.\u001b[0m\n",
      "\u001b[32m[I 2023-02-27 13:27:21,396]\u001b[0m Trial 83 finished with value: 0.9380000233650208 and parameters: {'number_of_layer': 2, 'layer_0': 208, 'layer_1': 207}. Best is trial 33 with value: 0.9430000185966492.\u001b[0m\n",
      "\u001b[32m[I 2023-02-27 13:27:42,610]\u001b[0m Trial 84 finished with value: 0.9359999895095825 and parameters: {'number_of_layer': 2, 'layer_0': 162, 'layer_1': 192}. Best is trial 33 with value: 0.9430000185966492.\u001b[0m\n",
      "\u001b[32m[I 2023-02-27 13:28:01,960]\u001b[0m Trial 85 finished with value: 0.9369999766349792 and parameters: {'number_of_layer': 2, 'layer_0': 150, 'layer_1': 255}. Best is trial 33 with value: 0.9430000185966492.\u001b[0m\n",
      "\u001b[32m[I 2023-02-27 13:28:32,489]\u001b[0m Trial 86 finished with value: 0.9409999847412109 and parameters: {'number_of_layer': 6, 'layer_0': 84, 'layer_1': 271, 'layer_2': 266, 'layer_3': 28, 'layer_4': 117, 'layer_5': 300}. Best is trial 33 with value: 0.9430000185966492.\u001b[0m\n",
      "\u001b[32m[I 2023-02-27 13:28:47,808]\u001b[0m Trial 87 finished with value: 0.6710000038146973 and parameters: {'number_of_layer': 10, 'layer_0': 58, 'layer_1': 300, 'layer_2': 84, 'layer_3': 100, 'layer_4': 58, 'layer_5': 227, 'layer_6': 103, 'layer_7': 174, 'layer_8': 277, 'layer_9': 290}. Best is trial 33 with value: 0.9430000185966492.\u001b[0m\n",
      "\u001b[32m[I 2023-02-27 13:29:06,440]\u001b[0m Trial 88 finished with value: 0.9359999895095825 and parameters: {'number_of_layer': 1, 'layer_0': 71}. Best is trial 33 with value: 0.9430000185966492.\u001b[0m\n",
      "\u001b[32m[I 2023-02-27 13:29:23,398]\u001b[0m Trial 89 finished with value: 0.9419999718666077 and parameters: {'number_of_layer': 3, 'layer_0': 36, 'layer_1': 177, 'layer_2': 24}. Best is trial 33 with value: 0.9430000185966492.\u001b[0m\n",
      "\u001b[32m[I 2023-02-27 13:29:41,527]\u001b[0m Trial 90 finished with value: 0.9390000104904175 and parameters: {'number_of_layer': 3, 'layer_0': 95, 'layer_1': 172, 'layer_2': 25}. Best is trial 33 with value: 0.9430000185966492.\u001b[0m\n",
      "\u001b[32m[I 2023-02-27 13:30:03,710]\u001b[0m Trial 91 finished with value: 0.9369999766349792 and parameters: {'number_of_layer': 4, 'layer_0': 37, 'layer_1': 209, 'layer_2': 64, 'layer_3': 210}. Best is trial 33 with value: 0.9430000185966492.\u001b[0m\n",
      "\u001b[32m[I 2023-02-27 13:30:23,239]\u001b[0m Trial 92 finished with value: 0.9440000057220459 and parameters: {'number_of_layer': 3, 'layer_0': 16, 'layer_1': 148, 'layer_2': 40}. Best is trial 92 with value: 0.9440000057220459.\u001b[0m\n",
      "\u001b[32m[I 2023-02-27 13:30:41,965]\u001b[0m Trial 93 finished with value: 0.9409999847412109 and parameters: {'number_of_layer': 3, 'layer_0': 19, 'layer_1': 147, 'layer_2': 41}. Best is trial 92 with value: 0.9440000057220459.\u001b[0m\n",
      "\u001b[32m[I 2023-02-27 13:31:07,654]\u001b[0m Trial 94 finished with value: 0.9390000104904175 and parameters: {'number_of_layer': 4, 'layer_0': 30, 'layer_1': 137, 'layer_2': 20, 'layer_3': 161}. Best is trial 92 with value: 0.9440000057220459.\u001b[0m\n",
      "\u001b[32m[I 2023-02-27 13:31:17,643]\u001b[0m Trial 95 finished with value: 0.6710000038146973 and parameters: {'number_of_layer': 4, 'layer_0': 10, 'layer_1': 119, 'layer_2': 1, 'layer_3': 254}. Best is trial 92 with value: 0.9440000057220459.\u001b[0m\n",
      "\u001b[32m[I 2023-02-27 13:31:40,170]\u001b[0m Trial 96 finished with value: 0.9409999847412109 and parameters: {'number_of_layer': 3, 'layer_0': 39, 'layer_1': 180, 'layer_2': 98}. Best is trial 92 with value: 0.9440000057220459.\u001b[0m\n",
      "\u001b[32m[I 2023-02-27 13:31:59,281]\u001b[0m Trial 97 finished with value: 0.9409999847412109 and parameters: {'number_of_layer': 1, 'layer_0': 3}. Best is trial 92 with value: 0.9440000057220459.\u001b[0m\n",
      "\u001b[32m[I 2023-02-27 13:32:39,529]\u001b[0m Trial 98 finished with value: 0.9319999814033508 and parameters: {'number_of_layer': 3, 'layer_0': 48, 'layer_1': 154, 'layer_2': 47}. Best is trial 92 with value: 0.9440000057220459.\u001b[0m\n",
      "\u001b[32m[I 2023-02-27 13:32:57,474]\u001b[0m Trial 99 finished with value: 0.9419999718666077 and parameters: {'number_of_layer': 2, 'layer_0': 18, 'layer_1': 166}. Best is trial 92 with value: 0.9440000057220459.\u001b[0m\n"
     ]
    },
    {
     "name": "stdout",
     "output_type": "stream",
     "text": [
      "Best hyperparameters: {'number_of_layer': 3, 'layer_0': 16, 'layer_1': 148, 'layer_2': 40}\n",
      "Best accuracy: 0.9440000057220459\n"
     ]
    }
   ],
   "source": [
    "sampler = optuna.samplers.TPESampler(seed=RANDOM_SEED)\n",
    "\n",
    "# creat study with one hyperparameter : accuracy\n",
    "study = optuna.create_study(direction='maximize', sampler=sampler)\n",
    "study.optimize(objective, n_trials= N_TRAILS)\n",
    "\n",
    "\n",
    "\n",
    "# Print the best hyperparameters and corresponding accuracy\n",
    "print('Best hyperparameters: {}'.format(study.best_params))\n",
    "print('Best accuracy: {}'.format(study.best_value))\n"
   ]
  },
  {
   "cell_type": "code",
   "execution_count": 111,
   "metadata": {},
   "outputs": [
    {
     "data": {
      "application/vnd.plotly.v1+json": {
       "config": {
        "plotlyServerURL": "https://plot.ly"
       },
       "data": [
        {
         "marker": {
          "color": [
           0,
           1,
           2,
           3,
           4,
           5,
           6,
           7,
           8,
           9,
           10,
           11,
           12,
           13,
           14,
           15,
           16,
           17,
           18,
           19,
           20,
           21,
           22,
           23,
           24,
           25,
           26,
           27,
           28,
           29,
           30,
           31,
           32,
           33,
           34,
           35,
           36,
           37,
           38,
           39,
           40,
           41,
           42,
           43,
           44,
           45,
           46,
           47,
           48,
           49,
           50,
           51,
           52,
           53,
           54,
           55,
           56,
           57,
           58,
           59,
           60,
           61,
           62,
           63,
           64,
           65,
           66,
           67,
           68,
           69,
           70,
           71,
           72,
           73,
           74,
           75,
           76,
           77,
           78,
           79,
           80,
           81,
           82,
           83,
           84,
           85,
           86,
           87,
           88,
           89,
           90,
           91,
           92,
           93,
           94,
           95,
           96,
           97,
           98,
           99
          ],
          "colorbar": {
           "title": {
            "text": "Trial"
           },
           "x": 1,
           "xpad": 40
          },
          "colorscale": [
           [
            0,
            "rgb(247,251,255)"
           ],
           [
            0.125,
            "rgb(222,235,247)"
           ],
           [
            0.25,
            "rgb(198,219,239)"
           ],
           [
            0.375,
            "rgb(158,202,225)"
           ],
           [
            0.5,
            "rgb(107,174,214)"
           ],
           [
            0.625,
            "rgb(66,146,198)"
           ],
           [
            0.75,
            "rgb(33,113,181)"
           ],
           [
            0.875,
            "rgb(8,81,156)"
           ],
           [
            1,
            "rgb(8,48,107)"
           ]
          ],
          "line": {
           "color": "Grey",
           "width": 0.5
          }
         },
         "mode": "markers",
         "showlegend": false,
         "type": "scatter",
         "x": [
          4,
          2,
          7,
          4,
          2,
          5,
          7,
          7,
          4,
          8,
          1,
          10,
          3,
          2,
          2,
          3,
          1,
          3,
          5,
          3,
          1,
          2,
          2,
          3,
          1,
          4,
          2,
          5,
          6,
          4,
          3,
          2,
          2,
          1,
          1,
          1,
          1,
          1,
          3,
          9,
          6,
          2,
          1,
          4,
          2,
          1,
          2,
          3,
          2,
          1,
          4,
          1,
          1,
          2,
          1,
          2,
          3,
          3,
          2,
          2,
          8,
          1,
          1,
          2,
          1,
          2,
          3,
          1,
          2,
          1,
          3,
          2,
          2,
          2,
          1,
          3,
          5,
          2,
          1,
          2,
          1,
          2,
          3,
          2,
          2,
          2,
          6,
          10,
          1,
          3,
          3,
          4,
          3,
          3,
          4,
          4,
          3,
          1,
          3,
          2
         ],
         "y": [
          0.9359999895095825,
          0.9419999718666077,
          0.6710000038146973,
          0.9390000104904175,
          0.9390000104904175,
          0.9390000104904175,
          0.6710000038146973,
          0.6710000038146973,
          0.9390000104904175,
          0.6710000038146973,
          0.9369999766349792,
          0.6710000038146973,
          0.9419999718666077,
          0.9399999976158142,
          0.9330000281333923,
          0.9369999766349792,
          0.9359999895095825,
          0.9380000233650208,
          0.6710000038146973,
          0.9390000104904175,
          0.9399999976158142,
          0.9399999976158142,
          0.9390000104904175,
          0.9390000104904175,
          0.9369999766349792,
          0.9380000233650208,
          0.9409999847412109,
          0.9350000023841858,
          0.6710000038146973,
          0.9309999942779541,
          0.9359999895095825,
          0.9350000023841858,
          0.9369999766349792,
          0.9430000185966492,
          0.9359999895095825,
          0.9419999718666077,
          0.9409999847412109,
          0.9390000104904175,
          0.9369999766349792,
          0.6710000038146973,
          0.6710000038146973,
          0.9369999766349792,
          0.9390000104904175,
          0.9359999895095825,
          0.9409999847412109,
          0.9359999895095825,
          0.9390000104904175,
          0.9350000023841858,
          0.9350000023841858,
          0.9359999895095825,
          0.9390000104904175,
          0.9390000104904175,
          0.9409999847412109,
          0.9340000152587891,
          0.9409999847412109,
          0.9419999718666077,
          0.9399999976158142,
          0.9330000281333923,
          0.9350000023841858,
          0.9380000233650208,
          0.6710000038146973,
          0.9319999814033508,
          0.9390000104904175,
          0.9359999895095825,
          0.9350000023841858,
          0.9399999976158142,
          0.9390000104904175,
          0.9340000152587891,
          0.9350000023841858,
          0.9399999976158142,
          0.9399999976158142,
          0.9409999847412109,
          0.9409999847412109,
          0.9419999718666077,
          0.9399999976158142,
          0.9409999847412109,
          0.9359999895095825,
          0.9300000071525574,
          0.9359999895095825,
          0.9359999895095825,
          0.9340000152587891,
          0.9350000023841858,
          0.9399999976158142,
          0.9380000233650208,
          0.9359999895095825,
          0.9369999766349792,
          0.9409999847412109,
          0.6710000038146973,
          0.9359999895095825,
          0.9419999718666077,
          0.9390000104904175,
          0.9369999766349792,
          0.9440000057220459,
          0.9409999847412109,
          0.9390000104904175,
          0.6710000038146973,
          0.9409999847412109,
          0.9409999847412109,
          0.9319999814033508,
          0.9419999718666077
         ]
        }
       ],
       "layout": {
        "template": {
         "data": {
          "bar": [
           {
            "error_x": {
             "color": "#2a3f5f"
            },
            "error_y": {
             "color": "#2a3f5f"
            },
            "marker": {
             "line": {
              "color": "#E5ECF6",
              "width": 0.5
             },
             "pattern": {
              "fillmode": "overlay",
              "size": 10,
              "solidity": 0.2
             }
            },
            "type": "bar"
           }
          ],
          "barpolar": [
           {
            "marker": {
             "line": {
              "color": "#E5ECF6",
              "width": 0.5
             },
             "pattern": {
              "fillmode": "overlay",
              "size": 10,
              "solidity": 0.2
             }
            },
            "type": "barpolar"
           }
          ],
          "carpet": [
           {
            "aaxis": {
             "endlinecolor": "#2a3f5f",
             "gridcolor": "white",
             "linecolor": "white",
             "minorgridcolor": "white",
             "startlinecolor": "#2a3f5f"
            },
            "baxis": {
             "endlinecolor": "#2a3f5f",
             "gridcolor": "white",
             "linecolor": "white",
             "minorgridcolor": "white",
             "startlinecolor": "#2a3f5f"
            },
            "type": "carpet"
           }
          ],
          "choropleth": [
           {
            "colorbar": {
             "outlinewidth": 0,
             "ticks": ""
            },
            "type": "choropleth"
           }
          ],
          "contour": [
           {
            "colorbar": {
             "outlinewidth": 0,
             "ticks": ""
            },
            "colorscale": [
             [
              0,
              "#0d0887"
             ],
             [
              0.1111111111111111,
              "#46039f"
             ],
             [
              0.2222222222222222,
              "#7201a8"
             ],
             [
              0.3333333333333333,
              "#9c179e"
             ],
             [
              0.4444444444444444,
              "#bd3786"
             ],
             [
              0.5555555555555556,
              "#d8576b"
             ],
             [
              0.6666666666666666,
              "#ed7953"
             ],
             [
              0.7777777777777778,
              "#fb9f3a"
             ],
             [
              0.8888888888888888,
              "#fdca26"
             ],
             [
              1,
              "#f0f921"
             ]
            ],
            "type": "contour"
           }
          ],
          "contourcarpet": [
           {
            "colorbar": {
             "outlinewidth": 0,
             "ticks": ""
            },
            "type": "contourcarpet"
           }
          ],
          "heatmap": [
           {
            "colorbar": {
             "outlinewidth": 0,
             "ticks": ""
            },
            "colorscale": [
             [
              0,
              "#0d0887"
             ],
             [
              0.1111111111111111,
              "#46039f"
             ],
             [
              0.2222222222222222,
              "#7201a8"
             ],
             [
              0.3333333333333333,
              "#9c179e"
             ],
             [
              0.4444444444444444,
              "#bd3786"
             ],
             [
              0.5555555555555556,
              "#d8576b"
             ],
             [
              0.6666666666666666,
              "#ed7953"
             ],
             [
              0.7777777777777778,
              "#fb9f3a"
             ],
             [
              0.8888888888888888,
              "#fdca26"
             ],
             [
              1,
              "#f0f921"
             ]
            ],
            "type": "heatmap"
           }
          ],
          "heatmapgl": [
           {
            "colorbar": {
             "outlinewidth": 0,
             "ticks": ""
            },
            "colorscale": [
             [
              0,
              "#0d0887"
             ],
             [
              0.1111111111111111,
              "#46039f"
             ],
             [
              0.2222222222222222,
              "#7201a8"
             ],
             [
              0.3333333333333333,
              "#9c179e"
             ],
             [
              0.4444444444444444,
              "#bd3786"
             ],
             [
              0.5555555555555556,
              "#d8576b"
             ],
             [
              0.6666666666666666,
              "#ed7953"
             ],
             [
              0.7777777777777778,
              "#fb9f3a"
             ],
             [
              0.8888888888888888,
              "#fdca26"
             ],
             [
              1,
              "#f0f921"
             ]
            ],
            "type": "heatmapgl"
           }
          ],
          "histogram": [
           {
            "marker": {
             "pattern": {
              "fillmode": "overlay",
              "size": 10,
              "solidity": 0.2
             }
            },
            "type": "histogram"
           }
          ],
          "histogram2d": [
           {
            "colorbar": {
             "outlinewidth": 0,
             "ticks": ""
            },
            "colorscale": [
             [
              0,
              "#0d0887"
             ],
             [
              0.1111111111111111,
              "#46039f"
             ],
             [
              0.2222222222222222,
              "#7201a8"
             ],
             [
              0.3333333333333333,
              "#9c179e"
             ],
             [
              0.4444444444444444,
              "#bd3786"
             ],
             [
              0.5555555555555556,
              "#d8576b"
             ],
             [
              0.6666666666666666,
              "#ed7953"
             ],
             [
              0.7777777777777778,
              "#fb9f3a"
             ],
             [
              0.8888888888888888,
              "#fdca26"
             ],
             [
              1,
              "#f0f921"
             ]
            ],
            "type": "histogram2d"
           }
          ],
          "histogram2dcontour": [
           {
            "colorbar": {
             "outlinewidth": 0,
             "ticks": ""
            },
            "colorscale": [
             [
              0,
              "#0d0887"
             ],
             [
              0.1111111111111111,
              "#46039f"
             ],
             [
              0.2222222222222222,
              "#7201a8"
             ],
             [
              0.3333333333333333,
              "#9c179e"
             ],
             [
              0.4444444444444444,
              "#bd3786"
             ],
             [
              0.5555555555555556,
              "#d8576b"
             ],
             [
              0.6666666666666666,
              "#ed7953"
             ],
             [
              0.7777777777777778,
              "#fb9f3a"
             ],
             [
              0.8888888888888888,
              "#fdca26"
             ],
             [
              1,
              "#f0f921"
             ]
            ],
            "type": "histogram2dcontour"
           }
          ],
          "mesh3d": [
           {
            "colorbar": {
             "outlinewidth": 0,
             "ticks": ""
            },
            "type": "mesh3d"
           }
          ],
          "parcoords": [
           {
            "line": {
             "colorbar": {
              "outlinewidth": 0,
              "ticks": ""
             }
            },
            "type": "parcoords"
           }
          ],
          "pie": [
           {
            "automargin": true,
            "type": "pie"
           }
          ],
          "scatter": [
           {
            "fillpattern": {
             "fillmode": "overlay",
             "size": 10,
             "solidity": 0.2
            },
            "type": "scatter"
           }
          ],
          "scatter3d": [
           {
            "line": {
             "colorbar": {
              "outlinewidth": 0,
              "ticks": ""
             }
            },
            "marker": {
             "colorbar": {
              "outlinewidth": 0,
              "ticks": ""
             }
            },
            "type": "scatter3d"
           }
          ],
          "scattercarpet": [
           {
            "marker": {
             "colorbar": {
              "outlinewidth": 0,
              "ticks": ""
             }
            },
            "type": "scattercarpet"
           }
          ],
          "scattergeo": [
           {
            "marker": {
             "colorbar": {
              "outlinewidth": 0,
              "ticks": ""
             }
            },
            "type": "scattergeo"
           }
          ],
          "scattergl": [
           {
            "marker": {
             "colorbar": {
              "outlinewidth": 0,
              "ticks": ""
             }
            },
            "type": "scattergl"
           }
          ],
          "scattermapbox": [
           {
            "marker": {
             "colorbar": {
              "outlinewidth": 0,
              "ticks": ""
             }
            },
            "type": "scattermapbox"
           }
          ],
          "scatterpolar": [
           {
            "marker": {
             "colorbar": {
              "outlinewidth": 0,
              "ticks": ""
             }
            },
            "type": "scatterpolar"
           }
          ],
          "scatterpolargl": [
           {
            "marker": {
             "colorbar": {
              "outlinewidth": 0,
              "ticks": ""
             }
            },
            "type": "scatterpolargl"
           }
          ],
          "scatterternary": [
           {
            "marker": {
             "colorbar": {
              "outlinewidth": 0,
              "ticks": ""
             }
            },
            "type": "scatterternary"
           }
          ],
          "surface": [
           {
            "colorbar": {
             "outlinewidth": 0,
             "ticks": ""
            },
            "colorscale": [
             [
              0,
              "#0d0887"
             ],
             [
              0.1111111111111111,
              "#46039f"
             ],
             [
              0.2222222222222222,
              "#7201a8"
             ],
             [
              0.3333333333333333,
              "#9c179e"
             ],
             [
              0.4444444444444444,
              "#bd3786"
             ],
             [
              0.5555555555555556,
              "#d8576b"
             ],
             [
              0.6666666666666666,
              "#ed7953"
             ],
             [
              0.7777777777777778,
              "#fb9f3a"
             ],
             [
              0.8888888888888888,
              "#fdca26"
             ],
             [
              1,
              "#f0f921"
             ]
            ],
            "type": "surface"
           }
          ],
          "table": [
           {
            "cells": {
             "fill": {
              "color": "#EBF0F8"
             },
             "line": {
              "color": "white"
             }
            },
            "header": {
             "fill": {
              "color": "#C8D4E3"
             },
             "line": {
              "color": "white"
             }
            },
            "type": "table"
           }
          ]
         },
         "layout": {
          "annotationdefaults": {
           "arrowcolor": "#2a3f5f",
           "arrowhead": 0,
           "arrowwidth": 1
          },
          "autotypenumbers": "strict",
          "coloraxis": {
           "colorbar": {
            "outlinewidth": 0,
            "ticks": ""
           }
          },
          "colorscale": {
           "diverging": [
            [
             0,
             "#8e0152"
            ],
            [
             0.1,
             "#c51b7d"
            ],
            [
             0.2,
             "#de77ae"
            ],
            [
             0.3,
             "#f1b6da"
            ],
            [
             0.4,
             "#fde0ef"
            ],
            [
             0.5,
             "#f7f7f7"
            ],
            [
             0.6,
             "#e6f5d0"
            ],
            [
             0.7,
             "#b8e186"
            ],
            [
             0.8,
             "#7fbc41"
            ],
            [
             0.9,
             "#4d9221"
            ],
            [
             1,
             "#276419"
            ]
           ],
           "sequential": [
            [
             0,
             "#0d0887"
            ],
            [
             0.1111111111111111,
             "#46039f"
            ],
            [
             0.2222222222222222,
             "#7201a8"
            ],
            [
             0.3333333333333333,
             "#9c179e"
            ],
            [
             0.4444444444444444,
             "#bd3786"
            ],
            [
             0.5555555555555556,
             "#d8576b"
            ],
            [
             0.6666666666666666,
             "#ed7953"
            ],
            [
             0.7777777777777778,
             "#fb9f3a"
            ],
            [
             0.8888888888888888,
             "#fdca26"
            ],
            [
             1,
             "#f0f921"
            ]
           ],
           "sequentialminus": [
            [
             0,
             "#0d0887"
            ],
            [
             0.1111111111111111,
             "#46039f"
            ],
            [
             0.2222222222222222,
             "#7201a8"
            ],
            [
             0.3333333333333333,
             "#9c179e"
            ],
            [
             0.4444444444444444,
             "#bd3786"
            ],
            [
             0.5555555555555556,
             "#d8576b"
            ],
            [
             0.6666666666666666,
             "#ed7953"
            ],
            [
             0.7777777777777778,
             "#fb9f3a"
            ],
            [
             0.8888888888888888,
             "#fdca26"
            ],
            [
             1,
             "#f0f921"
            ]
           ]
          },
          "colorway": [
           "#636efa",
           "#EF553B",
           "#00cc96",
           "#ab63fa",
           "#FFA15A",
           "#19d3f3",
           "#FF6692",
           "#B6E880",
           "#FF97FF",
           "#FECB52"
          ],
          "font": {
           "color": "#2a3f5f"
          },
          "geo": {
           "bgcolor": "white",
           "lakecolor": "white",
           "landcolor": "#E5ECF6",
           "showlakes": true,
           "showland": true,
           "subunitcolor": "white"
          },
          "hoverlabel": {
           "align": "left"
          },
          "hovermode": "closest",
          "mapbox": {
           "style": "light"
          },
          "paper_bgcolor": "white",
          "plot_bgcolor": "#E5ECF6",
          "polar": {
           "angularaxis": {
            "gridcolor": "white",
            "linecolor": "white",
            "ticks": ""
           },
           "bgcolor": "#E5ECF6",
           "radialaxis": {
            "gridcolor": "white",
            "linecolor": "white",
            "ticks": ""
           }
          },
          "scene": {
           "xaxis": {
            "backgroundcolor": "#E5ECF6",
            "gridcolor": "white",
            "gridwidth": 2,
            "linecolor": "white",
            "showbackground": true,
            "ticks": "",
            "zerolinecolor": "white"
           },
           "yaxis": {
            "backgroundcolor": "#E5ECF6",
            "gridcolor": "white",
            "gridwidth": 2,
            "linecolor": "white",
            "showbackground": true,
            "ticks": "",
            "zerolinecolor": "white"
           },
           "zaxis": {
            "backgroundcolor": "#E5ECF6",
            "gridcolor": "white",
            "gridwidth": 2,
            "linecolor": "white",
            "showbackground": true,
            "ticks": "",
            "zerolinecolor": "white"
           }
          },
          "shapedefaults": {
           "line": {
            "color": "#2a3f5f"
           }
          },
          "ternary": {
           "aaxis": {
            "gridcolor": "white",
            "linecolor": "white",
            "ticks": ""
           },
           "baxis": {
            "gridcolor": "white",
            "linecolor": "white",
            "ticks": ""
           },
           "bgcolor": "#E5ECF6",
           "caxis": {
            "gridcolor": "white",
            "linecolor": "white",
            "ticks": ""
           }
          },
          "title": {
           "x": 0.05
          },
          "xaxis": {
           "automargin": true,
           "gridcolor": "white",
           "linecolor": "white",
           "ticks": "",
           "title": {
            "standoff": 15
           },
           "zerolinecolor": "white",
           "zerolinewidth": 2
          },
          "yaxis": {
           "automargin": true,
           "gridcolor": "white",
           "linecolor": "white",
           "ticks": "",
           "title": {
            "standoff": 15
           },
           "zerolinecolor": "white",
           "zerolinewidth": 2
          }
         }
        },
        "title": {
         "text": "Slice Plot"
        },
        "xaxis": {
         "title": {
          "text": "number_of_layer"
         }
        },
        "yaxis": {
         "title": {
          "text": "accuracy"
         }
        }
       }
      }
     },
     "metadata": {},
     "output_type": "display_data"
    },
    {
     "data": {
      "application/vnd.plotly.v1+json": {
       "config": {
        "plotlyServerURL": "https://plot.ly"
       },
       "data": [
        {
         "marker": {
          "color": [
           0,
           1,
           2,
           3,
           4,
           5,
           6,
           7,
           8,
           9,
           10,
           11,
           12,
           13,
           14,
           15,
           16,
           17,
           18,
           19,
           20,
           21,
           22,
           23,
           24,
           25,
           26,
           27,
           28,
           29,
           30,
           31,
           32,
           33,
           34,
           35,
           36,
           37,
           38,
           39,
           40,
           41,
           42,
           43,
           44,
           45,
           46,
           47,
           48,
           49,
           50,
           51,
           52,
           53,
           54,
           55,
           56,
           57,
           58,
           59,
           60,
           61,
           62,
           63,
           64,
           65,
           66,
           67,
           68,
           69,
           70,
           71,
           72,
           73,
           74,
           75,
           76,
           77,
           78,
           79,
           80,
           81,
           82,
           83,
           84,
           85,
           86,
           87,
           88,
           89,
           90,
           91,
           92,
           93,
           94,
           95,
           96,
           97,
           98,
           99
          ],
          "colorbar": {
           "title": {
            "text": "Trial"
           },
           "x": 1,
           "xpad": 40
          },
          "colorscale": [
           [
            0,
            "rgb(247,251,255)"
           ],
           [
            0.125,
            "rgb(222,235,247)"
           ],
           [
            0.25,
            "rgb(198,219,239)"
           ],
           [
            0.375,
            "rgb(158,202,225)"
           ],
           [
            0.5,
            "rgb(107,174,214)"
           ],
           [
            0.625,
            "rgb(66,146,198)"
           ],
           [
            0.75,
            "rgb(33,113,181)"
           ],
           [
            0.875,
            "rgb(8,81,156)"
           ],
           [
            1,
            "rgb(8,48,107)"
           ]
          ],
          "line": {
           "color": "Grey",
           "width": 0.5
          },
          "showscale": true
         },
         "mode": "markers",
         "showlegend": false,
         "type": "scatter",
         "x": [
          286,
          18,
          213,
          158,
          88,
          236,
          52,
          133,
          157,
          282,
          2,
          167,
          100,
          2,
          68,
          105,
          40,
          115,
          37,
          190,
          81,
          7,
          25,
          62,
          24,
          4,
          87,
          130,
          89,
          104,
          130,
          49,
          24,
          67,
          70,
          88,
          108,
          56,
          76,
          145,
          225,
          87,
          99,
          121,
          171,
          42,
          94,
          254,
          146,
          65,
          53,
          113,
          109,
          78,
          96,
          123,
          121,
          137,
          167,
          29,
          189,
          83,
          300,
          118,
          102,
          74,
          128,
          10,
          63,
          90,
          154,
          190,
          139,
          169,
          174,
          110,
          104,
          15,
          45,
          159,
          126,
          197,
          178,
          208,
          162,
          150,
          84,
          58,
          71,
          36,
          95,
          37,
          16,
          19,
          30,
          10,
          39,
          3,
          48,
          18
         ],
         "xaxis": "x",
         "y": [
          0.9359999895095825,
          0.9419999718666077,
          0.6710000038146973,
          0.9390000104904175,
          0.9390000104904175,
          0.9390000104904175,
          0.6710000038146973,
          0.6710000038146973,
          0.9390000104904175,
          0.6710000038146973,
          0.9369999766349792,
          0.6710000038146973,
          0.9419999718666077,
          0.9399999976158142,
          0.9330000281333923,
          0.9369999766349792,
          0.9359999895095825,
          0.9380000233650208,
          0.6710000038146973,
          0.9390000104904175,
          0.9399999976158142,
          0.9399999976158142,
          0.9390000104904175,
          0.9390000104904175,
          0.9369999766349792,
          0.9380000233650208,
          0.9409999847412109,
          0.9350000023841858,
          0.6710000038146973,
          0.9309999942779541,
          0.9359999895095825,
          0.9350000023841858,
          0.9369999766349792,
          0.9430000185966492,
          0.9359999895095825,
          0.9419999718666077,
          0.9409999847412109,
          0.9390000104904175,
          0.9369999766349792,
          0.6710000038146973,
          0.6710000038146973,
          0.9369999766349792,
          0.9390000104904175,
          0.9359999895095825,
          0.9409999847412109,
          0.9359999895095825,
          0.9390000104904175,
          0.9350000023841858,
          0.9350000023841858,
          0.9359999895095825,
          0.9390000104904175,
          0.9390000104904175,
          0.9409999847412109,
          0.9340000152587891,
          0.9409999847412109,
          0.9419999718666077,
          0.9399999976158142,
          0.9330000281333923,
          0.9350000023841858,
          0.9380000233650208,
          0.6710000038146973,
          0.9319999814033508,
          0.9390000104904175,
          0.9359999895095825,
          0.9350000023841858,
          0.9399999976158142,
          0.9390000104904175,
          0.9340000152587891,
          0.9350000023841858,
          0.9399999976158142,
          0.9399999976158142,
          0.9409999847412109,
          0.9409999847412109,
          0.9419999718666077,
          0.9399999976158142,
          0.9409999847412109,
          0.9359999895095825,
          0.9300000071525574,
          0.9359999895095825,
          0.9359999895095825,
          0.9340000152587891,
          0.9350000023841858,
          0.9399999976158142,
          0.9380000233650208,
          0.9359999895095825,
          0.9369999766349792,
          0.9409999847412109,
          0.6710000038146973,
          0.9359999895095825,
          0.9419999718666077,
          0.9390000104904175,
          0.9369999766349792,
          0.9440000057220459,
          0.9409999847412109,
          0.9390000104904175,
          0.6710000038146973,
          0.9409999847412109,
          0.9409999847412109,
          0.9319999814033508,
          0.9419999718666077
         ],
         "yaxis": "y"
        },
        {
         "marker": {
          "color": [
           0,
           1,
           2,
           3,
           4,
           5,
           6,
           7,
           8,
           9,
           11,
           12,
           13,
           14,
           15,
           17,
           18,
           19,
           21,
           22,
           23,
           25,
           26,
           27,
           28,
           29,
           30,
           31,
           32,
           38,
           39,
           40,
           41,
           43,
           44,
           46,
           47,
           48,
           50,
           53,
           55,
           56,
           57,
           58,
           59,
           60,
           63,
           65,
           66,
           68,
           70,
           71,
           72,
           73,
           75,
           76,
           77,
           79,
           81,
           82,
           83,
           84,
           85,
           86,
           87,
           89,
           90,
           91,
           92,
           93,
           94,
           95,
           96,
           98,
           99
          ],
          "colorbar": {
           "title": {
            "text": "Trial"
           },
           "x": 1,
           "xpad": 40
          },
          "colorscale": [
           [
            0,
            "rgb(247,251,255)"
           ],
           [
            0.125,
            "rgb(222,235,247)"
           ],
           [
            0.25,
            "rgb(198,219,239)"
           ],
           [
            0.375,
            "rgb(158,202,225)"
           ],
           [
            0.5,
            "rgb(107,174,214)"
           ],
           [
            0.625,
            "rgb(66,146,198)"
           ],
           [
            0.75,
            "rgb(33,113,181)"
           ],
           [
            0.875,
            "rgb(8,81,156)"
           ],
           [
            1,
            "rgb(8,48,107)"
           ]
          ],
          "line": {
           "color": "Grey",
           "width": 0.5
          },
          "showscale": false
         },
         "mode": "markers",
         "showlegend": false,
         "type": "scatter",
         "x": [
          220,
          260,
          7,
          130,
          110,
          60,
          20,
          37,
          165,
          269,
          296,
          163,
          203,
          234,
          173,
          84,
          251,
          196,
          201,
          145,
          278,
          202,
          231,
          246,
          290,
          262,
          170,
          218,
          228,
          103,
          141,
          120,
          187,
          223,
          248,
          88,
          276,
          182,
          55,
          214,
          154,
          164,
          159,
          125,
          137,
          259,
          239,
          103,
          2,
          154,
          182,
          253,
          281,
          237,
          215,
          237,
          293,
          267,
          242,
          229,
          207,
          192,
          255,
          271,
          300,
          177,
          172,
          209,
          148,
          147,
          137,
          119,
          180,
          154,
          166
         ],
         "xaxis": "x2",
         "y": [
          0.9359999895095825,
          0.9419999718666077,
          0.6710000038146973,
          0.9390000104904175,
          0.9390000104904175,
          0.9390000104904175,
          0.6710000038146973,
          0.6710000038146973,
          0.9390000104904175,
          0.6710000038146973,
          0.6710000038146973,
          0.9419999718666077,
          0.9399999976158142,
          0.9330000281333923,
          0.9369999766349792,
          0.9380000233650208,
          0.6710000038146973,
          0.9390000104904175,
          0.9399999976158142,
          0.9390000104904175,
          0.9390000104904175,
          0.9380000233650208,
          0.9409999847412109,
          0.9350000023841858,
          0.6710000038146973,
          0.9309999942779541,
          0.9359999895095825,
          0.9350000023841858,
          0.9369999766349792,
          0.9369999766349792,
          0.6710000038146973,
          0.6710000038146973,
          0.9369999766349792,
          0.9359999895095825,
          0.9409999847412109,
          0.9390000104904175,
          0.9350000023841858,
          0.9350000023841858,
          0.9390000104904175,
          0.9340000152587891,
          0.9419999718666077,
          0.9399999976158142,
          0.9330000281333923,
          0.9350000023841858,
          0.9380000233650208,
          0.6710000038146973,
          0.9359999895095825,
          0.9399999976158142,
          0.9390000104904175,
          0.9350000023841858,
          0.9399999976158142,
          0.9409999847412109,
          0.9409999847412109,
          0.9419999718666077,
          0.9409999847412109,
          0.9359999895095825,
          0.9300000071525574,
          0.9359999895095825,
          0.9350000023841858,
          0.9399999976158142,
          0.9380000233650208,
          0.9359999895095825,
          0.9369999766349792,
          0.9409999847412109,
          0.6710000038146973,
          0.9419999718666077,
          0.9390000104904175,
          0.9369999766349792,
          0.9440000057220459,
          0.9409999847412109,
          0.9390000104904175,
          0.6710000038146973,
          0.9409999847412109,
          0.9319999814033508,
          0.9419999718666077
         ],
         "yaxis": "y2"
        },
        {
         "marker": {
          "color": [
           0,
           2,
           3,
           5,
           6,
           7,
           8,
           9,
           11,
           12,
           15,
           17,
           18,
           19,
           23,
           25,
           27,
           28,
           29,
           30,
           38,
           39,
           40,
           43,
           47,
           50,
           56,
           57,
           60,
           66,
           70,
           75,
           76,
           82,
           86,
           87,
           89,
           90,
           91,
           92,
           93,
           94,
           95,
           96,
           98
          ],
          "colorbar": {
           "title": {
            "text": "Trial"
           },
           "x": 1,
           "xpad": 40
          },
          "colorscale": [
           [
            0,
            "rgb(247,251,255)"
           ],
           [
            0.125,
            "rgb(222,235,247)"
           ],
           [
            0.25,
            "rgb(198,219,239)"
           ],
           [
            0.375,
            "rgb(158,202,225)"
           ],
           [
            0.5,
            "rgb(107,174,214)"
           ],
           [
            0.625,
            "rgb(66,146,198)"
           ],
           [
            0.75,
            "rgb(33,113,181)"
           ],
           [
            0.875,
            "rgb(8,81,156)"
           ],
           [
            1,
            "rgb(8,48,107)"
           ]
          ],
          "line": {
           "color": "Grey",
           "width": 0.5
          },
          "showscale": false
         },
         "mode": "markers",
         "showlegend": false,
         "type": "scatter",
         "x": [
          180,
          291,
          88,
          155,
          285,
          149,
          56,
          180,
          12,
          100,
          96,
          245,
          4,
          110,
          226,
          50,
          130,
          55,
          217,
          31,
          73,
          119,
          194,
          266,
          143,
          33,
          164,
          195,
          106,
          77,
          178,
          215,
          131,
          297,
          266,
          84,
          24,
          25,
          64,
          40,
          41,
          20,
          1,
          98,
          47
         ],
         "xaxis": "x3",
         "y": [
          0.9359999895095825,
          0.6710000038146973,
          0.9390000104904175,
          0.9390000104904175,
          0.6710000038146973,
          0.6710000038146973,
          0.9390000104904175,
          0.6710000038146973,
          0.6710000038146973,
          0.9419999718666077,
          0.9369999766349792,
          0.9380000233650208,
          0.6710000038146973,
          0.9390000104904175,
          0.9390000104904175,
          0.9380000233650208,
          0.9350000023841858,
          0.6710000038146973,
          0.9309999942779541,
          0.9359999895095825,
          0.9369999766349792,
          0.6710000038146973,
          0.6710000038146973,
          0.9359999895095825,
          0.9350000023841858,
          0.9390000104904175,
          0.9399999976158142,
          0.9330000281333923,
          0.6710000038146973,
          0.9390000104904175,
          0.9399999976158142,
          0.9409999847412109,
          0.9359999895095825,
          0.9399999976158142,
          0.9409999847412109,
          0.6710000038146973,
          0.9419999718666077,
          0.9390000104904175,
          0.9369999766349792,
          0.9440000057220459,
          0.9409999847412109,
          0.9390000104904175,
          0.6710000038146973,
          0.9409999847412109,
          0.9319999814033508
         ],
         "yaxis": "y3"
        },
        {
         "marker": {
          "color": [
           0,
           2,
           3,
           5,
           6,
           7,
           8,
           9,
           11,
           18,
           25,
           27,
           28,
           29,
           39,
           40,
           43,
           50,
           60,
           76,
           86,
           87,
           91,
           94,
           95
          ],
          "colorbar": {
           "title": {
            "text": "Trial"
           },
           "x": 1,
           "xpad": 40
          },
          "colorscale": [
           [
            0,
            "rgb(247,251,255)"
           ],
           [
            0.125,
            "rgb(222,235,247)"
           ],
           [
            0.25,
            "rgb(198,219,239)"
           ],
           [
            0.375,
            "rgb(158,202,225)"
           ],
           [
            0.5,
            "rgb(107,174,214)"
           ],
           [
            0.625,
            "rgb(66,146,198)"
           ],
           [
            0.75,
            "rgb(33,113,181)"
           ],
           [
            0.875,
            "rgb(8,81,156)"
           ],
           [
            1,
            "rgb(8,48,107)"
           ]
          ],
          "line": {
           "color": "Grey",
           "width": 0.5
          },
          "showscale": false
         },
         "mode": "markers",
         "showlegend": false,
         "type": "scatter",
         "x": [
          47,
          250,
          184,
          178,
          290,
          11,
          291,
          277,
          127,
          92,
          219,
          97,
          1,
          70,
          146,
          219,
          50,
          183,
          130,
          250,
          28,
          100,
          210,
          161,
          254
         ],
         "xaxis": "x4",
         "y": [
          0.9359999895095825,
          0.6710000038146973,
          0.9390000104904175,
          0.9390000104904175,
          0.6710000038146973,
          0.6710000038146973,
          0.9390000104904175,
          0.6710000038146973,
          0.6710000038146973,
          0.6710000038146973,
          0.9380000233650208,
          0.9350000023841858,
          0.6710000038146973,
          0.9309999942779541,
          0.6710000038146973,
          0.6710000038146973,
          0.9359999895095825,
          0.9390000104904175,
          0.6710000038146973,
          0.9359999895095825,
          0.9409999847412109,
          0.6710000038146973,
          0.9369999766349792,
          0.9390000104904175,
          0.6710000038146973
         ],
         "yaxis": "y4"
        },
        {
         "marker": {
          "color": [
           2,
           5,
           6,
           7,
           9,
           11,
           18,
           27,
           28,
           39,
           40,
           60,
           76,
           86,
           87
          ],
          "colorbar": {
           "title": {
            "text": "Trial"
           },
           "x": 1,
           "xpad": 40
          },
          "colorscale": [
           [
            0,
            "rgb(247,251,255)"
           ],
           [
            0.125,
            "rgb(222,235,247)"
           ],
           [
            0.25,
            "rgb(198,219,239)"
           ],
           [
            0.375,
            "rgb(158,202,225)"
           ],
           [
            0.5,
            "rgb(107,174,214)"
           ],
           [
            0.625,
            "rgb(66,146,198)"
           ],
           [
            0.75,
            "rgb(33,113,181)"
           ],
           [
            0.875,
            "rgb(8,81,156)"
           ],
           [
            1,
            "rgb(8,48,107)"
           ]
          ],
          "line": {
           "color": "Grey",
           "width": 0.5
          },
          "showscale": false
         },
         "mode": "markers",
         "showlegend": false,
         "type": "scatter",
         "x": [
          64,
          14,
          243,
          273,
          27,
          164,
          139,
          173,
          106,
          219,
          299,
          84,
          204,
          117,
          58
         ],
         "xaxis": "x5",
         "y": [
          0.6710000038146973,
          0.9390000104904175,
          0.6710000038146973,
          0.6710000038146973,
          0.6710000038146973,
          0.6710000038146973,
          0.6710000038146973,
          0.9350000023841858,
          0.6710000038146973,
          0.6710000038146973,
          0.6710000038146973,
          0.6710000038146973,
          0.9359999895095825,
          0.9409999847412109,
          0.6710000038146973
         ],
         "yaxis": "y5"
        },
        {
         "marker": {
          "color": [
           2,
           6,
           7,
           9,
           11,
           28,
           39,
           40,
           60,
           86,
           87
          ],
          "colorbar": {
           "title": {
            "text": "Trial"
           },
           "x": 1,
           "xpad": 40
          },
          "colorscale": [
           [
            0,
            "rgb(247,251,255)"
           ],
           [
            0.125,
            "rgb(222,235,247)"
           ],
           [
            0.25,
            "rgb(198,219,239)"
           ],
           [
            0.375,
            "rgb(158,202,225)"
           ],
           [
            0.5,
            "rgb(107,174,214)"
           ],
           [
            0.625,
            "rgb(66,146,198)"
           ],
           [
            0.75,
            "rgb(33,113,181)"
           ],
           [
            0.875,
            "rgb(8,81,156)"
           ],
           [
            1,
            "rgb(8,48,107)"
           ]
          ],
          "line": {
           "color": "Grey",
           "width": 0.5
          },
          "showscale": false
         },
         "mode": "markers",
         "showlegend": false,
         "type": "scatter",
         "x": [
          55,
          92,
          78,
          59,
          285,
          225,
          163,
          3,
          172,
          300,
          227
         ],
         "xaxis": "x6",
         "y": [
          0.6710000038146973,
          0.6710000038146973,
          0.6710000038146973,
          0.6710000038146973,
          0.6710000038146973,
          0.6710000038146973,
          0.6710000038146973,
          0.6710000038146973,
          0.6710000038146973,
          0.9409999847412109,
          0.6710000038146973
         ],
         "yaxis": "y6"
        },
        {
         "marker": {
          "color": [
           2,
           6,
           7,
           9,
           11,
           39,
           60,
           87
          ],
          "colorbar": {
           "title": {
            "text": "Trial"
           },
           "x": 1,
           "xpad": 40
          },
          "colorscale": [
           [
            0,
            "rgb(247,251,255)"
           ],
           [
            0.125,
            "rgb(222,235,247)"
           ],
           [
            0.25,
            "rgb(198,219,239)"
           ],
           [
            0.375,
            "rgb(158,202,225)"
           ],
           [
            0.5,
            "rgb(107,174,214)"
           ],
           [
            0.625,
            "rgb(66,146,198)"
           ],
           [
            0.75,
            "rgb(33,113,181)"
           ],
           [
            0.875,
            "rgb(8,81,156)"
           ],
           [
            1,
            "rgb(8,48,107)"
           ]
          ],
          "line": {
           "color": "Grey",
           "width": 0.5
          },
          "showscale": false
         },
         "mode": "markers",
         "showlegend": false,
         "type": "scatter",
         "x": [
          56,
          30,
          199,
          14,
          298,
          152,
          296,
          103
         ],
         "xaxis": "x7",
         "y": [
          0.6710000038146973,
          0.6710000038146973,
          0.6710000038146973,
          0.6710000038146973,
          0.6710000038146973,
          0.6710000038146973,
          0.6710000038146973,
          0.6710000038146973
         ],
         "yaxis": "y7"
        },
        {
         "marker": {
          "color": [
           9,
           11,
           39,
           60,
           87
          ],
          "colorbar": {
           "title": {
            "text": "Trial"
           },
           "x": 1,
           "xpad": 40
          },
          "colorscale": [
           [
            0,
            "rgb(247,251,255)"
           ],
           [
            0.125,
            "rgb(222,235,247)"
           ],
           [
            0.25,
            "rgb(198,219,239)"
           ],
           [
            0.375,
            "rgb(158,202,225)"
           ],
           [
            0.5,
            "rgb(107,174,214)"
           ],
           [
            0.625,
            "rgb(66,146,198)"
           ],
           [
            0.75,
            "rgb(33,113,181)"
           ],
           [
            0.875,
            "rgb(8,81,156)"
           ],
           [
            1,
            "rgb(8,48,107)"
           ]
          ],
          "line": {
           "color": "Grey",
           "width": 0.5
          },
          "showscale": false
         },
         "mode": "markers",
         "showlegend": false,
         "type": "scatter",
         "x": [
          98,
          296,
          8,
          288,
          174
         ],
         "xaxis": "x8",
         "y": [
          0.6710000038146973,
          0.6710000038146973,
          0.6710000038146973,
          0.6710000038146973,
          0.6710000038146973
         ],
         "yaxis": "y8"
        },
        {
         "marker": {
          "color": [
           11,
           39,
           87
          ],
          "colorbar": {
           "title": {
            "text": "Trial"
           },
           "x": 1,
           "xpad": 40
          },
          "colorscale": [
           [
            0,
            "rgb(247,251,255)"
           ],
           [
            0.125,
            "rgb(222,235,247)"
           ],
           [
            0.25,
            "rgb(198,219,239)"
           ],
           [
            0.375,
            "rgb(158,202,225)"
           ],
           [
            0.5,
            "rgb(107,174,214)"
           ],
           [
            0.625,
            "rgb(66,146,198)"
           ],
           [
            0.75,
            "rgb(33,113,181)"
           ],
           [
            0.875,
            "rgb(8,81,156)"
           ],
           [
            1,
            "rgb(8,48,107)"
           ]
          ],
          "line": {
           "color": "Grey",
           "width": 0.5
          },
          "showscale": false
         },
         "mode": "markers",
         "showlegend": false,
         "type": "scatter",
         "x": [
          165,
          13,
          277
         ],
         "xaxis": "x9",
         "y": [
          0.6710000038146973,
          0.6710000038146973,
          0.6710000038146973
         ],
         "yaxis": "y9"
        },
        {
         "marker": {
          "color": [
           11,
           87
          ],
          "colorbar": {
           "title": {
            "text": "Trial"
           },
           "x": 1,
           "xpad": 40
          },
          "colorscale": [
           [
            0,
            "rgb(247,251,255)"
           ],
           [
            0.125,
            "rgb(222,235,247)"
           ],
           [
            0.25,
            "rgb(198,219,239)"
           ],
           [
            0.375,
            "rgb(158,202,225)"
           ],
           [
            0.5,
            "rgb(107,174,214)"
           ],
           [
            0.625,
            "rgb(66,146,198)"
           ],
           [
            0.75,
            "rgb(33,113,181)"
           ],
           [
            0.875,
            "rgb(8,81,156)"
           ],
           [
            1,
            "rgb(8,48,107)"
           ]
          ],
          "line": {
           "color": "Grey",
           "width": 0.5
          },
          "showscale": false
         },
         "mode": "markers",
         "showlegend": false,
         "type": "scatter",
         "x": [
          54,
          290
         ],
         "xaxis": "x10",
         "y": [
          0.6710000038146973,
          0.6710000038146973
         ],
         "yaxis": "y10"
        },
        {
         "marker": {
          "color": [
           0,
           1,
           2,
           3,
           4,
           5,
           6,
           7,
           8,
           9,
           10,
           11,
           12,
           13,
           14,
           15,
           16,
           17,
           18,
           19,
           20,
           21,
           22,
           23,
           24,
           25,
           26,
           27,
           28,
           29,
           30,
           31,
           32,
           33,
           34,
           35,
           36,
           37,
           38,
           39,
           40,
           41,
           42,
           43,
           44,
           45,
           46,
           47,
           48,
           49,
           50,
           51,
           52,
           53,
           54,
           55,
           56,
           57,
           58,
           59,
           60,
           61,
           62,
           63,
           64,
           65,
           66,
           67,
           68,
           69,
           70,
           71,
           72,
           73,
           74,
           75,
           76,
           77,
           78,
           79,
           80,
           81,
           82,
           83,
           84,
           85,
           86,
           87,
           88,
           89,
           90,
           91,
           92,
           93,
           94,
           95,
           96,
           97,
           98,
           99
          ],
          "colorbar": {
           "title": {
            "text": "Trial"
           },
           "x": 1,
           "xpad": 40
          },
          "colorscale": [
           [
            0,
            "rgb(247,251,255)"
           ],
           [
            0.125,
            "rgb(222,235,247)"
           ],
           [
            0.25,
            "rgb(198,219,239)"
           ],
           [
            0.375,
            "rgb(158,202,225)"
           ],
           [
            0.5,
            "rgb(107,174,214)"
           ],
           [
            0.625,
            "rgb(66,146,198)"
           ],
           [
            0.75,
            "rgb(33,113,181)"
           ],
           [
            0.875,
            "rgb(8,81,156)"
           ],
           [
            1,
            "rgb(8,48,107)"
           ]
          ],
          "line": {
           "color": "Grey",
           "width": 0.5
          },
          "showscale": false
         },
         "mode": "markers",
         "showlegend": false,
         "type": "scatter",
         "x": [
          4,
          2,
          7,
          4,
          2,
          5,
          7,
          7,
          4,
          8,
          1,
          10,
          3,
          2,
          2,
          3,
          1,
          3,
          5,
          3,
          1,
          2,
          2,
          3,
          1,
          4,
          2,
          5,
          6,
          4,
          3,
          2,
          2,
          1,
          1,
          1,
          1,
          1,
          3,
          9,
          6,
          2,
          1,
          4,
          2,
          1,
          2,
          3,
          2,
          1,
          4,
          1,
          1,
          2,
          1,
          2,
          3,
          3,
          2,
          2,
          8,
          1,
          1,
          2,
          1,
          2,
          3,
          1,
          2,
          1,
          3,
          2,
          2,
          2,
          1,
          3,
          5,
          2,
          1,
          2,
          1,
          2,
          3,
          2,
          2,
          2,
          6,
          10,
          1,
          3,
          3,
          4,
          3,
          3,
          4,
          4,
          3,
          1,
          3,
          2
         ],
         "xaxis": "x11",
         "y": [
          0.9359999895095825,
          0.9419999718666077,
          0.6710000038146973,
          0.9390000104904175,
          0.9390000104904175,
          0.9390000104904175,
          0.6710000038146973,
          0.6710000038146973,
          0.9390000104904175,
          0.6710000038146973,
          0.9369999766349792,
          0.6710000038146973,
          0.9419999718666077,
          0.9399999976158142,
          0.9330000281333923,
          0.9369999766349792,
          0.9359999895095825,
          0.9380000233650208,
          0.6710000038146973,
          0.9390000104904175,
          0.9399999976158142,
          0.9399999976158142,
          0.9390000104904175,
          0.9390000104904175,
          0.9369999766349792,
          0.9380000233650208,
          0.9409999847412109,
          0.9350000023841858,
          0.6710000038146973,
          0.9309999942779541,
          0.9359999895095825,
          0.9350000023841858,
          0.9369999766349792,
          0.9430000185966492,
          0.9359999895095825,
          0.9419999718666077,
          0.9409999847412109,
          0.9390000104904175,
          0.9369999766349792,
          0.6710000038146973,
          0.6710000038146973,
          0.9369999766349792,
          0.9390000104904175,
          0.9359999895095825,
          0.9409999847412109,
          0.9359999895095825,
          0.9390000104904175,
          0.9350000023841858,
          0.9350000023841858,
          0.9359999895095825,
          0.9390000104904175,
          0.9390000104904175,
          0.9409999847412109,
          0.9340000152587891,
          0.9409999847412109,
          0.9419999718666077,
          0.9399999976158142,
          0.9330000281333923,
          0.9350000023841858,
          0.9380000233650208,
          0.6710000038146973,
          0.9319999814033508,
          0.9390000104904175,
          0.9359999895095825,
          0.9350000023841858,
          0.9399999976158142,
          0.9390000104904175,
          0.9340000152587891,
          0.9350000023841858,
          0.9399999976158142,
          0.9399999976158142,
          0.9409999847412109,
          0.9409999847412109,
          0.9419999718666077,
          0.9399999976158142,
          0.9409999847412109,
          0.9359999895095825,
          0.9300000071525574,
          0.9359999895095825,
          0.9359999895095825,
          0.9340000152587891,
          0.9350000023841858,
          0.9399999976158142,
          0.9380000233650208,
          0.9359999895095825,
          0.9369999766349792,
          0.9409999847412109,
          0.6710000038146973,
          0.9359999895095825,
          0.9419999718666077,
          0.9390000104904175,
          0.9369999766349792,
          0.9440000057220459,
          0.9409999847412109,
          0.9390000104904175,
          0.6710000038146973,
          0.9409999847412109,
          0.9409999847412109,
          0.9319999814033508,
          0.9419999718666077
         ],
         "yaxis": "y11"
        }
       ],
       "layout": {
        "template": {
         "data": {
          "bar": [
           {
            "error_x": {
             "color": "#2a3f5f"
            },
            "error_y": {
             "color": "#2a3f5f"
            },
            "marker": {
             "line": {
              "color": "#E5ECF6",
              "width": 0.5
             },
             "pattern": {
              "fillmode": "overlay",
              "size": 10,
              "solidity": 0.2
             }
            },
            "type": "bar"
           }
          ],
          "barpolar": [
           {
            "marker": {
             "line": {
              "color": "#E5ECF6",
              "width": 0.5
             },
             "pattern": {
              "fillmode": "overlay",
              "size": 10,
              "solidity": 0.2
             }
            },
            "type": "barpolar"
           }
          ],
          "carpet": [
           {
            "aaxis": {
             "endlinecolor": "#2a3f5f",
             "gridcolor": "white",
             "linecolor": "white",
             "minorgridcolor": "white",
             "startlinecolor": "#2a3f5f"
            },
            "baxis": {
             "endlinecolor": "#2a3f5f",
             "gridcolor": "white",
             "linecolor": "white",
             "minorgridcolor": "white",
             "startlinecolor": "#2a3f5f"
            },
            "type": "carpet"
           }
          ],
          "choropleth": [
           {
            "colorbar": {
             "outlinewidth": 0,
             "ticks": ""
            },
            "type": "choropleth"
           }
          ],
          "contour": [
           {
            "colorbar": {
             "outlinewidth": 0,
             "ticks": ""
            },
            "colorscale": [
             [
              0,
              "#0d0887"
             ],
             [
              0.1111111111111111,
              "#46039f"
             ],
             [
              0.2222222222222222,
              "#7201a8"
             ],
             [
              0.3333333333333333,
              "#9c179e"
             ],
             [
              0.4444444444444444,
              "#bd3786"
             ],
             [
              0.5555555555555556,
              "#d8576b"
             ],
             [
              0.6666666666666666,
              "#ed7953"
             ],
             [
              0.7777777777777778,
              "#fb9f3a"
             ],
             [
              0.8888888888888888,
              "#fdca26"
             ],
             [
              1,
              "#f0f921"
             ]
            ],
            "type": "contour"
           }
          ],
          "contourcarpet": [
           {
            "colorbar": {
             "outlinewidth": 0,
             "ticks": ""
            },
            "type": "contourcarpet"
           }
          ],
          "heatmap": [
           {
            "colorbar": {
             "outlinewidth": 0,
             "ticks": ""
            },
            "colorscale": [
             [
              0,
              "#0d0887"
             ],
             [
              0.1111111111111111,
              "#46039f"
             ],
             [
              0.2222222222222222,
              "#7201a8"
             ],
             [
              0.3333333333333333,
              "#9c179e"
             ],
             [
              0.4444444444444444,
              "#bd3786"
             ],
             [
              0.5555555555555556,
              "#d8576b"
             ],
             [
              0.6666666666666666,
              "#ed7953"
             ],
             [
              0.7777777777777778,
              "#fb9f3a"
             ],
             [
              0.8888888888888888,
              "#fdca26"
             ],
             [
              1,
              "#f0f921"
             ]
            ],
            "type": "heatmap"
           }
          ],
          "heatmapgl": [
           {
            "colorbar": {
             "outlinewidth": 0,
             "ticks": ""
            },
            "colorscale": [
             [
              0,
              "#0d0887"
             ],
             [
              0.1111111111111111,
              "#46039f"
             ],
             [
              0.2222222222222222,
              "#7201a8"
             ],
             [
              0.3333333333333333,
              "#9c179e"
             ],
             [
              0.4444444444444444,
              "#bd3786"
             ],
             [
              0.5555555555555556,
              "#d8576b"
             ],
             [
              0.6666666666666666,
              "#ed7953"
             ],
             [
              0.7777777777777778,
              "#fb9f3a"
             ],
             [
              0.8888888888888888,
              "#fdca26"
             ],
             [
              1,
              "#f0f921"
             ]
            ],
            "type": "heatmapgl"
           }
          ],
          "histogram": [
           {
            "marker": {
             "pattern": {
              "fillmode": "overlay",
              "size": 10,
              "solidity": 0.2
             }
            },
            "type": "histogram"
           }
          ],
          "histogram2d": [
           {
            "colorbar": {
             "outlinewidth": 0,
             "ticks": ""
            },
            "colorscale": [
             [
              0,
              "#0d0887"
             ],
             [
              0.1111111111111111,
              "#46039f"
             ],
             [
              0.2222222222222222,
              "#7201a8"
             ],
             [
              0.3333333333333333,
              "#9c179e"
             ],
             [
              0.4444444444444444,
              "#bd3786"
             ],
             [
              0.5555555555555556,
              "#d8576b"
             ],
             [
              0.6666666666666666,
              "#ed7953"
             ],
             [
              0.7777777777777778,
              "#fb9f3a"
             ],
             [
              0.8888888888888888,
              "#fdca26"
             ],
             [
              1,
              "#f0f921"
             ]
            ],
            "type": "histogram2d"
           }
          ],
          "histogram2dcontour": [
           {
            "colorbar": {
             "outlinewidth": 0,
             "ticks": ""
            },
            "colorscale": [
             [
              0,
              "#0d0887"
             ],
             [
              0.1111111111111111,
              "#46039f"
             ],
             [
              0.2222222222222222,
              "#7201a8"
             ],
             [
              0.3333333333333333,
              "#9c179e"
             ],
             [
              0.4444444444444444,
              "#bd3786"
             ],
             [
              0.5555555555555556,
              "#d8576b"
             ],
             [
              0.6666666666666666,
              "#ed7953"
             ],
             [
              0.7777777777777778,
              "#fb9f3a"
             ],
             [
              0.8888888888888888,
              "#fdca26"
             ],
             [
              1,
              "#f0f921"
             ]
            ],
            "type": "histogram2dcontour"
           }
          ],
          "mesh3d": [
           {
            "colorbar": {
             "outlinewidth": 0,
             "ticks": ""
            },
            "type": "mesh3d"
           }
          ],
          "parcoords": [
           {
            "line": {
             "colorbar": {
              "outlinewidth": 0,
              "ticks": ""
             }
            },
            "type": "parcoords"
           }
          ],
          "pie": [
           {
            "automargin": true,
            "type": "pie"
           }
          ],
          "scatter": [
           {
            "fillpattern": {
             "fillmode": "overlay",
             "size": 10,
             "solidity": 0.2
            },
            "type": "scatter"
           }
          ],
          "scatter3d": [
           {
            "line": {
             "colorbar": {
              "outlinewidth": 0,
              "ticks": ""
             }
            },
            "marker": {
             "colorbar": {
              "outlinewidth": 0,
              "ticks": ""
             }
            },
            "type": "scatter3d"
           }
          ],
          "scattercarpet": [
           {
            "marker": {
             "colorbar": {
              "outlinewidth": 0,
              "ticks": ""
             }
            },
            "type": "scattercarpet"
           }
          ],
          "scattergeo": [
           {
            "marker": {
             "colorbar": {
              "outlinewidth": 0,
              "ticks": ""
             }
            },
            "type": "scattergeo"
           }
          ],
          "scattergl": [
           {
            "marker": {
             "colorbar": {
              "outlinewidth": 0,
              "ticks": ""
             }
            },
            "type": "scattergl"
           }
          ],
          "scattermapbox": [
           {
            "marker": {
             "colorbar": {
              "outlinewidth": 0,
              "ticks": ""
             }
            },
            "type": "scattermapbox"
           }
          ],
          "scatterpolar": [
           {
            "marker": {
             "colorbar": {
              "outlinewidth": 0,
              "ticks": ""
             }
            },
            "type": "scatterpolar"
           }
          ],
          "scatterpolargl": [
           {
            "marker": {
             "colorbar": {
              "outlinewidth": 0,
              "ticks": ""
             }
            },
            "type": "scatterpolargl"
           }
          ],
          "scatterternary": [
           {
            "marker": {
             "colorbar": {
              "outlinewidth": 0,
              "ticks": ""
             }
            },
            "type": "scatterternary"
           }
          ],
          "surface": [
           {
            "colorbar": {
             "outlinewidth": 0,
             "ticks": ""
            },
            "colorscale": [
             [
              0,
              "#0d0887"
             ],
             [
              0.1111111111111111,
              "#46039f"
             ],
             [
              0.2222222222222222,
              "#7201a8"
             ],
             [
              0.3333333333333333,
              "#9c179e"
             ],
             [
              0.4444444444444444,
              "#bd3786"
             ],
             [
              0.5555555555555556,
              "#d8576b"
             ],
             [
              0.6666666666666666,
              "#ed7953"
             ],
             [
              0.7777777777777778,
              "#fb9f3a"
             ],
             [
              0.8888888888888888,
              "#fdca26"
             ],
             [
              1,
              "#f0f921"
             ]
            ],
            "type": "surface"
           }
          ],
          "table": [
           {
            "cells": {
             "fill": {
              "color": "#EBF0F8"
             },
             "line": {
              "color": "white"
             }
            },
            "header": {
             "fill": {
              "color": "#C8D4E3"
             },
             "line": {
              "color": "white"
             }
            },
            "type": "table"
           }
          ]
         },
         "layout": {
          "annotationdefaults": {
           "arrowcolor": "#2a3f5f",
           "arrowhead": 0,
           "arrowwidth": 1
          },
          "autotypenumbers": "strict",
          "coloraxis": {
           "colorbar": {
            "outlinewidth": 0,
            "ticks": ""
           }
          },
          "colorscale": {
           "diverging": [
            [
             0,
             "#8e0152"
            ],
            [
             0.1,
             "#c51b7d"
            ],
            [
             0.2,
             "#de77ae"
            ],
            [
             0.3,
             "#f1b6da"
            ],
            [
             0.4,
             "#fde0ef"
            ],
            [
             0.5,
             "#f7f7f7"
            ],
            [
             0.6,
             "#e6f5d0"
            ],
            [
             0.7,
             "#b8e186"
            ],
            [
             0.8,
             "#7fbc41"
            ],
            [
             0.9,
             "#4d9221"
            ],
            [
             1,
             "#276419"
            ]
           ],
           "sequential": [
            [
             0,
             "#0d0887"
            ],
            [
             0.1111111111111111,
             "#46039f"
            ],
            [
             0.2222222222222222,
             "#7201a8"
            ],
            [
             0.3333333333333333,
             "#9c179e"
            ],
            [
             0.4444444444444444,
             "#bd3786"
            ],
            [
             0.5555555555555556,
             "#d8576b"
            ],
            [
             0.6666666666666666,
             "#ed7953"
            ],
            [
             0.7777777777777778,
             "#fb9f3a"
            ],
            [
             0.8888888888888888,
             "#fdca26"
            ],
            [
             1,
             "#f0f921"
            ]
           ],
           "sequentialminus": [
            [
             0,
             "#0d0887"
            ],
            [
             0.1111111111111111,
             "#46039f"
            ],
            [
             0.2222222222222222,
             "#7201a8"
            ],
            [
             0.3333333333333333,
             "#9c179e"
            ],
            [
             0.4444444444444444,
             "#bd3786"
            ],
            [
             0.5555555555555556,
             "#d8576b"
            ],
            [
             0.6666666666666666,
             "#ed7953"
            ],
            [
             0.7777777777777778,
             "#fb9f3a"
            ],
            [
             0.8888888888888888,
             "#fdca26"
            ],
            [
             1,
             "#f0f921"
            ]
           ]
          },
          "colorway": [
           "#636efa",
           "#EF553B",
           "#00cc96",
           "#ab63fa",
           "#FFA15A",
           "#19d3f3",
           "#FF6692",
           "#B6E880",
           "#FF97FF",
           "#FECB52"
          ],
          "font": {
           "color": "#2a3f5f"
          },
          "geo": {
           "bgcolor": "white",
           "lakecolor": "white",
           "landcolor": "#E5ECF6",
           "showlakes": true,
           "showland": true,
           "subunitcolor": "white"
          },
          "hoverlabel": {
           "align": "left"
          },
          "hovermode": "closest",
          "mapbox": {
           "style": "light"
          },
          "paper_bgcolor": "white",
          "plot_bgcolor": "#E5ECF6",
          "polar": {
           "angularaxis": {
            "gridcolor": "white",
            "linecolor": "white",
            "ticks": ""
           },
           "bgcolor": "#E5ECF6",
           "radialaxis": {
            "gridcolor": "white",
            "linecolor": "white",
            "ticks": ""
           }
          },
          "scene": {
           "xaxis": {
            "backgroundcolor": "#E5ECF6",
            "gridcolor": "white",
            "gridwidth": 2,
            "linecolor": "white",
            "showbackground": true,
            "ticks": "",
            "zerolinecolor": "white"
           },
           "yaxis": {
            "backgroundcolor": "#E5ECF6",
            "gridcolor": "white",
            "gridwidth": 2,
            "linecolor": "white",
            "showbackground": true,
            "ticks": "",
            "zerolinecolor": "white"
           },
           "zaxis": {
            "backgroundcolor": "#E5ECF6",
            "gridcolor": "white",
            "gridwidth": 2,
            "linecolor": "white",
            "showbackground": true,
            "ticks": "",
            "zerolinecolor": "white"
           }
          },
          "shapedefaults": {
           "line": {
            "color": "#2a3f5f"
           }
          },
          "ternary": {
           "aaxis": {
            "gridcolor": "white",
            "linecolor": "white",
            "ticks": ""
           },
           "baxis": {
            "gridcolor": "white",
            "linecolor": "white",
            "ticks": ""
           },
           "bgcolor": "#E5ECF6",
           "caxis": {
            "gridcolor": "white",
            "linecolor": "white",
            "ticks": ""
           }
          },
          "title": {
           "x": 0.05
          },
          "xaxis": {
           "automargin": true,
           "gridcolor": "white",
           "linecolor": "white",
           "ticks": "",
           "title": {
            "standoff": 15
           },
           "zerolinecolor": "white",
           "zerolinewidth": 2
          },
          "yaxis": {
           "automargin": true,
           "gridcolor": "white",
           "linecolor": "white",
           "ticks": "",
           "title": {
            "standoff": 15
           },
           "zerolinecolor": "white",
           "zerolinewidth": 2
          }
         }
        },
        "title": {
         "text": "Slice Plot"
        },
        "width": 3300,
        "xaxis": {
         "anchor": "y",
         "domain": [
          0,
          0.07438016528925619
         ],
         "title": {
          "text": "layer_0"
         }
        },
        "xaxis10": {
         "anchor": "y10",
         "domain": [
          0.8330578512396694,
          0.9074380165289255
         ],
         "title": {
          "text": "layer_9"
         }
        },
        "xaxis11": {
         "anchor": "y11",
         "domain": [
          0.9256198347107437,
          0.9999999999999999
         ],
         "title": {
          "text": "number_of_layer"
         }
        },
        "xaxis2": {
         "anchor": "y2",
         "domain": [
          0.09256198347107437,
          0.16694214876033056
         ],
         "title": {
          "text": "layer_1"
         }
        },
        "xaxis3": {
         "anchor": "y3",
         "domain": [
          0.18512396694214875,
          0.25950413223140495
         ],
         "title": {
          "text": "layer_2"
         }
        },
        "xaxis4": {
         "anchor": "y4",
         "domain": [
          0.27768595041322314,
          0.3520661157024793
         ],
         "title": {
          "text": "layer_3"
         }
        },
        "xaxis5": {
         "anchor": "y5",
         "domain": [
          0.3702479338842975,
          0.44462809917355367
         ],
         "title": {
          "text": "layer_4"
         }
        },
        "xaxis6": {
         "anchor": "y6",
         "domain": [
          0.46280991735537186,
          0.5371900826446281
         ],
         "title": {
          "text": "layer_5"
         }
        },
        "xaxis7": {
         "anchor": "y7",
         "domain": [
          0.5553719008264462,
          0.6297520661157023
         ],
         "title": {
          "text": "layer_6"
         }
        },
        "xaxis8": {
         "anchor": "y8",
         "domain": [
          0.6479338842975206,
          0.7223140495867768
         ],
         "title": {
          "text": "layer_7"
         }
        },
        "xaxis9": {
         "anchor": "y9",
         "domain": [
          0.740495867768595,
          0.8148760330578512
         ],
         "title": {
          "text": "layer_8"
         }
        },
        "yaxis": {
         "anchor": "x",
         "domain": [
          0,
          1
         ],
         "title": {
          "text": "accuracy"
         }
        },
        "yaxis10": {
         "anchor": "x10",
         "domain": [
          0,
          1
         ],
         "matches": "y",
         "showticklabels": false
        },
        "yaxis11": {
         "anchor": "x11",
         "domain": [
          0,
          1
         ],
         "matches": "y",
         "showticklabels": false
        },
        "yaxis2": {
         "anchor": "x2",
         "domain": [
          0,
          1
         ],
         "matches": "y",
         "showticklabels": false
        },
        "yaxis3": {
         "anchor": "x3",
         "domain": [
          0,
          1
         ],
         "matches": "y",
         "showticklabels": false
        },
        "yaxis4": {
         "anchor": "x4",
         "domain": [
          0,
          1
         ],
         "matches": "y",
         "showticklabels": false
        },
        "yaxis5": {
         "anchor": "x5",
         "domain": [
          0,
          1
         ],
         "matches": "y",
         "showticklabels": false
        },
        "yaxis6": {
         "anchor": "x6",
         "domain": [
          0,
          1
         ],
         "matches": "y",
         "showticklabels": false
        },
        "yaxis7": {
         "anchor": "x7",
         "domain": [
          0,
          1
         ],
         "matches": "y",
         "showticklabels": false
        },
        "yaxis8": {
         "anchor": "x8",
         "domain": [
          0,
          1
         ],
         "matches": "y",
         "showticklabels": false
        },
        "yaxis9": {
         "anchor": "x9",
         "domain": [
          0,
          1
         ],
         "matches": "y",
         "showticklabels": false
        }
       }
      }
     },
     "metadata": {},
     "output_type": "display_data"
    }
   ],
   "source": [
    "# Ploting Slice Plot: First fig - accuracy over the number of layer in given MLP\n",
    "#                     Secend fig - accuracy over number of layer and number of neuron per layer in MLP\n",
    "\n",
    "fig_num_of_layer = optuna.visualization.plot_slice(study, [\"number_of_layer\"],target_name=METRIC)\n",
    "fig_all_layer = optuna.visualization.plot_slice(study,target_name=METRIC)\n",
    "fig_num_of_layer.show()\n",
    "fig_all_layer.show()\n"
   ]
  },
  {
   "cell_type": "code",
   "execution_count": 112,
   "metadata": {},
   "outputs": [
    {
     "data": {
      "application/vnd.plotly.v1+json": {
       "config": {
        "plotlyServerURL": "https://plot.ly"
       },
       "data": [
        {
         "dimensions": [
          {
           "label": "accuracy",
           "range": [
            0.6710000038146973,
            0.9440000057220459
           ],
           "values": [
            0.9359999895095825,
            0.9419999718666077,
            0.6710000038146973,
            0.9390000104904175,
            0.9390000104904175,
            0.9390000104904175,
            0.6710000038146973,
            0.6710000038146973,
            0.9390000104904175,
            0.6710000038146973,
            0.6710000038146973,
            0.9419999718666077,
            0.9399999976158142,
            0.9330000281333923,
            0.9369999766349792,
            0.9380000233650208,
            0.6710000038146973,
            0.9390000104904175,
            0.9399999976158142,
            0.9390000104904175,
            0.9390000104904175,
            0.9380000233650208,
            0.9409999847412109,
            0.9350000023841858,
            0.6710000038146973,
            0.9309999942779541,
            0.9359999895095825,
            0.9350000023841858,
            0.9369999766349792,
            0.9369999766349792,
            0.6710000038146973,
            0.6710000038146973,
            0.9369999766349792,
            0.9359999895095825,
            0.9409999847412109,
            0.9390000104904175,
            0.9350000023841858,
            0.9350000023841858,
            0.9390000104904175,
            0.9340000152587891,
            0.9419999718666077,
            0.9399999976158142,
            0.9330000281333923,
            0.9350000023841858,
            0.9380000233650208,
            0.6710000038146973,
            0.9359999895095825,
            0.9399999976158142,
            0.9390000104904175,
            0.9350000023841858,
            0.9399999976158142,
            0.9409999847412109,
            0.9409999847412109,
            0.9419999718666077,
            0.9409999847412109,
            0.9359999895095825,
            0.9300000071525574,
            0.9359999895095825,
            0.9350000023841858,
            0.9399999976158142,
            0.9380000233650208,
            0.9359999895095825,
            0.9369999766349792,
            0.9409999847412109,
            0.6710000038146973,
            0.9419999718666077,
            0.9390000104904175,
            0.9369999766349792,
            0.9440000057220459,
            0.9409999847412109,
            0.9390000104904175,
            0.6710000038146973,
            0.9409999847412109,
            0.9319999814033508,
            0.9419999718666077
           ]
          },
          {
           "label": "layer_1",
           "range": [
            2,
            300
           ],
           "values": [
            220,
            260,
            7,
            130,
            110,
            60,
            20,
            37,
            165,
            269,
            296,
            163,
            203,
            234,
            173,
            84,
            251,
            196,
            201,
            145,
            278,
            202,
            231,
            246,
            290,
            262,
            170,
            218,
            228,
            103,
            141,
            120,
            187,
            223,
            248,
            88,
            276,
            182,
            55,
            214,
            154,
            164,
            159,
            125,
            137,
            259,
            239,
            103,
            2,
            154,
            182,
            253,
            281,
            237,
            215,
            237,
            293,
            267,
            242,
            229,
            207,
            192,
            255,
            271,
            300,
            177,
            172,
            209,
            148,
            147,
            137,
            119,
            180,
            154,
            166
           ]
          },
          {
           "label": "number_of_layer",
           "range": [
            2,
            10
           ],
           "values": [
            4,
            2,
            7,
            4,
            2,
            5,
            7,
            7,
            4,
            8,
            10,
            3,
            2,
            2,
            3,
            3,
            5,
            3,
            2,
            2,
            3,
            4,
            2,
            5,
            6,
            4,
            3,
            2,
            2,
            3,
            9,
            6,
            2,
            4,
            2,
            2,
            3,
            2,
            4,
            2,
            2,
            3,
            3,
            2,
            2,
            8,
            2,
            2,
            3,
            2,
            3,
            2,
            2,
            2,
            3,
            5,
            2,
            2,
            2,
            3,
            2,
            2,
            2,
            6,
            10,
            3,
            3,
            4,
            3,
            3,
            4,
            4,
            3,
            3,
            2
           ]
          }
         ],
         "labelangle": 30,
         "labelside": "bottom",
         "line": {
          "color": [
           0.9359999895095825,
           0.9419999718666077,
           0.6710000038146973,
           0.9390000104904175,
           0.9390000104904175,
           0.9390000104904175,
           0.6710000038146973,
           0.6710000038146973,
           0.9390000104904175,
           0.6710000038146973,
           0.6710000038146973,
           0.9419999718666077,
           0.9399999976158142,
           0.9330000281333923,
           0.9369999766349792,
           0.9380000233650208,
           0.6710000038146973,
           0.9390000104904175,
           0.9399999976158142,
           0.9390000104904175,
           0.9390000104904175,
           0.9380000233650208,
           0.9409999847412109,
           0.9350000023841858,
           0.6710000038146973,
           0.9309999942779541,
           0.9359999895095825,
           0.9350000023841858,
           0.9369999766349792,
           0.9369999766349792,
           0.6710000038146973,
           0.6710000038146973,
           0.9369999766349792,
           0.9359999895095825,
           0.9409999847412109,
           0.9390000104904175,
           0.9350000023841858,
           0.9350000023841858,
           0.9390000104904175,
           0.9340000152587891,
           0.9419999718666077,
           0.9399999976158142,
           0.9330000281333923,
           0.9350000023841858,
           0.9380000233650208,
           0.6710000038146973,
           0.9359999895095825,
           0.9399999976158142,
           0.9390000104904175,
           0.9350000023841858,
           0.9399999976158142,
           0.9409999847412109,
           0.9409999847412109,
           0.9419999718666077,
           0.9409999847412109,
           0.9359999895095825,
           0.9300000071525574,
           0.9359999895095825,
           0.9350000023841858,
           0.9399999976158142,
           0.9380000233650208,
           0.9359999895095825,
           0.9369999766349792,
           0.9409999847412109,
           0.6710000038146973,
           0.9419999718666077,
           0.9390000104904175,
           0.9369999766349792,
           0.9440000057220459,
           0.9409999847412109,
           0.9390000104904175,
           0.6710000038146973,
           0.9409999847412109,
           0.9319999814033508,
           0.9419999718666077
          ],
          "colorbar": {
           "title": {
            "text": "accuracy"
           }
          },
          "colorscale": [
           [
            0,
            "rgb(247,251,255)"
           ],
           [
            0.125,
            "rgb(222,235,247)"
           ],
           [
            0.25,
            "rgb(198,219,239)"
           ],
           [
            0.375,
            "rgb(158,202,225)"
           ],
           [
            0.5,
            "rgb(107,174,214)"
           ],
           [
            0.625,
            "rgb(66,146,198)"
           ],
           [
            0.75,
            "rgb(33,113,181)"
           ],
           [
            0.875,
            "rgb(8,81,156)"
           ],
           [
            1,
            "rgb(8,48,107)"
           ]
          ],
          "reversescale": false,
          "showscale": true
         },
         "type": "parcoords"
        }
       ],
       "layout": {
        "template": {
         "data": {
          "bar": [
           {
            "error_x": {
             "color": "#2a3f5f"
            },
            "error_y": {
             "color": "#2a3f5f"
            },
            "marker": {
             "line": {
              "color": "#E5ECF6",
              "width": 0.5
             },
             "pattern": {
              "fillmode": "overlay",
              "size": 10,
              "solidity": 0.2
             }
            },
            "type": "bar"
           }
          ],
          "barpolar": [
           {
            "marker": {
             "line": {
              "color": "#E5ECF6",
              "width": 0.5
             },
             "pattern": {
              "fillmode": "overlay",
              "size": 10,
              "solidity": 0.2
             }
            },
            "type": "barpolar"
           }
          ],
          "carpet": [
           {
            "aaxis": {
             "endlinecolor": "#2a3f5f",
             "gridcolor": "white",
             "linecolor": "white",
             "minorgridcolor": "white",
             "startlinecolor": "#2a3f5f"
            },
            "baxis": {
             "endlinecolor": "#2a3f5f",
             "gridcolor": "white",
             "linecolor": "white",
             "minorgridcolor": "white",
             "startlinecolor": "#2a3f5f"
            },
            "type": "carpet"
           }
          ],
          "choropleth": [
           {
            "colorbar": {
             "outlinewidth": 0,
             "ticks": ""
            },
            "type": "choropleth"
           }
          ],
          "contour": [
           {
            "colorbar": {
             "outlinewidth": 0,
             "ticks": ""
            },
            "colorscale": [
             [
              0,
              "#0d0887"
             ],
             [
              0.1111111111111111,
              "#46039f"
             ],
             [
              0.2222222222222222,
              "#7201a8"
             ],
             [
              0.3333333333333333,
              "#9c179e"
             ],
             [
              0.4444444444444444,
              "#bd3786"
             ],
             [
              0.5555555555555556,
              "#d8576b"
             ],
             [
              0.6666666666666666,
              "#ed7953"
             ],
             [
              0.7777777777777778,
              "#fb9f3a"
             ],
             [
              0.8888888888888888,
              "#fdca26"
             ],
             [
              1,
              "#f0f921"
             ]
            ],
            "type": "contour"
           }
          ],
          "contourcarpet": [
           {
            "colorbar": {
             "outlinewidth": 0,
             "ticks": ""
            },
            "type": "contourcarpet"
           }
          ],
          "heatmap": [
           {
            "colorbar": {
             "outlinewidth": 0,
             "ticks": ""
            },
            "colorscale": [
             [
              0,
              "#0d0887"
             ],
             [
              0.1111111111111111,
              "#46039f"
             ],
             [
              0.2222222222222222,
              "#7201a8"
             ],
             [
              0.3333333333333333,
              "#9c179e"
             ],
             [
              0.4444444444444444,
              "#bd3786"
             ],
             [
              0.5555555555555556,
              "#d8576b"
             ],
             [
              0.6666666666666666,
              "#ed7953"
             ],
             [
              0.7777777777777778,
              "#fb9f3a"
             ],
             [
              0.8888888888888888,
              "#fdca26"
             ],
             [
              1,
              "#f0f921"
             ]
            ],
            "type": "heatmap"
           }
          ],
          "heatmapgl": [
           {
            "colorbar": {
             "outlinewidth": 0,
             "ticks": ""
            },
            "colorscale": [
             [
              0,
              "#0d0887"
             ],
             [
              0.1111111111111111,
              "#46039f"
             ],
             [
              0.2222222222222222,
              "#7201a8"
             ],
             [
              0.3333333333333333,
              "#9c179e"
             ],
             [
              0.4444444444444444,
              "#bd3786"
             ],
             [
              0.5555555555555556,
              "#d8576b"
             ],
             [
              0.6666666666666666,
              "#ed7953"
             ],
             [
              0.7777777777777778,
              "#fb9f3a"
             ],
             [
              0.8888888888888888,
              "#fdca26"
             ],
             [
              1,
              "#f0f921"
             ]
            ],
            "type": "heatmapgl"
           }
          ],
          "histogram": [
           {
            "marker": {
             "pattern": {
              "fillmode": "overlay",
              "size": 10,
              "solidity": 0.2
             }
            },
            "type": "histogram"
           }
          ],
          "histogram2d": [
           {
            "colorbar": {
             "outlinewidth": 0,
             "ticks": ""
            },
            "colorscale": [
             [
              0,
              "#0d0887"
             ],
             [
              0.1111111111111111,
              "#46039f"
             ],
             [
              0.2222222222222222,
              "#7201a8"
             ],
             [
              0.3333333333333333,
              "#9c179e"
             ],
             [
              0.4444444444444444,
              "#bd3786"
             ],
             [
              0.5555555555555556,
              "#d8576b"
             ],
             [
              0.6666666666666666,
              "#ed7953"
             ],
             [
              0.7777777777777778,
              "#fb9f3a"
             ],
             [
              0.8888888888888888,
              "#fdca26"
             ],
             [
              1,
              "#f0f921"
             ]
            ],
            "type": "histogram2d"
           }
          ],
          "histogram2dcontour": [
           {
            "colorbar": {
             "outlinewidth": 0,
             "ticks": ""
            },
            "colorscale": [
             [
              0,
              "#0d0887"
             ],
             [
              0.1111111111111111,
              "#46039f"
             ],
             [
              0.2222222222222222,
              "#7201a8"
             ],
             [
              0.3333333333333333,
              "#9c179e"
             ],
             [
              0.4444444444444444,
              "#bd3786"
             ],
             [
              0.5555555555555556,
              "#d8576b"
             ],
             [
              0.6666666666666666,
              "#ed7953"
             ],
             [
              0.7777777777777778,
              "#fb9f3a"
             ],
             [
              0.8888888888888888,
              "#fdca26"
             ],
             [
              1,
              "#f0f921"
             ]
            ],
            "type": "histogram2dcontour"
           }
          ],
          "mesh3d": [
           {
            "colorbar": {
             "outlinewidth": 0,
             "ticks": ""
            },
            "type": "mesh3d"
           }
          ],
          "parcoords": [
           {
            "line": {
             "colorbar": {
              "outlinewidth": 0,
              "ticks": ""
             }
            },
            "type": "parcoords"
           }
          ],
          "pie": [
           {
            "automargin": true,
            "type": "pie"
           }
          ],
          "scatter": [
           {
            "fillpattern": {
             "fillmode": "overlay",
             "size": 10,
             "solidity": 0.2
            },
            "type": "scatter"
           }
          ],
          "scatter3d": [
           {
            "line": {
             "colorbar": {
              "outlinewidth": 0,
              "ticks": ""
             }
            },
            "marker": {
             "colorbar": {
              "outlinewidth": 0,
              "ticks": ""
             }
            },
            "type": "scatter3d"
           }
          ],
          "scattercarpet": [
           {
            "marker": {
             "colorbar": {
              "outlinewidth": 0,
              "ticks": ""
             }
            },
            "type": "scattercarpet"
           }
          ],
          "scattergeo": [
           {
            "marker": {
             "colorbar": {
              "outlinewidth": 0,
              "ticks": ""
             }
            },
            "type": "scattergeo"
           }
          ],
          "scattergl": [
           {
            "marker": {
             "colorbar": {
              "outlinewidth": 0,
              "ticks": ""
             }
            },
            "type": "scattergl"
           }
          ],
          "scattermapbox": [
           {
            "marker": {
             "colorbar": {
              "outlinewidth": 0,
              "ticks": ""
             }
            },
            "type": "scattermapbox"
           }
          ],
          "scatterpolar": [
           {
            "marker": {
             "colorbar": {
              "outlinewidth": 0,
              "ticks": ""
             }
            },
            "type": "scatterpolar"
           }
          ],
          "scatterpolargl": [
           {
            "marker": {
             "colorbar": {
              "outlinewidth": 0,
              "ticks": ""
             }
            },
            "type": "scatterpolargl"
           }
          ],
          "scatterternary": [
           {
            "marker": {
             "colorbar": {
              "outlinewidth": 0,
              "ticks": ""
             }
            },
            "type": "scatterternary"
           }
          ],
          "surface": [
           {
            "colorbar": {
             "outlinewidth": 0,
             "ticks": ""
            },
            "colorscale": [
             [
              0,
              "#0d0887"
             ],
             [
              0.1111111111111111,
              "#46039f"
             ],
             [
              0.2222222222222222,
              "#7201a8"
             ],
             [
              0.3333333333333333,
              "#9c179e"
             ],
             [
              0.4444444444444444,
              "#bd3786"
             ],
             [
              0.5555555555555556,
              "#d8576b"
             ],
             [
              0.6666666666666666,
              "#ed7953"
             ],
             [
              0.7777777777777778,
              "#fb9f3a"
             ],
             [
              0.8888888888888888,
              "#fdca26"
             ],
             [
              1,
              "#f0f921"
             ]
            ],
            "type": "surface"
           }
          ],
          "table": [
           {
            "cells": {
             "fill": {
              "color": "#EBF0F8"
             },
             "line": {
              "color": "white"
             }
            },
            "header": {
             "fill": {
              "color": "#C8D4E3"
             },
             "line": {
              "color": "white"
             }
            },
            "type": "table"
           }
          ]
         },
         "layout": {
          "annotationdefaults": {
           "arrowcolor": "#2a3f5f",
           "arrowhead": 0,
           "arrowwidth": 1
          },
          "autotypenumbers": "strict",
          "coloraxis": {
           "colorbar": {
            "outlinewidth": 0,
            "ticks": ""
           }
          },
          "colorscale": {
           "diverging": [
            [
             0,
             "#8e0152"
            ],
            [
             0.1,
             "#c51b7d"
            ],
            [
             0.2,
             "#de77ae"
            ],
            [
             0.3,
             "#f1b6da"
            ],
            [
             0.4,
             "#fde0ef"
            ],
            [
             0.5,
             "#f7f7f7"
            ],
            [
             0.6,
             "#e6f5d0"
            ],
            [
             0.7,
             "#b8e186"
            ],
            [
             0.8,
             "#7fbc41"
            ],
            [
             0.9,
             "#4d9221"
            ],
            [
             1,
             "#276419"
            ]
           ],
           "sequential": [
            [
             0,
             "#0d0887"
            ],
            [
             0.1111111111111111,
             "#46039f"
            ],
            [
             0.2222222222222222,
             "#7201a8"
            ],
            [
             0.3333333333333333,
             "#9c179e"
            ],
            [
             0.4444444444444444,
             "#bd3786"
            ],
            [
             0.5555555555555556,
             "#d8576b"
            ],
            [
             0.6666666666666666,
             "#ed7953"
            ],
            [
             0.7777777777777778,
             "#fb9f3a"
            ],
            [
             0.8888888888888888,
             "#fdca26"
            ],
            [
             1,
             "#f0f921"
            ]
           ],
           "sequentialminus": [
            [
             0,
             "#0d0887"
            ],
            [
             0.1111111111111111,
             "#46039f"
            ],
            [
             0.2222222222222222,
             "#7201a8"
            ],
            [
             0.3333333333333333,
             "#9c179e"
            ],
            [
             0.4444444444444444,
             "#bd3786"
            ],
            [
             0.5555555555555556,
             "#d8576b"
            ],
            [
             0.6666666666666666,
             "#ed7953"
            ],
            [
             0.7777777777777778,
             "#fb9f3a"
            ],
            [
             0.8888888888888888,
             "#fdca26"
            ],
            [
             1,
             "#f0f921"
            ]
           ]
          },
          "colorway": [
           "#636efa",
           "#EF553B",
           "#00cc96",
           "#ab63fa",
           "#FFA15A",
           "#19d3f3",
           "#FF6692",
           "#B6E880",
           "#FF97FF",
           "#FECB52"
          ],
          "font": {
           "color": "#2a3f5f"
          },
          "geo": {
           "bgcolor": "white",
           "lakecolor": "white",
           "landcolor": "#E5ECF6",
           "showlakes": true,
           "showland": true,
           "subunitcolor": "white"
          },
          "hoverlabel": {
           "align": "left"
          },
          "hovermode": "closest",
          "mapbox": {
           "style": "light"
          },
          "paper_bgcolor": "white",
          "plot_bgcolor": "#E5ECF6",
          "polar": {
           "angularaxis": {
            "gridcolor": "white",
            "linecolor": "white",
            "ticks": ""
           },
           "bgcolor": "#E5ECF6",
           "radialaxis": {
            "gridcolor": "white",
            "linecolor": "white",
            "ticks": ""
           }
          },
          "scene": {
           "xaxis": {
            "backgroundcolor": "#E5ECF6",
            "gridcolor": "white",
            "gridwidth": 2,
            "linecolor": "white",
            "showbackground": true,
            "ticks": "",
            "zerolinecolor": "white"
           },
           "yaxis": {
            "backgroundcolor": "#E5ECF6",
            "gridcolor": "white",
            "gridwidth": 2,
            "linecolor": "white",
            "showbackground": true,
            "ticks": "",
            "zerolinecolor": "white"
           },
           "zaxis": {
            "backgroundcolor": "#E5ECF6",
            "gridcolor": "white",
            "gridwidth": 2,
            "linecolor": "white",
            "showbackground": true,
            "ticks": "",
            "zerolinecolor": "white"
           }
          },
          "shapedefaults": {
           "line": {
            "color": "#2a3f5f"
           }
          },
          "ternary": {
           "aaxis": {
            "gridcolor": "white",
            "linecolor": "white",
            "ticks": ""
           },
           "baxis": {
            "gridcolor": "white",
            "linecolor": "white",
            "ticks": ""
           },
           "bgcolor": "#E5ECF6",
           "caxis": {
            "gridcolor": "white",
            "linecolor": "white",
            "ticks": ""
           }
          },
          "title": {
           "x": 0.05
          },
          "xaxis": {
           "automargin": true,
           "gridcolor": "white",
           "linecolor": "white",
           "ticks": "",
           "title": {
            "standoff": 15
           },
           "zerolinecolor": "white",
           "zerolinewidth": 2
          },
          "yaxis": {
           "automargin": true,
           "gridcolor": "white",
           "linecolor": "white",
           "ticks": "",
           "title": {
            "standoff": 15
           },
           "zerolinecolor": "white",
           "zerolinewidth": 2
          }
         }
        },
        "title": {
         "text": "Parallel Coordinate Plot"
        }
       }
      }
     },
     "metadata": {},
     "output_type": "display_data"
    },
    {
     "data": {
      "application/vnd.plotly.v1+json": {
       "config": {
        "plotlyServerURL": "https://plot.ly"
       },
       "data": [
        {
         "dimensions": [
          {
           "label": "accuracy",
           "range": [
            0.6710000038146973,
            0.9440000057220459
           ],
           "values": [
            0.9359999895095825,
            0.9419999718666077,
            0.6710000038146973,
            0.9390000104904175,
            0.9390000104904175,
            0.9390000104904175,
            0.6710000038146973,
            0.6710000038146973,
            0.9390000104904175,
            0.6710000038146973,
            0.6710000038146973,
            0.9419999718666077,
            0.9399999976158142,
            0.9330000281333923,
            0.9369999766349792,
            0.9380000233650208,
            0.6710000038146973,
            0.9390000104904175,
            0.9399999976158142,
            0.9390000104904175,
            0.9390000104904175,
            0.9380000233650208,
            0.9409999847412109,
            0.9350000023841858,
            0.6710000038146973,
            0.9309999942779541,
            0.9359999895095825,
            0.9350000023841858,
            0.9369999766349792,
            0.9369999766349792,
            0.6710000038146973,
            0.6710000038146973,
            0.9369999766349792,
            0.9359999895095825,
            0.9409999847412109,
            0.9390000104904175,
            0.9350000023841858,
            0.9350000023841858,
            0.9390000104904175,
            0.9340000152587891,
            0.9419999718666077,
            0.9399999976158142,
            0.9330000281333923,
            0.9350000023841858,
            0.9380000233650208,
            0.6710000038146973,
            0.9359999895095825,
            0.9399999976158142,
            0.9390000104904175,
            0.9350000023841858,
            0.9399999976158142,
            0.9409999847412109,
            0.9409999847412109,
            0.9419999718666077,
            0.9409999847412109,
            0.9359999895095825,
            0.9300000071525574,
            0.9359999895095825,
            0.9350000023841858,
            0.9399999976158142,
            0.9380000233650208,
            0.9359999895095825,
            0.9369999766349792,
            0.9409999847412109,
            0.6710000038146973,
            0.9419999718666077,
            0.9390000104904175,
            0.9369999766349792,
            0.9440000057220459,
            0.9409999847412109,
            0.9390000104904175,
            0.6710000038146973,
            0.9409999847412109,
            0.9319999814033508,
            0.9419999718666077
           ]
          },
          {
           "label": "layer_0",
           "range": [
            2,
            286
           ],
           "values": [
            286,
            18,
            213,
            158,
            88,
            236,
            52,
            133,
            157,
            282,
            167,
            100,
            2,
            68,
            105,
            115,
            37,
            190,
            7,
            25,
            62,
            4,
            87,
            130,
            89,
            104,
            130,
            49,
            24,
            76,
            145,
            225,
            87,
            121,
            171,
            94,
            254,
            146,
            53,
            78,
            123,
            121,
            137,
            167,
            29,
            189,
            118,
            74,
            128,
            63,
            154,
            190,
            139,
            169,
            110,
            104,
            15,
            159,
            197,
            178,
            208,
            162,
            150,
            84,
            58,
            36,
            95,
            37,
            16,
            19,
            30,
            10,
            39,
            48,
            18
           ]
          },
          {
           "label": "layer_1",
           "range": [
            2,
            300
           ],
           "values": [
            220,
            260,
            7,
            130,
            110,
            60,
            20,
            37,
            165,
            269,
            296,
            163,
            203,
            234,
            173,
            84,
            251,
            196,
            201,
            145,
            278,
            202,
            231,
            246,
            290,
            262,
            170,
            218,
            228,
            103,
            141,
            120,
            187,
            223,
            248,
            88,
            276,
            182,
            55,
            214,
            154,
            164,
            159,
            125,
            137,
            259,
            239,
            103,
            2,
            154,
            182,
            253,
            281,
            237,
            215,
            237,
            293,
            267,
            242,
            229,
            207,
            192,
            255,
            271,
            300,
            177,
            172,
            209,
            148,
            147,
            137,
            119,
            180,
            154,
            166
           ]
          },
          {
           "label": "number_of_layer",
           "range": [
            2,
            10
           ],
           "values": [
            4,
            2,
            7,
            4,
            2,
            5,
            7,
            7,
            4,
            8,
            10,
            3,
            2,
            2,
            3,
            3,
            5,
            3,
            2,
            2,
            3,
            4,
            2,
            5,
            6,
            4,
            3,
            2,
            2,
            3,
            9,
            6,
            2,
            4,
            2,
            2,
            3,
            2,
            4,
            2,
            2,
            3,
            3,
            2,
            2,
            8,
            2,
            2,
            3,
            2,
            3,
            2,
            2,
            2,
            3,
            5,
            2,
            2,
            2,
            3,
            2,
            2,
            2,
            6,
            10,
            3,
            3,
            4,
            3,
            3,
            4,
            4,
            3,
            3,
            2
           ]
          }
         ],
         "labelangle": 30,
         "labelside": "bottom",
         "line": {
          "color": [
           0.9359999895095825,
           0.9419999718666077,
           0.6710000038146973,
           0.9390000104904175,
           0.9390000104904175,
           0.9390000104904175,
           0.6710000038146973,
           0.6710000038146973,
           0.9390000104904175,
           0.6710000038146973,
           0.6710000038146973,
           0.9419999718666077,
           0.9399999976158142,
           0.9330000281333923,
           0.9369999766349792,
           0.9380000233650208,
           0.6710000038146973,
           0.9390000104904175,
           0.9399999976158142,
           0.9390000104904175,
           0.9390000104904175,
           0.9380000233650208,
           0.9409999847412109,
           0.9350000023841858,
           0.6710000038146973,
           0.9309999942779541,
           0.9359999895095825,
           0.9350000023841858,
           0.9369999766349792,
           0.9369999766349792,
           0.6710000038146973,
           0.6710000038146973,
           0.9369999766349792,
           0.9359999895095825,
           0.9409999847412109,
           0.9390000104904175,
           0.9350000023841858,
           0.9350000023841858,
           0.9390000104904175,
           0.9340000152587891,
           0.9419999718666077,
           0.9399999976158142,
           0.9330000281333923,
           0.9350000023841858,
           0.9380000233650208,
           0.6710000038146973,
           0.9359999895095825,
           0.9399999976158142,
           0.9390000104904175,
           0.9350000023841858,
           0.9399999976158142,
           0.9409999847412109,
           0.9409999847412109,
           0.9419999718666077,
           0.9409999847412109,
           0.9359999895095825,
           0.9300000071525574,
           0.9359999895095825,
           0.9350000023841858,
           0.9399999976158142,
           0.9380000233650208,
           0.9359999895095825,
           0.9369999766349792,
           0.9409999847412109,
           0.6710000038146973,
           0.9419999718666077,
           0.9390000104904175,
           0.9369999766349792,
           0.9440000057220459,
           0.9409999847412109,
           0.9390000104904175,
           0.6710000038146973,
           0.9409999847412109,
           0.9319999814033508,
           0.9419999718666077
          ],
          "colorbar": {
           "title": {
            "text": "accuracy"
           }
          },
          "colorscale": [
           [
            0,
            "rgb(247,251,255)"
           ],
           [
            0.125,
            "rgb(222,235,247)"
           ],
           [
            0.25,
            "rgb(198,219,239)"
           ],
           [
            0.375,
            "rgb(158,202,225)"
           ],
           [
            0.5,
            "rgb(107,174,214)"
           ],
           [
            0.625,
            "rgb(66,146,198)"
           ],
           [
            0.75,
            "rgb(33,113,181)"
           ],
           [
            0.875,
            "rgb(8,81,156)"
           ],
           [
            1,
            "rgb(8,48,107)"
           ]
          ],
          "reversescale": false,
          "showscale": true
         },
         "type": "parcoords"
        }
       ],
       "layout": {
        "template": {
         "data": {
          "bar": [
           {
            "error_x": {
             "color": "#2a3f5f"
            },
            "error_y": {
             "color": "#2a3f5f"
            },
            "marker": {
             "line": {
              "color": "#E5ECF6",
              "width": 0.5
             },
             "pattern": {
              "fillmode": "overlay",
              "size": 10,
              "solidity": 0.2
             }
            },
            "type": "bar"
           }
          ],
          "barpolar": [
           {
            "marker": {
             "line": {
              "color": "#E5ECF6",
              "width": 0.5
             },
             "pattern": {
              "fillmode": "overlay",
              "size": 10,
              "solidity": 0.2
             }
            },
            "type": "barpolar"
           }
          ],
          "carpet": [
           {
            "aaxis": {
             "endlinecolor": "#2a3f5f",
             "gridcolor": "white",
             "linecolor": "white",
             "minorgridcolor": "white",
             "startlinecolor": "#2a3f5f"
            },
            "baxis": {
             "endlinecolor": "#2a3f5f",
             "gridcolor": "white",
             "linecolor": "white",
             "minorgridcolor": "white",
             "startlinecolor": "#2a3f5f"
            },
            "type": "carpet"
           }
          ],
          "choropleth": [
           {
            "colorbar": {
             "outlinewidth": 0,
             "ticks": ""
            },
            "type": "choropleth"
           }
          ],
          "contour": [
           {
            "colorbar": {
             "outlinewidth": 0,
             "ticks": ""
            },
            "colorscale": [
             [
              0,
              "#0d0887"
             ],
             [
              0.1111111111111111,
              "#46039f"
             ],
             [
              0.2222222222222222,
              "#7201a8"
             ],
             [
              0.3333333333333333,
              "#9c179e"
             ],
             [
              0.4444444444444444,
              "#bd3786"
             ],
             [
              0.5555555555555556,
              "#d8576b"
             ],
             [
              0.6666666666666666,
              "#ed7953"
             ],
             [
              0.7777777777777778,
              "#fb9f3a"
             ],
             [
              0.8888888888888888,
              "#fdca26"
             ],
             [
              1,
              "#f0f921"
             ]
            ],
            "type": "contour"
           }
          ],
          "contourcarpet": [
           {
            "colorbar": {
             "outlinewidth": 0,
             "ticks": ""
            },
            "type": "contourcarpet"
           }
          ],
          "heatmap": [
           {
            "colorbar": {
             "outlinewidth": 0,
             "ticks": ""
            },
            "colorscale": [
             [
              0,
              "#0d0887"
             ],
             [
              0.1111111111111111,
              "#46039f"
             ],
             [
              0.2222222222222222,
              "#7201a8"
             ],
             [
              0.3333333333333333,
              "#9c179e"
             ],
             [
              0.4444444444444444,
              "#bd3786"
             ],
             [
              0.5555555555555556,
              "#d8576b"
             ],
             [
              0.6666666666666666,
              "#ed7953"
             ],
             [
              0.7777777777777778,
              "#fb9f3a"
             ],
             [
              0.8888888888888888,
              "#fdca26"
             ],
             [
              1,
              "#f0f921"
             ]
            ],
            "type": "heatmap"
           }
          ],
          "heatmapgl": [
           {
            "colorbar": {
             "outlinewidth": 0,
             "ticks": ""
            },
            "colorscale": [
             [
              0,
              "#0d0887"
             ],
             [
              0.1111111111111111,
              "#46039f"
             ],
             [
              0.2222222222222222,
              "#7201a8"
             ],
             [
              0.3333333333333333,
              "#9c179e"
             ],
             [
              0.4444444444444444,
              "#bd3786"
             ],
             [
              0.5555555555555556,
              "#d8576b"
             ],
             [
              0.6666666666666666,
              "#ed7953"
             ],
             [
              0.7777777777777778,
              "#fb9f3a"
             ],
             [
              0.8888888888888888,
              "#fdca26"
             ],
             [
              1,
              "#f0f921"
             ]
            ],
            "type": "heatmapgl"
           }
          ],
          "histogram": [
           {
            "marker": {
             "pattern": {
              "fillmode": "overlay",
              "size": 10,
              "solidity": 0.2
             }
            },
            "type": "histogram"
           }
          ],
          "histogram2d": [
           {
            "colorbar": {
             "outlinewidth": 0,
             "ticks": ""
            },
            "colorscale": [
             [
              0,
              "#0d0887"
             ],
             [
              0.1111111111111111,
              "#46039f"
             ],
             [
              0.2222222222222222,
              "#7201a8"
             ],
             [
              0.3333333333333333,
              "#9c179e"
             ],
             [
              0.4444444444444444,
              "#bd3786"
             ],
             [
              0.5555555555555556,
              "#d8576b"
             ],
             [
              0.6666666666666666,
              "#ed7953"
             ],
             [
              0.7777777777777778,
              "#fb9f3a"
             ],
             [
              0.8888888888888888,
              "#fdca26"
             ],
             [
              1,
              "#f0f921"
             ]
            ],
            "type": "histogram2d"
           }
          ],
          "histogram2dcontour": [
           {
            "colorbar": {
             "outlinewidth": 0,
             "ticks": ""
            },
            "colorscale": [
             [
              0,
              "#0d0887"
             ],
             [
              0.1111111111111111,
              "#46039f"
             ],
             [
              0.2222222222222222,
              "#7201a8"
             ],
             [
              0.3333333333333333,
              "#9c179e"
             ],
             [
              0.4444444444444444,
              "#bd3786"
             ],
             [
              0.5555555555555556,
              "#d8576b"
             ],
             [
              0.6666666666666666,
              "#ed7953"
             ],
             [
              0.7777777777777778,
              "#fb9f3a"
             ],
             [
              0.8888888888888888,
              "#fdca26"
             ],
             [
              1,
              "#f0f921"
             ]
            ],
            "type": "histogram2dcontour"
           }
          ],
          "mesh3d": [
           {
            "colorbar": {
             "outlinewidth": 0,
             "ticks": ""
            },
            "type": "mesh3d"
           }
          ],
          "parcoords": [
           {
            "line": {
             "colorbar": {
              "outlinewidth": 0,
              "ticks": ""
             }
            },
            "type": "parcoords"
           }
          ],
          "pie": [
           {
            "automargin": true,
            "type": "pie"
           }
          ],
          "scatter": [
           {
            "fillpattern": {
             "fillmode": "overlay",
             "size": 10,
             "solidity": 0.2
            },
            "type": "scatter"
           }
          ],
          "scatter3d": [
           {
            "line": {
             "colorbar": {
              "outlinewidth": 0,
              "ticks": ""
             }
            },
            "marker": {
             "colorbar": {
              "outlinewidth": 0,
              "ticks": ""
             }
            },
            "type": "scatter3d"
           }
          ],
          "scattercarpet": [
           {
            "marker": {
             "colorbar": {
              "outlinewidth": 0,
              "ticks": ""
             }
            },
            "type": "scattercarpet"
           }
          ],
          "scattergeo": [
           {
            "marker": {
             "colorbar": {
              "outlinewidth": 0,
              "ticks": ""
             }
            },
            "type": "scattergeo"
           }
          ],
          "scattergl": [
           {
            "marker": {
             "colorbar": {
              "outlinewidth": 0,
              "ticks": ""
             }
            },
            "type": "scattergl"
           }
          ],
          "scattermapbox": [
           {
            "marker": {
             "colorbar": {
              "outlinewidth": 0,
              "ticks": ""
             }
            },
            "type": "scattermapbox"
           }
          ],
          "scatterpolar": [
           {
            "marker": {
             "colorbar": {
              "outlinewidth": 0,
              "ticks": ""
             }
            },
            "type": "scatterpolar"
           }
          ],
          "scatterpolargl": [
           {
            "marker": {
             "colorbar": {
              "outlinewidth": 0,
              "ticks": ""
             }
            },
            "type": "scatterpolargl"
           }
          ],
          "scatterternary": [
           {
            "marker": {
             "colorbar": {
              "outlinewidth": 0,
              "ticks": ""
             }
            },
            "type": "scatterternary"
           }
          ],
          "surface": [
           {
            "colorbar": {
             "outlinewidth": 0,
             "ticks": ""
            },
            "colorscale": [
             [
              0,
              "#0d0887"
             ],
             [
              0.1111111111111111,
              "#46039f"
             ],
             [
              0.2222222222222222,
              "#7201a8"
             ],
             [
              0.3333333333333333,
              "#9c179e"
             ],
             [
              0.4444444444444444,
              "#bd3786"
             ],
             [
              0.5555555555555556,
              "#d8576b"
             ],
             [
              0.6666666666666666,
              "#ed7953"
             ],
             [
              0.7777777777777778,
              "#fb9f3a"
             ],
             [
              0.8888888888888888,
              "#fdca26"
             ],
             [
              1,
              "#f0f921"
             ]
            ],
            "type": "surface"
           }
          ],
          "table": [
           {
            "cells": {
             "fill": {
              "color": "#EBF0F8"
             },
             "line": {
              "color": "white"
             }
            },
            "header": {
             "fill": {
              "color": "#C8D4E3"
             },
             "line": {
              "color": "white"
             }
            },
            "type": "table"
           }
          ]
         },
         "layout": {
          "annotationdefaults": {
           "arrowcolor": "#2a3f5f",
           "arrowhead": 0,
           "arrowwidth": 1
          },
          "autotypenumbers": "strict",
          "coloraxis": {
           "colorbar": {
            "outlinewidth": 0,
            "ticks": ""
           }
          },
          "colorscale": {
           "diverging": [
            [
             0,
             "#8e0152"
            ],
            [
             0.1,
             "#c51b7d"
            ],
            [
             0.2,
             "#de77ae"
            ],
            [
             0.3,
             "#f1b6da"
            ],
            [
             0.4,
             "#fde0ef"
            ],
            [
             0.5,
             "#f7f7f7"
            ],
            [
             0.6,
             "#e6f5d0"
            ],
            [
             0.7,
             "#b8e186"
            ],
            [
             0.8,
             "#7fbc41"
            ],
            [
             0.9,
             "#4d9221"
            ],
            [
             1,
             "#276419"
            ]
           ],
           "sequential": [
            [
             0,
             "#0d0887"
            ],
            [
             0.1111111111111111,
             "#46039f"
            ],
            [
             0.2222222222222222,
             "#7201a8"
            ],
            [
             0.3333333333333333,
             "#9c179e"
            ],
            [
             0.4444444444444444,
             "#bd3786"
            ],
            [
             0.5555555555555556,
             "#d8576b"
            ],
            [
             0.6666666666666666,
             "#ed7953"
            ],
            [
             0.7777777777777778,
             "#fb9f3a"
            ],
            [
             0.8888888888888888,
             "#fdca26"
            ],
            [
             1,
             "#f0f921"
            ]
           ],
           "sequentialminus": [
            [
             0,
             "#0d0887"
            ],
            [
             0.1111111111111111,
             "#46039f"
            ],
            [
             0.2222222222222222,
             "#7201a8"
            ],
            [
             0.3333333333333333,
             "#9c179e"
            ],
            [
             0.4444444444444444,
             "#bd3786"
            ],
            [
             0.5555555555555556,
             "#d8576b"
            ],
            [
             0.6666666666666666,
             "#ed7953"
            ],
            [
             0.7777777777777778,
             "#fb9f3a"
            ],
            [
             0.8888888888888888,
             "#fdca26"
            ],
            [
             1,
             "#f0f921"
            ]
           ]
          },
          "colorway": [
           "#636efa",
           "#EF553B",
           "#00cc96",
           "#ab63fa",
           "#FFA15A",
           "#19d3f3",
           "#FF6692",
           "#B6E880",
           "#FF97FF",
           "#FECB52"
          ],
          "font": {
           "color": "#2a3f5f"
          },
          "geo": {
           "bgcolor": "white",
           "lakecolor": "white",
           "landcolor": "#E5ECF6",
           "showlakes": true,
           "showland": true,
           "subunitcolor": "white"
          },
          "hoverlabel": {
           "align": "left"
          },
          "hovermode": "closest",
          "mapbox": {
           "style": "light"
          },
          "paper_bgcolor": "white",
          "plot_bgcolor": "#E5ECF6",
          "polar": {
           "angularaxis": {
            "gridcolor": "white",
            "linecolor": "white",
            "ticks": ""
           },
           "bgcolor": "#E5ECF6",
           "radialaxis": {
            "gridcolor": "white",
            "linecolor": "white",
            "ticks": ""
           }
          },
          "scene": {
           "xaxis": {
            "backgroundcolor": "#E5ECF6",
            "gridcolor": "white",
            "gridwidth": 2,
            "linecolor": "white",
            "showbackground": true,
            "ticks": "",
            "zerolinecolor": "white"
           },
           "yaxis": {
            "backgroundcolor": "#E5ECF6",
            "gridcolor": "white",
            "gridwidth": 2,
            "linecolor": "white",
            "showbackground": true,
            "ticks": "",
            "zerolinecolor": "white"
           },
           "zaxis": {
            "backgroundcolor": "#E5ECF6",
            "gridcolor": "white",
            "gridwidth": 2,
            "linecolor": "white",
            "showbackground": true,
            "ticks": "",
            "zerolinecolor": "white"
           }
          },
          "shapedefaults": {
           "line": {
            "color": "#2a3f5f"
           }
          },
          "ternary": {
           "aaxis": {
            "gridcolor": "white",
            "linecolor": "white",
            "ticks": ""
           },
           "baxis": {
            "gridcolor": "white",
            "linecolor": "white",
            "ticks": ""
           },
           "bgcolor": "#E5ECF6",
           "caxis": {
            "gridcolor": "white",
            "linecolor": "white",
            "ticks": ""
           }
          },
          "title": {
           "x": 0.05
          },
          "xaxis": {
           "automargin": true,
           "gridcolor": "white",
           "linecolor": "white",
           "ticks": "",
           "title": {
            "standoff": 15
           },
           "zerolinecolor": "white",
           "zerolinewidth": 2
          },
          "yaxis": {
           "automargin": true,
           "gridcolor": "white",
           "linecolor": "white",
           "ticks": "",
           "title": {
            "standoff": 15
           },
           "zerolinecolor": "white",
           "zerolinewidth": 2
          }
         }
        },
        "title": {
         "text": "Parallel Coordinate Plot"
        }
       }
      }
     },
     "metadata": {},
     "output_type": "display_data"
    }
   ],
   "source": [
    "# plots conection number of layers with corresponding accuracy\n",
    "fig_number_of_layer= optuna.visualization.plot_parallel_coordinate(study,params= [\"number_of_layer\",\"layer_1\"],target_name=METRIC)\n",
    "fig_number_of_layer.show()\n",
    "fig_layer_conection = optuna.visualization.plot_parallel_coordinate(study,params= [\"layer_0\",\"layer_1\",\"number_of_layer\"],target_name=METRIC)\n",
    "fig_layer_conection.show()"
   ]
  },
  {
   "cell_type": "code",
   "execution_count": 113,
   "metadata": {},
   "outputs": [
    {
     "data": {
      "application/vnd.plotly.v1+json": {
       "config": {
        "plotlyServerURL": "https://plot.ly"
       },
       "data": [
        {
         "mode": "markers",
         "name": "accuracy",
         "type": "scatter",
         "x": [
          0,
          1,
          2,
          3,
          4,
          5,
          6,
          7,
          8,
          9,
          10,
          11,
          12,
          13,
          14,
          15,
          16,
          17,
          18,
          19,
          20,
          21,
          22,
          23,
          24,
          25,
          26,
          27,
          28,
          29,
          30,
          31,
          32,
          33,
          34,
          35,
          36,
          37,
          38,
          39,
          40,
          41,
          42,
          43,
          44,
          45,
          46,
          47,
          48,
          49,
          50,
          51,
          52,
          53,
          54,
          55,
          56,
          57,
          58,
          59,
          60,
          61,
          62,
          63,
          64,
          65,
          66,
          67,
          68,
          69,
          70,
          71,
          72,
          73,
          74,
          75,
          76,
          77,
          78,
          79,
          80,
          81,
          82,
          83,
          84,
          85,
          86,
          87,
          88,
          89,
          90,
          91,
          92,
          93,
          94,
          95,
          96,
          97,
          98,
          99
         ],
         "y": [
          0.9359999895095825,
          0.9419999718666077,
          0.6710000038146973,
          0.9390000104904175,
          0.9390000104904175,
          0.9390000104904175,
          0.6710000038146973,
          0.6710000038146973,
          0.9390000104904175,
          0.6710000038146973,
          0.9369999766349792,
          0.6710000038146973,
          0.9419999718666077,
          0.9399999976158142,
          0.9330000281333923,
          0.9369999766349792,
          0.9359999895095825,
          0.9380000233650208,
          0.6710000038146973,
          0.9390000104904175,
          0.9399999976158142,
          0.9399999976158142,
          0.9390000104904175,
          0.9390000104904175,
          0.9369999766349792,
          0.9380000233650208,
          0.9409999847412109,
          0.9350000023841858,
          0.6710000038146973,
          0.9309999942779541,
          0.9359999895095825,
          0.9350000023841858,
          0.9369999766349792,
          0.9430000185966492,
          0.9359999895095825,
          0.9419999718666077,
          0.9409999847412109,
          0.9390000104904175,
          0.9369999766349792,
          0.6710000038146973,
          0.6710000038146973,
          0.9369999766349792,
          0.9390000104904175,
          0.9359999895095825,
          0.9409999847412109,
          0.9359999895095825,
          0.9390000104904175,
          0.9350000023841858,
          0.9350000023841858,
          0.9359999895095825,
          0.9390000104904175,
          0.9390000104904175,
          0.9409999847412109,
          0.9340000152587891,
          0.9409999847412109,
          0.9419999718666077,
          0.9399999976158142,
          0.9330000281333923,
          0.9350000023841858,
          0.9380000233650208,
          0.6710000038146973,
          0.9319999814033508,
          0.9390000104904175,
          0.9359999895095825,
          0.9350000023841858,
          0.9399999976158142,
          0.9390000104904175,
          0.9340000152587891,
          0.9350000023841858,
          0.9399999976158142,
          0.9399999976158142,
          0.9409999847412109,
          0.9409999847412109,
          0.9419999718666077,
          0.9399999976158142,
          0.9409999847412109,
          0.9359999895095825,
          0.9300000071525574,
          0.9359999895095825,
          0.9359999895095825,
          0.9340000152587891,
          0.9350000023841858,
          0.9399999976158142,
          0.9380000233650208,
          0.9359999895095825,
          0.9369999766349792,
          0.9409999847412109,
          0.6710000038146973,
          0.9359999895095825,
          0.9419999718666077,
          0.9390000104904175,
          0.9369999766349792,
          0.9440000057220459,
          0.9409999847412109,
          0.9390000104904175,
          0.6710000038146973,
          0.9409999847412109,
          0.9409999847412109,
          0.9319999814033508,
          0.9419999718666077
         ]
        },
        {
         "name": "Best Value",
         "type": "scatter",
         "x": [
          0,
          1,
          2,
          3,
          4,
          5,
          6,
          7,
          8,
          9,
          10,
          11,
          12,
          13,
          14,
          15,
          16,
          17,
          18,
          19,
          20,
          21,
          22,
          23,
          24,
          25,
          26,
          27,
          28,
          29,
          30,
          31,
          32,
          33,
          34,
          35,
          36,
          37,
          38,
          39,
          40,
          41,
          42,
          43,
          44,
          45,
          46,
          47,
          48,
          49,
          50,
          51,
          52,
          53,
          54,
          55,
          56,
          57,
          58,
          59,
          60,
          61,
          62,
          63,
          64,
          65,
          66,
          67,
          68,
          69,
          70,
          71,
          72,
          73,
          74,
          75,
          76,
          77,
          78,
          79,
          80,
          81,
          82,
          83,
          84,
          85,
          86,
          87,
          88,
          89,
          90,
          91,
          92,
          93,
          94,
          95,
          96,
          97,
          98,
          99
         ],
         "y": [
          0.9359999895095825,
          0.9419999718666077,
          0.9419999718666077,
          0.9419999718666077,
          0.9419999718666077,
          0.9419999718666077,
          0.9419999718666077,
          0.9419999718666077,
          0.9419999718666077,
          0.9419999718666077,
          0.9419999718666077,
          0.9419999718666077,
          0.9419999718666077,
          0.9419999718666077,
          0.9419999718666077,
          0.9419999718666077,
          0.9419999718666077,
          0.9419999718666077,
          0.9419999718666077,
          0.9419999718666077,
          0.9419999718666077,
          0.9419999718666077,
          0.9419999718666077,
          0.9419999718666077,
          0.9419999718666077,
          0.9419999718666077,
          0.9419999718666077,
          0.9419999718666077,
          0.9419999718666077,
          0.9419999718666077,
          0.9419999718666077,
          0.9419999718666077,
          0.9419999718666077,
          0.9430000185966492,
          0.9430000185966492,
          0.9430000185966492,
          0.9430000185966492,
          0.9430000185966492,
          0.9430000185966492,
          0.9430000185966492,
          0.9430000185966492,
          0.9430000185966492,
          0.9430000185966492,
          0.9430000185966492,
          0.9430000185966492,
          0.9430000185966492,
          0.9430000185966492,
          0.9430000185966492,
          0.9430000185966492,
          0.9430000185966492,
          0.9430000185966492,
          0.9430000185966492,
          0.9430000185966492,
          0.9430000185966492,
          0.9430000185966492,
          0.9430000185966492,
          0.9430000185966492,
          0.9430000185966492,
          0.9430000185966492,
          0.9430000185966492,
          0.9430000185966492,
          0.9430000185966492,
          0.9430000185966492,
          0.9430000185966492,
          0.9430000185966492,
          0.9430000185966492,
          0.9430000185966492,
          0.9430000185966492,
          0.9430000185966492,
          0.9430000185966492,
          0.9430000185966492,
          0.9430000185966492,
          0.9430000185966492,
          0.9430000185966492,
          0.9430000185966492,
          0.9430000185966492,
          0.9430000185966492,
          0.9430000185966492,
          0.9430000185966492,
          0.9430000185966492,
          0.9430000185966492,
          0.9430000185966492,
          0.9430000185966492,
          0.9430000185966492,
          0.9430000185966492,
          0.9430000185966492,
          0.9430000185966492,
          0.9430000185966492,
          0.9430000185966492,
          0.9430000185966492,
          0.9430000185966492,
          0.9430000185966492,
          0.9440000057220459,
          0.9440000057220459,
          0.9440000057220459,
          0.9440000057220459,
          0.9440000057220459,
          0.9440000057220459,
          0.9440000057220459,
          0.9440000057220459
         ]
        }
       ],
       "layout": {
        "template": {
         "data": {
          "bar": [
           {
            "error_x": {
             "color": "#2a3f5f"
            },
            "error_y": {
             "color": "#2a3f5f"
            },
            "marker": {
             "line": {
              "color": "#E5ECF6",
              "width": 0.5
             },
             "pattern": {
              "fillmode": "overlay",
              "size": 10,
              "solidity": 0.2
             }
            },
            "type": "bar"
           }
          ],
          "barpolar": [
           {
            "marker": {
             "line": {
              "color": "#E5ECF6",
              "width": 0.5
             },
             "pattern": {
              "fillmode": "overlay",
              "size": 10,
              "solidity": 0.2
             }
            },
            "type": "barpolar"
           }
          ],
          "carpet": [
           {
            "aaxis": {
             "endlinecolor": "#2a3f5f",
             "gridcolor": "white",
             "linecolor": "white",
             "minorgridcolor": "white",
             "startlinecolor": "#2a3f5f"
            },
            "baxis": {
             "endlinecolor": "#2a3f5f",
             "gridcolor": "white",
             "linecolor": "white",
             "minorgridcolor": "white",
             "startlinecolor": "#2a3f5f"
            },
            "type": "carpet"
           }
          ],
          "choropleth": [
           {
            "colorbar": {
             "outlinewidth": 0,
             "ticks": ""
            },
            "type": "choropleth"
           }
          ],
          "contour": [
           {
            "colorbar": {
             "outlinewidth": 0,
             "ticks": ""
            },
            "colorscale": [
             [
              0,
              "#0d0887"
             ],
             [
              0.1111111111111111,
              "#46039f"
             ],
             [
              0.2222222222222222,
              "#7201a8"
             ],
             [
              0.3333333333333333,
              "#9c179e"
             ],
             [
              0.4444444444444444,
              "#bd3786"
             ],
             [
              0.5555555555555556,
              "#d8576b"
             ],
             [
              0.6666666666666666,
              "#ed7953"
             ],
             [
              0.7777777777777778,
              "#fb9f3a"
             ],
             [
              0.8888888888888888,
              "#fdca26"
             ],
             [
              1,
              "#f0f921"
             ]
            ],
            "type": "contour"
           }
          ],
          "contourcarpet": [
           {
            "colorbar": {
             "outlinewidth": 0,
             "ticks": ""
            },
            "type": "contourcarpet"
           }
          ],
          "heatmap": [
           {
            "colorbar": {
             "outlinewidth": 0,
             "ticks": ""
            },
            "colorscale": [
             [
              0,
              "#0d0887"
             ],
             [
              0.1111111111111111,
              "#46039f"
             ],
             [
              0.2222222222222222,
              "#7201a8"
             ],
             [
              0.3333333333333333,
              "#9c179e"
             ],
             [
              0.4444444444444444,
              "#bd3786"
             ],
             [
              0.5555555555555556,
              "#d8576b"
             ],
             [
              0.6666666666666666,
              "#ed7953"
             ],
             [
              0.7777777777777778,
              "#fb9f3a"
             ],
             [
              0.8888888888888888,
              "#fdca26"
             ],
             [
              1,
              "#f0f921"
             ]
            ],
            "type": "heatmap"
           }
          ],
          "heatmapgl": [
           {
            "colorbar": {
             "outlinewidth": 0,
             "ticks": ""
            },
            "colorscale": [
             [
              0,
              "#0d0887"
             ],
             [
              0.1111111111111111,
              "#46039f"
             ],
             [
              0.2222222222222222,
              "#7201a8"
             ],
             [
              0.3333333333333333,
              "#9c179e"
             ],
             [
              0.4444444444444444,
              "#bd3786"
             ],
             [
              0.5555555555555556,
              "#d8576b"
             ],
             [
              0.6666666666666666,
              "#ed7953"
             ],
             [
              0.7777777777777778,
              "#fb9f3a"
             ],
             [
              0.8888888888888888,
              "#fdca26"
             ],
             [
              1,
              "#f0f921"
             ]
            ],
            "type": "heatmapgl"
           }
          ],
          "histogram": [
           {
            "marker": {
             "pattern": {
              "fillmode": "overlay",
              "size": 10,
              "solidity": 0.2
             }
            },
            "type": "histogram"
           }
          ],
          "histogram2d": [
           {
            "colorbar": {
             "outlinewidth": 0,
             "ticks": ""
            },
            "colorscale": [
             [
              0,
              "#0d0887"
             ],
             [
              0.1111111111111111,
              "#46039f"
             ],
             [
              0.2222222222222222,
              "#7201a8"
             ],
             [
              0.3333333333333333,
              "#9c179e"
             ],
             [
              0.4444444444444444,
              "#bd3786"
             ],
             [
              0.5555555555555556,
              "#d8576b"
             ],
             [
              0.6666666666666666,
              "#ed7953"
             ],
             [
              0.7777777777777778,
              "#fb9f3a"
             ],
             [
              0.8888888888888888,
              "#fdca26"
             ],
             [
              1,
              "#f0f921"
             ]
            ],
            "type": "histogram2d"
           }
          ],
          "histogram2dcontour": [
           {
            "colorbar": {
             "outlinewidth": 0,
             "ticks": ""
            },
            "colorscale": [
             [
              0,
              "#0d0887"
             ],
             [
              0.1111111111111111,
              "#46039f"
             ],
             [
              0.2222222222222222,
              "#7201a8"
             ],
             [
              0.3333333333333333,
              "#9c179e"
             ],
             [
              0.4444444444444444,
              "#bd3786"
             ],
             [
              0.5555555555555556,
              "#d8576b"
             ],
             [
              0.6666666666666666,
              "#ed7953"
             ],
             [
              0.7777777777777778,
              "#fb9f3a"
             ],
             [
              0.8888888888888888,
              "#fdca26"
             ],
             [
              1,
              "#f0f921"
             ]
            ],
            "type": "histogram2dcontour"
           }
          ],
          "mesh3d": [
           {
            "colorbar": {
             "outlinewidth": 0,
             "ticks": ""
            },
            "type": "mesh3d"
           }
          ],
          "parcoords": [
           {
            "line": {
             "colorbar": {
              "outlinewidth": 0,
              "ticks": ""
             }
            },
            "type": "parcoords"
           }
          ],
          "pie": [
           {
            "automargin": true,
            "type": "pie"
           }
          ],
          "scatter": [
           {
            "fillpattern": {
             "fillmode": "overlay",
             "size": 10,
             "solidity": 0.2
            },
            "type": "scatter"
           }
          ],
          "scatter3d": [
           {
            "line": {
             "colorbar": {
              "outlinewidth": 0,
              "ticks": ""
             }
            },
            "marker": {
             "colorbar": {
              "outlinewidth": 0,
              "ticks": ""
             }
            },
            "type": "scatter3d"
           }
          ],
          "scattercarpet": [
           {
            "marker": {
             "colorbar": {
              "outlinewidth": 0,
              "ticks": ""
             }
            },
            "type": "scattercarpet"
           }
          ],
          "scattergeo": [
           {
            "marker": {
             "colorbar": {
              "outlinewidth": 0,
              "ticks": ""
             }
            },
            "type": "scattergeo"
           }
          ],
          "scattergl": [
           {
            "marker": {
             "colorbar": {
              "outlinewidth": 0,
              "ticks": ""
             }
            },
            "type": "scattergl"
           }
          ],
          "scattermapbox": [
           {
            "marker": {
             "colorbar": {
              "outlinewidth": 0,
              "ticks": ""
             }
            },
            "type": "scattermapbox"
           }
          ],
          "scatterpolar": [
           {
            "marker": {
             "colorbar": {
              "outlinewidth": 0,
              "ticks": ""
             }
            },
            "type": "scatterpolar"
           }
          ],
          "scatterpolargl": [
           {
            "marker": {
             "colorbar": {
              "outlinewidth": 0,
              "ticks": ""
             }
            },
            "type": "scatterpolargl"
           }
          ],
          "scatterternary": [
           {
            "marker": {
             "colorbar": {
              "outlinewidth": 0,
              "ticks": ""
             }
            },
            "type": "scatterternary"
           }
          ],
          "surface": [
           {
            "colorbar": {
             "outlinewidth": 0,
             "ticks": ""
            },
            "colorscale": [
             [
              0,
              "#0d0887"
             ],
             [
              0.1111111111111111,
              "#46039f"
             ],
             [
              0.2222222222222222,
              "#7201a8"
             ],
             [
              0.3333333333333333,
              "#9c179e"
             ],
             [
              0.4444444444444444,
              "#bd3786"
             ],
             [
              0.5555555555555556,
              "#d8576b"
             ],
             [
              0.6666666666666666,
              "#ed7953"
             ],
             [
              0.7777777777777778,
              "#fb9f3a"
             ],
             [
              0.8888888888888888,
              "#fdca26"
             ],
             [
              1,
              "#f0f921"
             ]
            ],
            "type": "surface"
           }
          ],
          "table": [
           {
            "cells": {
             "fill": {
              "color": "#EBF0F8"
             },
             "line": {
              "color": "white"
             }
            },
            "header": {
             "fill": {
              "color": "#C8D4E3"
             },
             "line": {
              "color": "white"
             }
            },
            "type": "table"
           }
          ]
         },
         "layout": {
          "annotationdefaults": {
           "arrowcolor": "#2a3f5f",
           "arrowhead": 0,
           "arrowwidth": 1
          },
          "autotypenumbers": "strict",
          "coloraxis": {
           "colorbar": {
            "outlinewidth": 0,
            "ticks": ""
           }
          },
          "colorscale": {
           "diverging": [
            [
             0,
             "#8e0152"
            ],
            [
             0.1,
             "#c51b7d"
            ],
            [
             0.2,
             "#de77ae"
            ],
            [
             0.3,
             "#f1b6da"
            ],
            [
             0.4,
             "#fde0ef"
            ],
            [
             0.5,
             "#f7f7f7"
            ],
            [
             0.6,
             "#e6f5d0"
            ],
            [
             0.7,
             "#b8e186"
            ],
            [
             0.8,
             "#7fbc41"
            ],
            [
             0.9,
             "#4d9221"
            ],
            [
             1,
             "#276419"
            ]
           ],
           "sequential": [
            [
             0,
             "#0d0887"
            ],
            [
             0.1111111111111111,
             "#46039f"
            ],
            [
             0.2222222222222222,
             "#7201a8"
            ],
            [
             0.3333333333333333,
             "#9c179e"
            ],
            [
             0.4444444444444444,
             "#bd3786"
            ],
            [
             0.5555555555555556,
             "#d8576b"
            ],
            [
             0.6666666666666666,
             "#ed7953"
            ],
            [
             0.7777777777777778,
             "#fb9f3a"
            ],
            [
             0.8888888888888888,
             "#fdca26"
            ],
            [
             1,
             "#f0f921"
            ]
           ],
           "sequentialminus": [
            [
             0,
             "#0d0887"
            ],
            [
             0.1111111111111111,
             "#46039f"
            ],
            [
             0.2222222222222222,
             "#7201a8"
            ],
            [
             0.3333333333333333,
             "#9c179e"
            ],
            [
             0.4444444444444444,
             "#bd3786"
            ],
            [
             0.5555555555555556,
             "#d8576b"
            ],
            [
             0.6666666666666666,
             "#ed7953"
            ],
            [
             0.7777777777777778,
             "#fb9f3a"
            ],
            [
             0.8888888888888888,
             "#fdca26"
            ],
            [
             1,
             "#f0f921"
            ]
           ]
          },
          "colorway": [
           "#636efa",
           "#EF553B",
           "#00cc96",
           "#ab63fa",
           "#FFA15A",
           "#19d3f3",
           "#FF6692",
           "#B6E880",
           "#FF97FF",
           "#FECB52"
          ],
          "font": {
           "color": "#2a3f5f"
          },
          "geo": {
           "bgcolor": "white",
           "lakecolor": "white",
           "landcolor": "#E5ECF6",
           "showlakes": true,
           "showland": true,
           "subunitcolor": "white"
          },
          "hoverlabel": {
           "align": "left"
          },
          "hovermode": "closest",
          "mapbox": {
           "style": "light"
          },
          "paper_bgcolor": "white",
          "plot_bgcolor": "#E5ECF6",
          "polar": {
           "angularaxis": {
            "gridcolor": "white",
            "linecolor": "white",
            "ticks": ""
           },
           "bgcolor": "#E5ECF6",
           "radialaxis": {
            "gridcolor": "white",
            "linecolor": "white",
            "ticks": ""
           }
          },
          "scene": {
           "xaxis": {
            "backgroundcolor": "#E5ECF6",
            "gridcolor": "white",
            "gridwidth": 2,
            "linecolor": "white",
            "showbackground": true,
            "ticks": "",
            "zerolinecolor": "white"
           },
           "yaxis": {
            "backgroundcolor": "#E5ECF6",
            "gridcolor": "white",
            "gridwidth": 2,
            "linecolor": "white",
            "showbackground": true,
            "ticks": "",
            "zerolinecolor": "white"
           },
           "zaxis": {
            "backgroundcolor": "#E5ECF6",
            "gridcolor": "white",
            "gridwidth": 2,
            "linecolor": "white",
            "showbackground": true,
            "ticks": "",
            "zerolinecolor": "white"
           }
          },
          "shapedefaults": {
           "line": {
            "color": "#2a3f5f"
           }
          },
          "ternary": {
           "aaxis": {
            "gridcolor": "white",
            "linecolor": "white",
            "ticks": ""
           },
           "baxis": {
            "gridcolor": "white",
            "linecolor": "white",
            "ticks": ""
           },
           "bgcolor": "#E5ECF6",
           "caxis": {
            "gridcolor": "white",
            "linecolor": "white",
            "ticks": ""
           }
          },
          "title": {
           "x": 0.05
          },
          "xaxis": {
           "automargin": true,
           "gridcolor": "white",
           "linecolor": "white",
           "ticks": "",
           "title": {
            "standoff": 15
           },
           "zerolinecolor": "white",
           "zerolinewidth": 2
          },
          "yaxis": {
           "automargin": true,
           "gridcolor": "white",
           "linecolor": "white",
           "ticks": "",
           "title": {
            "standoff": 15
           },
           "zerolinecolor": "white",
           "zerolinewidth": 2
          }
         }
        },
        "title": {
         "text": "Optimization History Plot"
        },
        "xaxis": {
         "title": {
          "text": "Trial"
         }
        },
        "yaxis": {
         "title": {
          "text": "accuracy"
         }
        }
       }
      }
     },
     "metadata": {},
     "output_type": "display_data"
    }
   ],
   "source": [
    "# Plotting accuracy over each trial\n",
    "fig = optuna.visualization.plot_optimization_history(study,target_name=METRIC)\n",
    "fig.show()"
   ]
  },
  {
   "cell_type": "code",
   "execution_count": 114,
   "metadata": {},
   "outputs": [],
   "source": [
    "# objective function with multi hyperparameter: accuracy, the amount of dead weights (weights < 0.05), amount of neurons in the hidden layer\n",
    "def objective_(trial):\n",
    "\n",
    "    number_of_layer = trial.suggest_int(\"number_of_layer\", 1, 5)\n",
    "    num_neurons_per_layer = []\n",
    "\n",
    "    for i in range(number_of_layer):\n",
    "        layer_ = trial.suggest_int('layer_{}'.format(i), 1, 20)\n",
    "        num_neurons_per_layer.append(layer_)\n",
    "    \n",
    "    num_of_neurons = sum(num_neurons_per_layer)\n",
    "    num_neurons_per_layer = np.array(num_neurons_per_layer)\n",
    "    \n",
    "    \n",
    "    model = build_model(num_neurons_per_layer)\n",
    "\n",
    "    # add early stopping callback to save time\n",
    "    es = EarlyStopping(monitor = f'val_{METRIC}', mode ='max', patience = 5)\n",
    "    \n",
    "    # Train the model\n",
    "    history = model.fit(input, target, epochs= NUM_EPOCHS, validation_split = 0.2, batch_size= 2, callbacks = [es], use_multiprocessing=True, verbose=0)\n",
    "\n",
    "    amount_dead_weights = mlp_weights(model)\n",
    "    \n",
    "   #print(f'amount of dead weight{amount_dead_weights} and amount of dead bias {amount_dead_bias}')\n",
    "    last_result = history.history[f\"val_{METRIC}\"][-1:][0]\n",
    "\n",
    "    return last_result, amount_dead_weights, num_of_neurons"
   ]
  },
  {
   "cell_type": "code",
   "execution_count": 115,
   "metadata": {},
   "outputs": [
    {
     "name": "stderr",
     "output_type": "stream",
     "text": [
      "\u001b[32m[I 2023-02-27 13:41:18,590]\u001b[0m A new study created in memory with name: no-name-be9b8b4b-084f-4f3a-8459-a583191ac5d8\u001b[0m\n",
      "\u001b[32m[I 2023-02-27 13:41:34,637]\u001b[0m Trial 0 finished with values: [0.9449999928474426, 28.0, 23.0] and parameters: {'number_of_layer': 2, 'layer_0': 6, 'layer_1': 17}. \u001b[0m\n",
      "\u001b[32m[I 2023-02-27 13:41:55,808]\u001b[0m Trial 1 finished with values: [0.9380000233650208, 28.0, 17.0] and parameters: {'number_of_layer': 2, 'layer_0': 6, 'layer_1': 11}. \u001b[0m\n",
      "\u001b[32m[I 2023-02-27 13:42:14,180]\u001b[0m Trial 2 finished with values: [0.9290000200271606, 68.0, 17.0] and parameters: {'number_of_layer': 1, 'layer_0': 17}. \u001b[0m\n",
      "\u001b[32m[I 2023-02-27 13:42:32,310]\u001b[0m Trial 3 finished with values: [0.9399999976158142, 90.0, 20.0] and parameters: {'number_of_layer': 1, 'layer_0': 20}. \u001b[0m\n",
      "\u001b[32m[I 2023-02-27 13:42:40,485]\u001b[0m Trial 4 finished with values: [0.6710000038146973, 52.0, 37.0] and parameters: {'number_of_layer': 4, 'layer_0': 4, 'layer_1': 1, 'layer_2': 17, 'layer_3': 15}. \u001b[0m\n",
      "\u001b[32m[I 2023-02-27 13:43:04,981]\u001b[0m Trial 5 finished with values: [0.9409999847412109, 51.0, 29.0] and parameters: {'number_of_layer': 4, 'layer_0': 16, 'layer_1': 2, 'layer_2': 8, 'layer_3': 3}. \u001b[0m\n",
      "\u001b[32m[I 2023-02-27 13:43:13,373]\u001b[0m Trial 6 finished with values: [0.6710000038146973, 59.0, 36.0] and parameters: {'number_of_layer': 5, 'layer_0': 13, 'layer_1': 7, 'layer_2': 2, 'layer_3': 7, 'layer_4': 7}. \u001b[0m\n",
      "\u001b[32m[I 2023-02-27 13:43:36,468]\u001b[0m Trial 7 finished with values: [0.9409999847412109, 110.0, 44.0] and parameters: {'number_of_layer': 4, 'layer_0': 13, 'layer_1': 18, 'layer_2': 10, 'layer_3': 3}. \u001b[0m\n",
      "\u001b[32m[I 2023-02-27 13:43:56,633]\u001b[0m Trial 8 finished with values: [0.9350000023841858, 121.0, 54.0] and parameters: {'number_of_layer': 4, 'layer_0': 16, 'layer_1': 12, 'layer_2': 16, 'layer_3': 10}. \u001b[0m\n",
      "\u001b[32m[I 2023-02-27 13:44:15,929]\u001b[0m Trial 9 finished with values: [0.9440000057220459, 34.0, 13.0] and parameters: {'number_of_layer': 3, 'layer_0': 9, 'layer_1': 1, 'layer_2': 3}. \u001b[0m\n",
      "\u001b[32m[I 2023-02-27 13:44:33,269]\u001b[0m Trial 10 finished with values: [0.9449999928474426, 8.0, 13.0] and parameters: {'number_of_layer': 2, 'layer_0': 1, 'layer_1': 12}. \u001b[0m\n",
      "\u001b[32m[I 2023-02-27 13:45:07,592]\u001b[0m Trial 11 finished with values: [0.9369999766349792, 10.0, 14.0] and parameters: {'number_of_layer': 2, 'layer_0': 1, 'layer_1': 13}. \u001b[0m\n",
      "\u001b[32m[I 2023-02-27 13:45:36,968]\u001b[0m Trial 12 finished with values: [0.9440000057220459, 12.0, 15.0] and parameters: {'number_of_layer': 2, 'layer_0': 1, 'layer_1': 14}. \u001b[0m\n",
      "\u001b[32m[I 2023-02-27 13:46:05,877]\u001b[0m Trial 13 finished with values: [0.9430000185966492, 26.0, 29.0] and parameters: {'number_of_layer': 3, 'layer_0': 1, 'layer_1': 8, 'layer_2': 20}. \u001b[0m\n",
      "\u001b[32m[I 2023-02-27 13:46:28,337]\u001b[0m Trial 14 finished with values: [0.9490000009536743, 13.0, 10.0] and parameters: {'number_of_layer': 2, 'layer_0': 3, 'layer_1': 7}. \u001b[0m\n",
      "\u001b[32m[I 2023-02-27 13:46:45,874]\u001b[0m Trial 15 finished with values: [0.9399999976158142, 15.0, 4.0] and parameters: {'number_of_layer': 1, 'layer_0': 4}. \u001b[0m\n",
      "\u001b[32m[I 2023-02-27 13:47:01,131]\u001b[0m Trial 16 finished with values: [0.9430000185966492, 29.0, 9.0] and parameters: {'number_of_layer': 1, 'layer_0': 9}. \u001b[0m\n",
      "\u001b[32m[I 2023-02-27 13:47:23,875]\u001b[0m Trial 17 finished with values: [0.9409999847412109, 23.0, 5.0] and parameters: {'number_of_layer': 1, 'layer_0': 5}. \u001b[0m\n",
      "\u001b[32m[I 2023-02-27 13:47:50,138]\u001b[0m Trial 18 finished with values: [0.9419999718666077, 32.0, 20.0] and parameters: {'number_of_layer': 3, 'layer_0': 8, 'layer_1': 6, 'layer_2': 6}. \u001b[0m\n",
      "\u001b[32m[I 2023-02-27 13:48:34,965]\u001b[0m Trial 19 finished with values: [0.9359999895095825, 25.0, 3.0] and parameters: {'number_of_layer': 1, 'layer_0': 3}. \u001b[0m\n",
      "\u001b[32m[I 2023-02-27 13:49:05,094]\u001b[0m Trial 20 finished with values: [0.9419999718666077, 168.0, 85.0] and parameters: {'number_of_layer': 5, 'layer_0': 12, 'layer_1': 20, 'layer_2': 13, 'layer_3': 20, 'layer_4': 20}. \u001b[0m\n",
      "\u001b[32m[I 2023-02-27 13:49:28,330]\u001b[0m Trial 21 finished with values: [0.9380000233650208, 10.0, 8.0] and parameters: {'number_of_layer': 2, 'layer_0': 3, 'layer_1': 5}. \u001b[0m\n",
      "\u001b[32m[I 2023-02-27 13:49:53,577]\u001b[0m Trial 22 finished with values: [0.9409999847412109, 17.0, 8.0] and parameters: {'number_of_layer': 2, 'layer_0': 3, 'layer_1': 5}. \u001b[0m\n",
      "\u001b[32m[I 2023-02-27 13:50:19,920]\u001b[0m Trial 23 finished with values: [0.9399999976158142, 20.0, 11.0] and parameters: {'number_of_layer': 2, 'layer_0': 7, 'layer_1': 4}. \u001b[0m\n",
      "\u001b[32m[I 2023-02-27 13:50:44,098]\u001b[0m Trial 24 finished with values: [0.9369999766349792, 18.0, 4.0] and parameters: {'number_of_layer': 1, 'layer_0': 4}. \u001b[0m\n",
      "\u001b[32m[I 2023-02-27 13:51:08,584]\u001b[0m Trial 25 finished with values: [0.9380000233650208, 25.0, 24.0] and parameters: {'number_of_layer': 3, 'layer_0': 3, 'layer_1': 8, 'layer_2': 13}. \u001b[0m\n",
      "\u001b[32m[I 2023-02-27 13:51:32,563]\u001b[0m Trial 26 finished with values: [0.9419999718666077, 56.0, 20.0] and parameters: {'number_of_layer': 2, 'layer_0': 11, 'layer_1': 9}. \u001b[0m\n",
      "\u001b[32m[I 2023-02-27 13:52:03,105]\u001b[0m Trial 27 finished with values: [0.9350000023841858, 22.0, 5.0] and parameters: {'number_of_layer': 1, 'layer_0': 5}. \u001b[0m\n",
      "\u001b[32m[I 2023-02-27 13:52:24,799]\u001b[0m Trial 28 finished with values: [0.9409999847412109, 24.0, 30.0] and parameters: {'number_of_layer': 3, 'layer_0': 7, 'layer_1': 3, 'layer_2': 20}. \u001b[0m\n",
      "\u001b[32m[I 2023-02-27 13:52:48,261]\u001b[0m Trial 29 finished with values: [0.9409999847412109, 15.0, 18.0] and parameters: {'number_of_layer': 2, 'layer_0': 3, 'layer_1': 15}. \u001b[0m\n",
      "\u001b[32m[I 2023-02-27 13:53:05,253]\u001b[0m Trial 30 finished with values: [0.9419999718666077, 20.0, 6.0] and parameters: {'number_of_layer': 1, 'layer_0': 6}. \u001b[0m\n",
      "\u001b[32m[I 2023-02-27 13:53:19,615]\u001b[0m Trial 31 finished with values: [0.9390000104904175, 31.0, 10.0] and parameters: {'number_of_layer': 1, 'layer_0': 10}. \u001b[0m\n",
      "\u001b[32m[I 2023-02-27 13:53:35,019]\u001b[0m Trial 32 finished with values: [0.9359999895095825, 51.0, 14.0] and parameters: {'number_of_layer': 1, 'layer_0': 14}. \u001b[0m\n",
      "\u001b[32m[I 2023-02-27 13:53:50,194]\u001b[0m Trial 33 finished with values: [0.9399999976158142, 84.0, 19.0] and parameters: {'number_of_layer': 1, 'layer_0': 19}. \u001b[0m\n",
      "\u001b[32m[I 2023-02-27 13:54:09,344]\u001b[0m Trial 34 finished with values: [0.9399999976158142, 26.0, 6.0] and parameters: {'number_of_layer': 1, 'layer_0': 6}. \u001b[0m\n",
      "\u001b[32m[I 2023-02-27 13:54:28,082]\u001b[0m Trial 35 finished with values: [0.9350000023841858, 14.0, 13.0] and parameters: {'number_of_layer': 2, 'layer_0': 3, 'layer_1': 10}. \u001b[0m\n",
      "\u001b[32m[I 2023-02-27 13:54:41,829]\u001b[0m Trial 36 finished with values: [0.9390000104904175, 62.0, 18.0] and parameters: {'number_of_layer': 1, 'layer_0': 18}. \u001b[0m\n",
      "\u001b[32m[I 2023-02-27 13:54:51,217]\u001b[0m Trial 37 finished with values: [0.6710000038146973, 69.0, 51.0] and parameters: {'number_of_layer': 5, 'layer_0': 8, 'layer_1': 16, 'layer_2': 6, 'layer_3': 20, 'layer_4': 1}. \u001b[0m\n",
      "\u001b[32m[I 2023-02-27 13:55:10,892]\u001b[0m Trial 38 finished with values: [0.9419999718666077, 68.0, 15.0] and parameters: {'number_of_layer': 1, 'layer_0': 15}. \u001b[0m\n",
      "\u001b[32m[I 2023-02-27 13:55:36,360]\u001b[0m Trial 39 finished with values: [0.9449999928474426, 13.0, 22.0] and parameters: {'number_of_layer': 2, 'layer_0': 2, 'layer_1': 20}. \u001b[0m\n",
      "\u001b[32m[I 2023-02-27 13:55:51,967]\u001b[0m Trial 40 finished with values: [0.9340000152587891, 11.0, 5.0] and parameters: {'number_of_layer': 1, 'layer_0': 5}. \u001b[0m\n",
      "\u001b[32m[I 2023-02-27 13:56:07,510]\u001b[0m Trial 41 finished with values: [0.9350000023841858, 20.0, 5.0] and parameters: {'number_of_layer': 1, 'layer_0': 5}. \u001b[0m\n",
      "\u001b[32m[I 2023-02-27 13:56:33,118]\u001b[0m Trial 42 finished with values: [0.9369999766349792, 16.0, 4.0] and parameters: {'number_of_layer': 1, 'layer_0': 4}. \u001b[0m\n",
      "\u001b[32m[I 2023-02-27 13:56:56,678]\u001b[0m Trial 43 finished with values: [0.9380000233650208, 8.0, 2.0] and parameters: {'number_of_layer': 1, 'layer_0': 2}. \u001b[0m\n",
      "\u001b[32m[I 2023-02-27 13:57:05,632]\u001b[0m Trial 44 finished with values: [0.6710000038146973, 12.0, 35.0] and parameters: {'number_of_layer': 4, 'layer_0': 2, 'layer_1': 18, 'layer_2': 1, 'layer_3': 14}. \u001b[0m\n",
      "\u001b[32m[I 2023-02-27 13:57:13,759]\u001b[0m Trial 45 finished with values: [0.6710000038146973, 26.0, 46.0] and parameters: {'number_of_layer': 5, 'layer_0': 1, 'layer_1': 11, 'layer_2': 13, 'layer_3': 1, 'layer_4': 20}. \u001b[0m\n",
      "\u001b[32m[I 2023-02-27 13:57:35,005]\u001b[0m Trial 46 finished with values: [0.949999988079071, 114.0, 47.0] and parameters: {'number_of_layer': 4, 'layer_0': 20, 'layer_1': 13, 'layer_2': 5, 'layer_3': 9}. \u001b[0m\n",
      "\u001b[32m[I 2023-02-27 13:58:00,758]\u001b[0m Trial 47 finished with values: [0.9399999976158142, 14.0, 2.0] and parameters: {'number_of_layer': 1, 'layer_0': 2}. \u001b[0m\n",
      "\u001b[32m[I 2023-02-27 13:58:30,286]\u001b[0m Trial 48 finished with values: [0.9369999766349792, 16.0, 19.0] and parameters: {'number_of_layer': 2, 'layer_0': 2, 'layer_1': 17}. \u001b[0m\n",
      "\u001b[32m[I 2023-02-27 13:58:46,697]\u001b[0m Trial 49 finished with values: [0.9409999847412109, 10.0, 2.0] and parameters: {'number_of_layer': 1, 'layer_0': 2}. \u001b[0m\n",
      "\u001b[32m[I 2023-02-27 13:58:55,855]\u001b[0m Trial 50 finished with values: [0.6710000038146973, 3.0, 14.0] and parameters: {'number_of_layer': 3, 'layer_0': 1, 'layer_1': 3, 'layer_2': 10}. \u001b[0m\n",
      "\u001b[32m[I 2023-02-27 13:59:04,784]\u001b[0m Trial 51 finished with values: [0.6710000038146973, 25.0, 28.0] and parameters: {'number_of_layer': 4, 'layer_0': 1, 'layer_1': 3, 'layer_2': 10, 'layer_3': 14}. \u001b[0m\n",
      "\u001b[32m[I 2023-02-27 13:59:32,645]\u001b[0m Trial 52 finished with values: [0.9419999718666077, 34.0, 27.0] and parameters: {'number_of_layer': 3, 'layer_0': 1, 'layer_1': 10, 'layer_2': 16}. \u001b[0m\n",
      "\u001b[32m[I 2023-02-27 13:59:47,634]\u001b[0m Trial 53 finished with values: [0.9390000104904175, 60.0, 16.0] and parameters: {'number_of_layer': 1, 'layer_0': 16}. \u001b[0m\n",
      "\u001b[32m[I 2023-02-27 14:00:10,157]\u001b[0m Trial 54 finished with values: [0.9380000233650208, 24.0, 4.0] and parameters: {'number_of_layer': 1, 'layer_0': 4}. \u001b[0m\n",
      "\u001b[32m[I 2023-02-27 14:00:37,661]\u001b[0m Trial 55 finished with values: [0.9409999847412109, 12.0, 8.0] and parameters: {'number_of_layer': 2, 'layer_0': 2, 'layer_1': 6}. \u001b[0m\n",
      "\u001b[32m[I 2023-02-27 14:00:49,508]\u001b[0m Trial 56 finished with values: [0.6710000038146973, 124.0, 66.0] and parameters: {'number_of_layer': 5, 'layer_0': 6, 'layer_1': 15, 'layer_2': 18, 'layer_3': 17, 'layer_4': 10}. \u001b[0m\n",
      "\u001b[32m[I 2023-02-27 14:01:15,195]\u001b[0m Trial 57 finished with values: [0.9380000233650208, 52.0, 13.0] and parameters: {'number_of_layer': 1, 'layer_0': 13}. \u001b[0m\n",
      "\u001b[32m[I 2023-02-27 14:01:22,992]\u001b[0m Trial 58 finished with values: [0.6710000038146973, 9.0, 8.0] and parameters: {'number_of_layer': 3, 'layer_0': 2, 'layer_1': 2, 'layer_2': 4}. \u001b[0m\n",
      "\u001b[32m[I 2023-02-27 14:01:54,074]\u001b[0m Trial 59 finished with values: [0.9440000057220459, 16.0, 23.0] and parameters: {'number_of_layer': 2, 'layer_0': 4, 'layer_1': 19}. \u001b[0m\n",
      "\u001b[32m[I 2023-02-27 14:02:15,871]\u001b[0m Trial 60 finished with values: [0.9409999847412109, 8.0, 1.0] and parameters: {'number_of_layer': 1, 'layer_0': 1}. \u001b[0m\n",
      "\u001b[32m[I 2023-02-27 14:02:40,709]\u001b[0m Trial 61 finished with values: [0.9359999895095825, 123.0, 47.0] and parameters: {'number_of_layer': 4, 'layer_0': 20, 'layer_1': 12, 'layer_2': 7, 'layer_3': 8}. \u001b[0m\n",
      "\u001b[32m[I 2023-02-27 14:03:17,401]\u001b[0m Trial 62 finished with values: [0.9390000104904175, 26.0, 21.0] and parameters: {'number_of_layer': 3, 'layer_0': 1, 'layer_1': 8, 'layer_2': 12}. \u001b[0m\n",
      "\u001b[32m[I 2023-02-27 14:03:33,342]\u001b[0m Trial 63 finished with values: [0.9449999928474426, 85.0, 30.0] and parameters: {'number_of_layer': 2, 'layer_0': 17, 'layer_1': 13}. \u001b[0m\n",
      "\u001b[32m[I 2023-02-27 14:03:41,594]\u001b[0m Trial 64 finished with values: [0.6710000038146973, 7.0, 17.0] and parameters: {'number_of_layer': 4, 'layer_0': 1, 'layer_1': 1, 'layer_2': 4, 'layer_3': 11}. \u001b[0m\n",
      "\u001b[32m[I 2023-02-27 14:04:11,150]\u001b[0m Trial 65 finished with values: [0.9269999861717224, 61.0, 26.0] and parameters: {'number_of_layer': 3, 'layer_0': 10, 'layer_1': 7, 'layer_2': 9}. \u001b[0m\n",
      "\u001b[32m[I 2023-02-27 14:04:28,955]\u001b[0m Trial 66 finished with values: [0.9419999718666077, 20.0, 20.0] and parameters: {'number_of_layer': 2, 'layer_0': 3, 'layer_1': 17}. \u001b[0m\n",
      "\u001b[32m[I 2023-02-27 14:05:23,636]\u001b[0m Trial 67 finished with values: [0.9449999928474426, 13.0, 13.0] and parameters: {'number_of_layer': 2, 'layer_0': 1, 'layer_1': 12}. \u001b[0m\n",
      "\u001b[32m[I 2023-02-27 14:06:14,862]\u001b[0m Trial 68 finished with values: [0.9440000057220459, 77.0, 57.0] and parameters: {'number_of_layer': 5, 'layer_0': 12, 'layer_1': 9, 'layer_2': 15, 'layer_3': 6, 'layer_4': 15}. \u001b[0m\n",
      "\u001b[32m[I 2023-02-27 14:06:38,390]\u001b[0m Trial 69 finished with values: [0.9419999718666077, 21.0, 17.0] and parameters: {'number_of_layer': 2, 'layer_0': 3, 'layer_1': 14}. \u001b[0m\n",
      "\u001b[32m[I 2023-02-27 14:07:01,715]\u001b[0m Trial 70 finished with values: [0.9359999895095825, 83.0, 34.0] and parameters: {'number_of_layer': 3, 'layer_0': 19, 'layer_1': 4, 'layer_2': 11}. \u001b[0m\n",
      "\u001b[32m[I 2023-02-27 14:07:27,397]\u001b[0m Trial 71 finished with values: [0.9340000152587891, 8.0, 1.0] and parameters: {'number_of_layer': 1, 'layer_0': 1}. \u001b[0m\n",
      "\u001b[32m[I 2023-02-27 14:07:55,945]\u001b[0m Trial 72 finished with values: [0.9359999895095825, 24.0, 22.0] and parameters: {'number_of_layer': 3, 'layer_0': 8, 'layer_1': 6, 'layer_2': 8}. \u001b[0m\n",
      "\u001b[32m[I 2023-02-27 14:08:23,487]\u001b[0m Trial 73 finished with values: [0.9350000023841858, 34.0, 23.0] and parameters: {'number_of_layer': 3, 'layer_0': 7, 'layer_1': 2, 'layer_2': 14}. \u001b[0m\n",
      "\u001b[32m[I 2023-02-27 14:08:46,647]\u001b[0m Trial 74 finished with values: [0.9380000233650208, 45.0, 39.0] and parameters: {'number_of_layer': 4, 'layer_0': 5, 'layer_1': 5, 'layer_2': 18, 'layer_3': 11}. \u001b[0m\n",
      "\u001b[32m[I 2023-02-27 14:09:07,469]\u001b[0m Trial 75 finished with values: [0.9390000104904175, 24.0, 18.0] and parameters: {'number_of_layer': 3, 'layer_0': 6, 'layer_1': 7, 'layer_2': 5}. \u001b[0m\n",
      "\u001b[32m[I 2023-02-27 14:09:31,899]\u001b[0m Trial 76 finished with values: [0.9480000138282776, 52.0, 42.0] and parameters: {'number_of_layer': 4, 'layer_0': 9, 'layer_1': 4, 'layer_2': 11, 'layer_3': 18}. \u001b[0m\n",
      "\u001b[32m[I 2023-02-27 14:09:55,374]\u001b[0m Trial 77 finished with values: [0.9409999847412109, 20.0, 15.0] and parameters: {'number_of_layer': 3, 'layer_0': 4, 'layer_1': 3, 'layer_2': 8}. \u001b[0m\n",
      "\u001b[32m[I 2023-02-27 14:10:22,350]\u001b[0m Trial 78 finished with values: [0.9340000152587891, 14.0, 12.0] and parameters: {'number_of_layer': 2, 'layer_0': 3, 'layer_1': 9}. \u001b[0m\n",
      "\u001b[32m[I 2023-02-27 14:10:31,231]\u001b[0m Trial 79 finished with values: [0.6710000038146973, 4.0, 3.0] and parameters: {'number_of_layer': 2, 'layer_0': 1, 'layer_1': 2}. \u001b[0m\n",
      "\u001b[32m[I 2023-02-27 14:10:49,076]\u001b[0m Trial 80 finished with values: [0.9409999847412109, 49.0, 14.0] and parameters: {'number_of_layer': 1, 'layer_0': 14}. \u001b[0m\n",
      "\u001b[32m[I 2023-02-27 14:11:16,789]\u001b[0m Trial 81 finished with values: [0.9359999895095825, 29.0, 12.0] and parameters: {'number_of_layer': 2, 'layer_0': 6, 'layer_1': 6}. \u001b[0m\n",
      "\u001b[32m[I 2023-02-27 14:11:39,497]\u001b[0m Trial 82 finished with values: [0.9459999799728394, 40.0, 17.0] and parameters: {'number_of_layer': 2, 'layer_0': 9, 'layer_1': 8}. \u001b[0m\n",
      "\u001b[32m[I 2023-02-27 14:12:06,353]\u001b[0m Trial 83 finished with values: [0.9350000023841858, 33.0, 12.0] and parameters: {'number_of_layer': 2, 'layer_0': 7, 'layer_1': 5}. \u001b[0m\n",
      "\u001b[32m[I 2023-02-27 14:12:39,770]\u001b[0m Trial 84 finished with values: [0.9399999976158142, 21.0, 5.0] and parameters: {'number_of_layer': 2, 'layer_0': 4, 'layer_1': 1}. \u001b[0m\n",
      "\u001b[32m[I 2023-02-27 14:13:19,372]\u001b[0m Trial 85 finished with values: [0.9409999847412109, 57.0, 23.0] and parameters: {'number_of_layer': 2, 'layer_0': 12, 'layer_1': 11}. \u001b[0m\n",
      "\u001b[32m[I 2023-02-27 14:13:51,862]\u001b[0m Trial 86 finished with values: [0.9369999766349792, 44.0, 14.0] and parameters: {'number_of_layer': 2, 'layer_0': 11, 'layer_1': 3}. \u001b[0m\n",
      "\u001b[32m[I 2023-02-27 14:14:12,527]\u001b[0m Trial 87 finished with values: [0.9380000233650208, 20.0, 15.0] and parameters: {'number_of_layer': 2, 'layer_0': 5, 'layer_1': 10}. \u001b[0m\n",
      "\u001b[32m[I 2023-02-27 14:14:48,925]\u001b[0m Trial 88 finished with values: [0.9309999942779541, 12.0, 8.0] and parameters: {'number_of_layer': 2, 'layer_0': 1, 'layer_1': 7}. \u001b[0m\n",
      "\u001b[32m[I 2023-02-27 14:15:15,802]\u001b[0m Trial 89 finished with values: [0.9380000233650208, 4.0, 4.0] and parameters: {'number_of_layer': 2, 'layer_0': 2, 'layer_1': 2}. \u001b[0m\n",
      "\u001b[32m[I 2023-02-27 14:15:50,604]\u001b[0m Trial 90 finished with values: [0.9380000233650208, 13.0, 2.0] and parameters: {'number_of_layer': 1, 'layer_0': 2}. \u001b[0m\n",
      "\u001b[32m[I 2023-02-27 14:16:00,019]\u001b[0m Trial 91 finished with values: [0.6710000038146973, 13.0, 6.0] and parameters: {'number_of_layer': 3, 'layer_0': 3, 'layer_1': 2, 'layer_2': 1}. \u001b[0m\n",
      "\u001b[32m[I 2023-02-27 14:16:27,975]\u001b[0m Trial 92 finished with values: [0.9380000233650208, 8.0, 7.0] and parameters: {'number_of_layer': 2, 'layer_0': 3, 'layer_1': 4}. \u001b[0m\n",
      "\u001b[32m[I 2023-02-27 14:16:38,943]\u001b[0m Trial 93 finished with values: [0.6710000038146973, 16.0, 28.0] and parameters: {'number_of_layer': 5, 'layer_0': 2, 'layer_1': 2, 'layer_2': 18, 'layer_3': 5, 'layer_4': 1}. \u001b[0m\n",
      "\u001b[32m[I 2023-02-27 14:17:05,913]\u001b[0m Trial 94 finished with values: [0.9350000023841858, 5.0, 6.0] and parameters: {'number_of_layer': 3, 'layer_0': 2, 'layer_1': 1, 'layer_2': 3}. \u001b[0m\n",
      "\u001b[32m[I 2023-02-27 14:17:37,261]\u001b[0m Trial 95 finished with values: [0.9330000281333923, 11.0, 2.0] and parameters: {'number_of_layer': 1, 'layer_0': 2}. \u001b[0m\n",
      "\u001b[32m[I 2023-02-27 14:18:11,987]\u001b[0m Trial 96 finished with values: [0.9359999895095825, 8.0, 1.0] and parameters: {'number_of_layer': 1, 'layer_0': 1}. \u001b[0m\n",
      "\u001b[32m[I 2023-02-27 14:18:33,066]\u001b[0m Trial 97 finished with values: [0.9449999928474426, 12.0, 6.0] and parameters: {'number_of_layer': 2, 'layer_0': 3, 'layer_1': 3}. \u001b[0m\n",
      "\u001b[32m[I 2023-02-27 14:19:09,537]\u001b[0m Trial 98 finished with values: [0.9369999766349792, 16.0, 6.0] and parameters: {'number_of_layer': 2, 'layer_0': 4, 'layer_1': 2}. \u001b[0m\n",
      "\u001b[32m[I 2023-02-27 14:19:35,790]\u001b[0m Trial 99 finished with values: [0.9430000185966492, 11.0, 4.0] and parameters: {'number_of_layer': 2, 'layer_0': 1, 'layer_1': 3}. \u001b[0m\n"
     ]
    }
   ],
   "source": [
    "# creating study for multipel hyperparameter optimization\n",
    "study_multiple_hyperparameter = optuna.create_study(directions=[\"maximize\", \"minimize\",\"minimize\"], sampler= sampler)\n",
    "study_multiple_hyperparameter.optimize(objective_, n_trials=N_TRAILS)\n"
   ]
  },
  {
   "cell_type": "code",
   "execution_count": 123,
   "metadata": {},
   "outputs": [
    {
     "name": "stdout",
     "output_type": "stream",
     "text": [
      "Trial with highest accuracy: \n",
      "\tnumber: 46\n",
      "\tparams: {'number_of_layer': 4, 'layer_0': 20, 'layer_1': 13, 'layer_2': 5, 'layer_3': 9}\n",
      "\tvalues: [0.949999988079071, 114.0, 47.0]\n"
     ]
    }
   ],
   "source": [
    "# finding best \n",
    "trial_with_highest_accuracy = max(study_multiple_hyperparameter.best_trials, key=lambda t: t.values[1])\n",
    "print(f\"Trial with highest accuracy: \")\n",
    "print(f\"\\tnumber: {trial_with_highest_accuracy.number}\")\n",
    "print(f\"\\tparams: {trial_with_highest_accuracy.params}\")\n",
    "print(f\"\\tvalues: {trial_with_highest_accuracy.values}\")\n",
    "\n"
   ]
  },
  {
   "cell_type": "code",
   "execution_count": 119,
   "metadata": {},
   "outputs": [
    {
     "data": {
      "application/vnd.plotly.v1+json": {
       "config": {
        "plotlyServerURL": "https://plot.ly"
       },
       "data": [
        {
         "hovertemplate": "%{text}<extra>Trial</extra>",
         "marker": {
          "color": [
           0,
           1,
           2,
           3,
           4,
           5,
           6,
           7,
           8,
           9,
           11,
           12,
           13,
           15,
           16,
           17,
           18,
           19,
           20,
           21,
           22,
           23,
           24,
           25,
           26,
           27,
           28,
           29,
           30,
           31,
           32,
           33,
           34,
           35,
           36,
           37,
           38,
           39,
           40,
           41,
           42,
           43,
           44,
           45,
           47,
           48,
           49,
           51,
           52,
           53,
           54,
           55,
           56,
           57,
           58,
           59,
           61,
           62,
           63,
           64,
           65,
           66,
           67,
           68,
           69,
           70,
           71,
           72,
           73,
           74,
           75,
           76,
           77,
           78,
           80,
           81,
           82,
           83,
           84,
           85,
           86,
           87,
           88,
           90,
           91,
           92,
           93,
           94,
           95,
           96,
           98
          ],
          "colorbar": {
           "title": {
            "text": "Trial"
           }
          },
          "colorscale": [
           [
            0,
            "rgb(247,251,255)"
           ],
           [
            0.125,
            "rgb(222,235,247)"
           ],
           [
            0.25,
            "rgb(198,219,239)"
           ],
           [
            0.375,
            "rgb(158,202,225)"
           ],
           [
            0.5,
            "rgb(107,174,214)"
           ],
           [
            0.625,
            "rgb(66,146,198)"
           ],
           [
            0.75,
            "rgb(33,113,181)"
           ],
           [
            0.875,
            "rgb(8,81,156)"
           ],
           [
            1,
            "rgb(8,48,107)"
           ]
          ],
          "line": {
           "color": "Grey",
           "width": 0.5
          }
         },
         "mode": "markers",
         "showlegend": false,
         "text": [
          "{<br>  \"number\": 0,<br>  \"values\": [<br>    0.9449999928474426,<br>    28.0,<br>    23.0<br>  ],<br>  \"params\": {<br>    \"number_of_layer\": 2,<br>    \"layer_0\": 6,<br>    \"layer_1\": 17<br>  }<br>}",
          "{<br>  \"number\": 1,<br>  \"values\": [<br>    0.9380000233650208,<br>    28.0,<br>    17.0<br>  ],<br>  \"params\": {<br>    \"number_of_layer\": 2,<br>    \"layer_0\": 6,<br>    \"layer_1\": 11<br>  }<br>}",
          "{<br>  \"number\": 2,<br>  \"values\": [<br>    0.9290000200271606,<br>    68.0,<br>    17.0<br>  ],<br>  \"params\": {<br>    \"number_of_layer\": 1,<br>    \"layer_0\": 17<br>  }<br>}",
          "{<br>  \"number\": 3,<br>  \"values\": [<br>    0.9399999976158142,<br>    90.0,<br>    20.0<br>  ],<br>  \"params\": {<br>    \"number_of_layer\": 1,<br>    \"layer_0\": 20<br>  }<br>}",
          "{<br>  \"number\": 4,<br>  \"values\": [<br>    0.6710000038146973,<br>    52.0,<br>    37.0<br>  ],<br>  \"params\": {<br>    \"number_of_layer\": 4,<br>    \"layer_0\": 4,<br>    \"layer_1\": 1,<br>    \"layer_2\": 17,<br>    \"layer_3\": 15<br>  }<br>}",
          "{<br>  \"number\": 5,<br>  \"values\": [<br>    0.9409999847412109,<br>    51.0,<br>    29.0<br>  ],<br>  \"params\": {<br>    \"number_of_layer\": 4,<br>    \"layer_0\": 16,<br>    \"layer_1\": 2,<br>    \"layer_2\": 8,<br>    \"layer_3\": 3<br>  }<br>}",
          "{<br>  \"number\": 6,<br>  \"values\": [<br>    0.6710000038146973,<br>    59.0,<br>    36.0<br>  ],<br>  \"params\": {<br>    \"number_of_layer\": 5,<br>    \"layer_0\": 13,<br>    \"layer_1\": 7,<br>    \"layer_2\": 2,<br>    \"layer_3\": 7,<br>    \"layer_4\": 7<br>  }<br>}",
          "{<br>  \"number\": 7,<br>  \"values\": [<br>    0.9409999847412109,<br>    110.0,<br>    44.0<br>  ],<br>  \"params\": {<br>    \"number_of_layer\": 4,<br>    \"layer_0\": 13,<br>    \"layer_1\": 18,<br>    \"layer_2\": 10,<br>    \"layer_3\": 3<br>  }<br>}",
          "{<br>  \"number\": 8,<br>  \"values\": [<br>    0.9350000023841858,<br>    121.0,<br>    54.0<br>  ],<br>  \"params\": {<br>    \"number_of_layer\": 4,<br>    \"layer_0\": 16,<br>    \"layer_1\": 12,<br>    \"layer_2\": 16,<br>    \"layer_3\": 10<br>  }<br>}",
          "{<br>  \"number\": 9,<br>  \"values\": [<br>    0.9440000057220459,<br>    34.0,<br>    13.0<br>  ],<br>  \"params\": {<br>    \"number_of_layer\": 3,<br>    \"layer_0\": 9,<br>    \"layer_1\": 1,<br>    \"layer_2\": 3<br>  }<br>}",
          "{<br>  \"number\": 11,<br>  \"values\": [<br>    0.9369999766349792,<br>    10.0,<br>    14.0<br>  ],<br>  \"params\": {<br>    \"number_of_layer\": 2,<br>    \"layer_0\": 1,<br>    \"layer_1\": 13<br>  }<br>}",
          "{<br>  \"number\": 12,<br>  \"values\": [<br>    0.9440000057220459,<br>    12.0,<br>    15.0<br>  ],<br>  \"params\": {<br>    \"number_of_layer\": 2,<br>    \"layer_0\": 1,<br>    \"layer_1\": 14<br>  }<br>}",
          "{<br>  \"number\": 13,<br>  \"values\": [<br>    0.9430000185966492,<br>    26.0,<br>    29.0<br>  ],<br>  \"params\": {<br>    \"number_of_layer\": 3,<br>    \"layer_0\": 1,<br>    \"layer_1\": 8,<br>    \"layer_2\": 20<br>  }<br>}",
          "{<br>  \"number\": 15,<br>  \"values\": [<br>    0.9399999976158142,<br>    15.0,<br>    4.0<br>  ],<br>  \"params\": {<br>    \"number_of_layer\": 1,<br>    \"layer_0\": 4<br>  }<br>}",
          "{<br>  \"number\": 16,<br>  \"values\": [<br>    0.9430000185966492,<br>    29.0,<br>    9.0<br>  ],<br>  \"params\": {<br>    \"number_of_layer\": 1,<br>    \"layer_0\": 9<br>  }<br>}",
          "{<br>  \"number\": 17,<br>  \"values\": [<br>    0.9409999847412109,<br>    23.0,<br>    5.0<br>  ],<br>  \"params\": {<br>    \"number_of_layer\": 1,<br>    \"layer_0\": 5<br>  }<br>}",
          "{<br>  \"number\": 18,<br>  \"values\": [<br>    0.9419999718666077,<br>    32.0,<br>    20.0<br>  ],<br>  \"params\": {<br>    \"number_of_layer\": 3,<br>    \"layer_0\": 8,<br>    \"layer_1\": 6,<br>    \"layer_2\": 6<br>  }<br>}",
          "{<br>  \"number\": 19,<br>  \"values\": [<br>    0.9359999895095825,<br>    25.0,<br>    3.0<br>  ],<br>  \"params\": {<br>    \"number_of_layer\": 1,<br>    \"layer_0\": 3<br>  }<br>}",
          "{<br>  \"number\": 20,<br>  \"values\": [<br>    0.9419999718666077,<br>    168.0,<br>    85.0<br>  ],<br>  \"params\": {<br>    \"number_of_layer\": 5,<br>    \"layer_0\": 12,<br>    \"layer_1\": 20,<br>    \"layer_2\": 13,<br>    \"layer_3\": 20,<br>    \"layer_4\": 20<br>  }<br>}",
          "{<br>  \"number\": 21,<br>  \"values\": [<br>    0.9380000233650208,<br>    10.0,<br>    8.0<br>  ],<br>  \"params\": {<br>    \"number_of_layer\": 2,<br>    \"layer_0\": 3,<br>    \"layer_1\": 5<br>  }<br>}",
          "{<br>  \"number\": 22,<br>  \"values\": [<br>    0.9409999847412109,<br>    17.0,<br>    8.0<br>  ],<br>  \"params\": {<br>    \"number_of_layer\": 2,<br>    \"layer_0\": 3,<br>    \"layer_1\": 5<br>  }<br>}",
          "{<br>  \"number\": 23,<br>  \"values\": [<br>    0.9399999976158142,<br>    20.0,<br>    11.0<br>  ],<br>  \"params\": {<br>    \"number_of_layer\": 2,<br>    \"layer_0\": 7,<br>    \"layer_1\": 4<br>  }<br>}",
          "{<br>  \"number\": 24,<br>  \"values\": [<br>    0.9369999766349792,<br>    18.0,<br>    4.0<br>  ],<br>  \"params\": {<br>    \"number_of_layer\": 1,<br>    \"layer_0\": 4<br>  }<br>}",
          "{<br>  \"number\": 25,<br>  \"values\": [<br>    0.9380000233650208,<br>    25.0,<br>    24.0<br>  ],<br>  \"params\": {<br>    \"number_of_layer\": 3,<br>    \"layer_0\": 3,<br>    \"layer_1\": 8,<br>    \"layer_2\": 13<br>  }<br>}",
          "{<br>  \"number\": 26,<br>  \"values\": [<br>    0.9419999718666077,<br>    56.0,<br>    20.0<br>  ],<br>  \"params\": {<br>    \"number_of_layer\": 2,<br>    \"layer_0\": 11,<br>    \"layer_1\": 9<br>  }<br>}",
          "{<br>  \"number\": 27,<br>  \"values\": [<br>    0.9350000023841858,<br>    22.0,<br>    5.0<br>  ],<br>  \"params\": {<br>    \"number_of_layer\": 1,<br>    \"layer_0\": 5<br>  }<br>}",
          "{<br>  \"number\": 28,<br>  \"values\": [<br>    0.9409999847412109,<br>    24.0,<br>    30.0<br>  ],<br>  \"params\": {<br>    \"number_of_layer\": 3,<br>    \"layer_0\": 7,<br>    \"layer_1\": 3,<br>    \"layer_2\": 20<br>  }<br>}",
          "{<br>  \"number\": 29,<br>  \"values\": [<br>    0.9409999847412109,<br>    15.0,<br>    18.0<br>  ],<br>  \"params\": {<br>    \"number_of_layer\": 2,<br>    \"layer_0\": 3,<br>    \"layer_1\": 15<br>  }<br>}",
          "{<br>  \"number\": 30,<br>  \"values\": [<br>    0.9419999718666077,<br>    20.0,<br>    6.0<br>  ],<br>  \"params\": {<br>    \"number_of_layer\": 1,<br>    \"layer_0\": 6<br>  }<br>}",
          "{<br>  \"number\": 31,<br>  \"values\": [<br>    0.9390000104904175,<br>    31.0,<br>    10.0<br>  ],<br>  \"params\": {<br>    \"number_of_layer\": 1,<br>    \"layer_0\": 10<br>  }<br>}",
          "{<br>  \"number\": 32,<br>  \"values\": [<br>    0.9359999895095825,<br>    51.0,<br>    14.0<br>  ],<br>  \"params\": {<br>    \"number_of_layer\": 1,<br>    \"layer_0\": 14<br>  }<br>}",
          "{<br>  \"number\": 33,<br>  \"values\": [<br>    0.9399999976158142,<br>    84.0,<br>    19.0<br>  ],<br>  \"params\": {<br>    \"number_of_layer\": 1,<br>    \"layer_0\": 19<br>  }<br>}",
          "{<br>  \"number\": 34,<br>  \"values\": [<br>    0.9399999976158142,<br>    26.0,<br>    6.0<br>  ],<br>  \"params\": {<br>    \"number_of_layer\": 1,<br>    \"layer_0\": 6<br>  }<br>}",
          "{<br>  \"number\": 35,<br>  \"values\": [<br>    0.9350000023841858,<br>    14.0,<br>    13.0<br>  ],<br>  \"params\": {<br>    \"number_of_layer\": 2,<br>    \"layer_0\": 3,<br>    \"layer_1\": 10<br>  }<br>}",
          "{<br>  \"number\": 36,<br>  \"values\": [<br>    0.9390000104904175,<br>    62.0,<br>    18.0<br>  ],<br>  \"params\": {<br>    \"number_of_layer\": 1,<br>    \"layer_0\": 18<br>  }<br>}",
          "{<br>  \"number\": 37,<br>  \"values\": [<br>    0.6710000038146973,<br>    69.0,<br>    51.0<br>  ],<br>  \"params\": {<br>    \"number_of_layer\": 5,<br>    \"layer_0\": 8,<br>    \"layer_1\": 16,<br>    \"layer_2\": 6,<br>    \"layer_3\": 20,<br>    \"layer_4\": 1<br>  }<br>}",
          "{<br>  \"number\": 38,<br>  \"values\": [<br>    0.9419999718666077,<br>    68.0,<br>    15.0<br>  ],<br>  \"params\": {<br>    \"number_of_layer\": 1,<br>    \"layer_0\": 15<br>  }<br>}",
          "{<br>  \"number\": 39,<br>  \"values\": [<br>    0.9449999928474426,<br>    13.0,<br>    22.0<br>  ],<br>  \"params\": {<br>    \"number_of_layer\": 2,<br>    \"layer_0\": 2,<br>    \"layer_1\": 20<br>  }<br>}",
          "{<br>  \"number\": 40,<br>  \"values\": [<br>    0.9340000152587891,<br>    11.0,<br>    5.0<br>  ],<br>  \"params\": {<br>    \"number_of_layer\": 1,<br>    \"layer_0\": 5<br>  }<br>}",
          "{<br>  \"number\": 41,<br>  \"values\": [<br>    0.9350000023841858,<br>    20.0,<br>    5.0<br>  ],<br>  \"params\": {<br>    \"number_of_layer\": 1,<br>    \"layer_0\": 5<br>  }<br>}",
          "{<br>  \"number\": 42,<br>  \"values\": [<br>    0.9369999766349792,<br>    16.0,<br>    4.0<br>  ],<br>  \"params\": {<br>    \"number_of_layer\": 1,<br>    \"layer_0\": 4<br>  }<br>}",
          "{<br>  \"number\": 43,<br>  \"values\": [<br>    0.9380000233650208,<br>    8.0,<br>    2.0<br>  ],<br>  \"params\": {<br>    \"number_of_layer\": 1,<br>    \"layer_0\": 2<br>  }<br>}",
          "{<br>  \"number\": 44,<br>  \"values\": [<br>    0.6710000038146973,<br>    12.0,<br>    35.0<br>  ],<br>  \"params\": {<br>    \"number_of_layer\": 4,<br>    \"layer_0\": 2,<br>    \"layer_1\": 18,<br>    \"layer_2\": 1,<br>    \"layer_3\": 14<br>  }<br>}",
          "{<br>  \"number\": 45,<br>  \"values\": [<br>    0.6710000038146973,<br>    26.0,<br>    46.0<br>  ],<br>  \"params\": {<br>    \"number_of_layer\": 5,<br>    \"layer_0\": 1,<br>    \"layer_1\": 11,<br>    \"layer_2\": 13,<br>    \"layer_3\": 1,<br>    \"layer_4\": 20<br>  }<br>}",
          "{<br>  \"number\": 47,<br>  \"values\": [<br>    0.9399999976158142,<br>    14.0,<br>    2.0<br>  ],<br>  \"params\": {<br>    \"number_of_layer\": 1,<br>    \"layer_0\": 2<br>  }<br>}",
          "{<br>  \"number\": 48,<br>  \"values\": [<br>    0.9369999766349792,<br>    16.0,<br>    19.0<br>  ],<br>  \"params\": {<br>    \"number_of_layer\": 2,<br>    \"layer_0\": 2,<br>    \"layer_1\": 17<br>  }<br>}",
          "{<br>  \"number\": 49,<br>  \"values\": [<br>    0.9409999847412109,<br>    10.0,<br>    2.0<br>  ],<br>  \"params\": {<br>    \"number_of_layer\": 1,<br>    \"layer_0\": 2<br>  }<br>}",
          "{<br>  \"number\": 51,<br>  \"values\": [<br>    0.6710000038146973,<br>    25.0,<br>    28.0<br>  ],<br>  \"params\": {<br>    \"number_of_layer\": 4,<br>    \"layer_0\": 1,<br>    \"layer_1\": 3,<br>    \"layer_2\": 10,<br>    \"layer_3\": 14<br>  }<br>}",
          "{<br>  \"number\": 52,<br>  \"values\": [<br>    0.9419999718666077,<br>    34.0,<br>    27.0<br>  ],<br>  \"params\": {<br>    \"number_of_layer\": 3,<br>    \"layer_0\": 1,<br>    \"layer_1\": 10,<br>    \"layer_2\": 16<br>  }<br>}",
          "{<br>  \"number\": 53,<br>  \"values\": [<br>    0.9390000104904175,<br>    60.0,<br>    16.0<br>  ],<br>  \"params\": {<br>    \"number_of_layer\": 1,<br>    \"layer_0\": 16<br>  }<br>}",
          "{<br>  \"number\": 54,<br>  \"values\": [<br>    0.9380000233650208,<br>    24.0,<br>    4.0<br>  ],<br>  \"params\": {<br>    \"number_of_layer\": 1,<br>    \"layer_0\": 4<br>  }<br>}",
          "{<br>  \"number\": 55,<br>  \"values\": [<br>    0.9409999847412109,<br>    12.0,<br>    8.0<br>  ],<br>  \"params\": {<br>    \"number_of_layer\": 2,<br>    \"layer_0\": 2,<br>    \"layer_1\": 6<br>  }<br>}",
          "{<br>  \"number\": 56,<br>  \"values\": [<br>    0.6710000038146973,<br>    124.0,<br>    66.0<br>  ],<br>  \"params\": {<br>    \"number_of_layer\": 5,<br>    \"layer_0\": 6,<br>    \"layer_1\": 15,<br>    \"layer_2\": 18,<br>    \"layer_3\": 17,<br>    \"layer_4\": 10<br>  }<br>}",
          "{<br>  \"number\": 57,<br>  \"values\": [<br>    0.9380000233650208,<br>    52.0,<br>    13.0<br>  ],<br>  \"params\": {<br>    \"number_of_layer\": 1,<br>    \"layer_0\": 13<br>  }<br>}",
          "{<br>  \"number\": 58,<br>  \"values\": [<br>    0.6710000038146973,<br>    9.0,<br>    8.0<br>  ],<br>  \"params\": {<br>    \"number_of_layer\": 3,<br>    \"layer_0\": 2,<br>    \"layer_1\": 2,<br>    \"layer_2\": 4<br>  }<br>}",
          "{<br>  \"number\": 59,<br>  \"values\": [<br>    0.9440000057220459,<br>    16.0,<br>    23.0<br>  ],<br>  \"params\": {<br>    \"number_of_layer\": 2,<br>    \"layer_0\": 4,<br>    \"layer_1\": 19<br>  }<br>}",
          "{<br>  \"number\": 61,<br>  \"values\": [<br>    0.9359999895095825,<br>    123.0,<br>    47.0<br>  ],<br>  \"params\": {<br>    \"number_of_layer\": 4,<br>    \"layer_0\": 20,<br>    \"layer_1\": 12,<br>    \"layer_2\": 7,<br>    \"layer_3\": 8<br>  }<br>}",
          "{<br>  \"number\": 62,<br>  \"values\": [<br>    0.9390000104904175,<br>    26.0,<br>    21.0<br>  ],<br>  \"params\": {<br>    \"number_of_layer\": 3,<br>    \"layer_0\": 1,<br>    \"layer_1\": 8,<br>    \"layer_2\": 12<br>  }<br>}",
          "{<br>  \"number\": 63,<br>  \"values\": [<br>    0.9449999928474426,<br>    85.0,<br>    30.0<br>  ],<br>  \"params\": {<br>    \"number_of_layer\": 2,<br>    \"layer_0\": 17,<br>    \"layer_1\": 13<br>  }<br>}",
          "{<br>  \"number\": 64,<br>  \"values\": [<br>    0.6710000038146973,<br>    7.0,<br>    17.0<br>  ],<br>  \"params\": {<br>    \"number_of_layer\": 4,<br>    \"layer_0\": 1,<br>    \"layer_1\": 1,<br>    \"layer_2\": 4,<br>    \"layer_3\": 11<br>  }<br>}",
          "{<br>  \"number\": 65,<br>  \"values\": [<br>    0.9269999861717224,<br>    61.0,<br>    26.0<br>  ],<br>  \"params\": {<br>    \"number_of_layer\": 3,<br>    \"layer_0\": 10,<br>    \"layer_1\": 7,<br>    \"layer_2\": 9<br>  }<br>}",
          "{<br>  \"number\": 66,<br>  \"values\": [<br>    0.9419999718666077,<br>    20.0,<br>    20.0<br>  ],<br>  \"params\": {<br>    \"number_of_layer\": 2,<br>    \"layer_0\": 3,<br>    \"layer_1\": 17<br>  }<br>}",
          "{<br>  \"number\": 67,<br>  \"values\": [<br>    0.9449999928474426,<br>    13.0,<br>    13.0<br>  ],<br>  \"params\": {<br>    \"number_of_layer\": 2,<br>    \"layer_0\": 1,<br>    \"layer_1\": 12<br>  }<br>}",
          "{<br>  \"number\": 68,<br>  \"values\": [<br>    0.9440000057220459,<br>    77.0,<br>    57.0<br>  ],<br>  \"params\": {<br>    \"number_of_layer\": 5,<br>    \"layer_0\": 12,<br>    \"layer_1\": 9,<br>    \"layer_2\": 15,<br>    \"layer_3\": 6,<br>    \"layer_4\": 15<br>  }<br>}",
          "{<br>  \"number\": 69,<br>  \"values\": [<br>    0.9419999718666077,<br>    21.0,<br>    17.0<br>  ],<br>  \"params\": {<br>    \"number_of_layer\": 2,<br>    \"layer_0\": 3,<br>    \"layer_1\": 14<br>  }<br>}",
          "{<br>  \"number\": 70,<br>  \"values\": [<br>    0.9359999895095825,<br>    83.0,<br>    34.0<br>  ],<br>  \"params\": {<br>    \"number_of_layer\": 3,<br>    \"layer_0\": 19,<br>    \"layer_1\": 4,<br>    \"layer_2\": 11<br>  }<br>}",
          "{<br>  \"number\": 71,<br>  \"values\": [<br>    0.9340000152587891,<br>    8.0,<br>    1.0<br>  ],<br>  \"params\": {<br>    \"number_of_layer\": 1,<br>    \"layer_0\": 1<br>  }<br>}",
          "{<br>  \"number\": 72,<br>  \"values\": [<br>    0.9359999895095825,<br>    24.0,<br>    22.0<br>  ],<br>  \"params\": {<br>    \"number_of_layer\": 3,<br>    \"layer_0\": 8,<br>    \"layer_1\": 6,<br>    \"layer_2\": 8<br>  }<br>}",
          "{<br>  \"number\": 73,<br>  \"values\": [<br>    0.9350000023841858,<br>    34.0,<br>    23.0<br>  ],<br>  \"params\": {<br>    \"number_of_layer\": 3,<br>    \"layer_0\": 7,<br>    \"layer_1\": 2,<br>    \"layer_2\": 14<br>  }<br>}",
          "{<br>  \"number\": 74,<br>  \"values\": [<br>    0.9380000233650208,<br>    45.0,<br>    39.0<br>  ],<br>  \"params\": {<br>    \"number_of_layer\": 4,<br>    \"layer_0\": 5,<br>    \"layer_1\": 5,<br>    \"layer_2\": 18,<br>    \"layer_3\": 11<br>  }<br>}",
          "{<br>  \"number\": 75,<br>  \"values\": [<br>    0.9390000104904175,<br>    24.0,<br>    18.0<br>  ],<br>  \"params\": {<br>    \"number_of_layer\": 3,<br>    \"layer_0\": 6,<br>    \"layer_1\": 7,<br>    \"layer_2\": 5<br>  }<br>}",
          "{<br>  \"number\": 76,<br>  \"values\": [<br>    0.9480000138282776,<br>    52.0,<br>    42.0<br>  ],<br>  \"params\": {<br>    \"number_of_layer\": 4,<br>    \"layer_0\": 9,<br>    \"layer_1\": 4,<br>    \"layer_2\": 11,<br>    \"layer_3\": 18<br>  }<br>}",
          "{<br>  \"number\": 77,<br>  \"values\": [<br>    0.9409999847412109,<br>    20.0,<br>    15.0<br>  ],<br>  \"params\": {<br>    \"number_of_layer\": 3,<br>    \"layer_0\": 4,<br>    \"layer_1\": 3,<br>    \"layer_2\": 8<br>  }<br>}",
          "{<br>  \"number\": 78,<br>  \"values\": [<br>    0.9340000152587891,<br>    14.0,<br>    12.0<br>  ],<br>  \"params\": {<br>    \"number_of_layer\": 2,<br>    \"layer_0\": 3,<br>    \"layer_1\": 9<br>  }<br>}",
          "{<br>  \"number\": 80,<br>  \"values\": [<br>    0.9409999847412109,<br>    49.0,<br>    14.0<br>  ],<br>  \"params\": {<br>    \"number_of_layer\": 1,<br>    \"layer_0\": 14<br>  }<br>}",
          "{<br>  \"number\": 81,<br>  \"values\": [<br>    0.9359999895095825,<br>    29.0,<br>    12.0<br>  ],<br>  \"params\": {<br>    \"number_of_layer\": 2,<br>    \"layer_0\": 6,<br>    \"layer_1\": 6<br>  }<br>}",
          "{<br>  \"number\": 82,<br>  \"values\": [<br>    0.9459999799728394,<br>    40.0,<br>    17.0<br>  ],<br>  \"params\": {<br>    \"number_of_layer\": 2,<br>    \"layer_0\": 9,<br>    \"layer_1\": 8<br>  }<br>}",
          "{<br>  \"number\": 83,<br>  \"values\": [<br>    0.9350000023841858,<br>    33.0,<br>    12.0<br>  ],<br>  \"params\": {<br>    \"number_of_layer\": 2,<br>    \"layer_0\": 7,<br>    \"layer_1\": 5<br>  }<br>}",
          "{<br>  \"number\": 84,<br>  \"values\": [<br>    0.9399999976158142,<br>    21.0,<br>    5.0<br>  ],<br>  \"params\": {<br>    \"number_of_layer\": 2,<br>    \"layer_0\": 4,<br>    \"layer_1\": 1<br>  }<br>}",
          "{<br>  \"number\": 85,<br>  \"values\": [<br>    0.9409999847412109,<br>    57.0,<br>    23.0<br>  ],<br>  \"params\": {<br>    \"number_of_layer\": 2,<br>    \"layer_0\": 12,<br>    \"layer_1\": 11<br>  }<br>}",
          "{<br>  \"number\": 86,<br>  \"values\": [<br>    0.9369999766349792,<br>    44.0,<br>    14.0<br>  ],<br>  \"params\": {<br>    \"number_of_layer\": 2,<br>    \"layer_0\": 11,<br>    \"layer_1\": 3<br>  }<br>}",
          "{<br>  \"number\": 87,<br>  \"values\": [<br>    0.9380000233650208,<br>    20.0,<br>    15.0<br>  ],<br>  \"params\": {<br>    \"number_of_layer\": 2,<br>    \"layer_0\": 5,<br>    \"layer_1\": 10<br>  }<br>}",
          "{<br>  \"number\": 88,<br>  \"values\": [<br>    0.9309999942779541,<br>    12.0,<br>    8.0<br>  ],<br>  \"params\": {<br>    \"number_of_layer\": 2,<br>    \"layer_0\": 1,<br>    \"layer_1\": 7<br>  }<br>}",
          "{<br>  \"number\": 90,<br>  \"values\": [<br>    0.9380000233650208,<br>    13.0,<br>    2.0<br>  ],<br>  \"params\": {<br>    \"number_of_layer\": 1,<br>    \"layer_0\": 2<br>  }<br>}",
          "{<br>  \"number\": 91,<br>  \"values\": [<br>    0.6710000038146973,<br>    13.0,<br>    6.0<br>  ],<br>  \"params\": {<br>    \"number_of_layer\": 3,<br>    \"layer_0\": 3,<br>    \"layer_1\": 2,<br>    \"layer_2\": 1<br>  }<br>}",
          "{<br>  \"number\": 92,<br>  \"values\": [<br>    0.9380000233650208,<br>    8.0,<br>    7.0<br>  ],<br>  \"params\": {<br>    \"number_of_layer\": 2,<br>    \"layer_0\": 3,<br>    \"layer_1\": 4<br>  }<br>}",
          "{<br>  \"number\": 93,<br>  \"values\": [<br>    0.6710000038146973,<br>    16.0,<br>    28.0<br>  ],<br>  \"params\": {<br>    \"number_of_layer\": 5,<br>    \"layer_0\": 2,<br>    \"layer_1\": 2,<br>    \"layer_2\": 18,<br>    \"layer_3\": 5,<br>    \"layer_4\": 1<br>  }<br>}",
          "{<br>  \"number\": 94,<br>  \"values\": [<br>    0.9350000023841858,<br>    5.0,<br>    6.0<br>  ],<br>  \"params\": {<br>    \"number_of_layer\": 3,<br>    \"layer_0\": 2,<br>    \"layer_1\": 1,<br>    \"layer_2\": 3<br>  }<br>}",
          "{<br>  \"number\": 95,<br>  \"values\": [<br>    0.9330000281333923,<br>    11.0,<br>    2.0<br>  ],<br>  \"params\": {<br>    \"number_of_layer\": 1,<br>    \"layer_0\": 2<br>  }<br>}",
          "{<br>  \"number\": 96,<br>  \"values\": [<br>    0.9359999895095825,<br>    8.0,<br>    1.0<br>  ],<br>  \"params\": {<br>    \"number_of_layer\": 1,<br>    \"layer_0\": 1<br>  }<br>}",
          "{<br>  \"number\": 98,<br>  \"values\": [<br>    0.9369999766349792,<br>    16.0,<br>    6.0<br>  ],<br>  \"params\": {<br>    \"number_of_layer\": 2,<br>    \"layer_0\": 4,<br>    \"layer_1\": 2<br>  }<br>}"
         ],
         "type": "scatter3d",
         "x": [
          0.9449999928474426,
          0.9380000233650208,
          0.9290000200271606,
          0.9399999976158142,
          0.6710000038146973,
          0.9409999847412109,
          0.6710000038146973,
          0.9409999847412109,
          0.9350000023841858,
          0.9440000057220459,
          0.9369999766349792,
          0.9440000057220459,
          0.9430000185966492,
          0.9399999976158142,
          0.9430000185966492,
          0.9409999847412109,
          0.9419999718666077,
          0.9359999895095825,
          0.9419999718666077,
          0.9380000233650208,
          0.9409999847412109,
          0.9399999976158142,
          0.9369999766349792,
          0.9380000233650208,
          0.9419999718666077,
          0.9350000023841858,
          0.9409999847412109,
          0.9409999847412109,
          0.9419999718666077,
          0.9390000104904175,
          0.9359999895095825,
          0.9399999976158142,
          0.9399999976158142,
          0.9350000023841858,
          0.9390000104904175,
          0.6710000038146973,
          0.9419999718666077,
          0.9449999928474426,
          0.9340000152587891,
          0.9350000023841858,
          0.9369999766349792,
          0.9380000233650208,
          0.6710000038146973,
          0.6710000038146973,
          0.9399999976158142,
          0.9369999766349792,
          0.9409999847412109,
          0.6710000038146973,
          0.9419999718666077,
          0.9390000104904175,
          0.9380000233650208,
          0.9409999847412109,
          0.6710000038146973,
          0.9380000233650208,
          0.6710000038146973,
          0.9440000057220459,
          0.9359999895095825,
          0.9390000104904175,
          0.9449999928474426,
          0.6710000038146973,
          0.9269999861717224,
          0.9419999718666077,
          0.9449999928474426,
          0.9440000057220459,
          0.9419999718666077,
          0.9359999895095825,
          0.9340000152587891,
          0.9359999895095825,
          0.9350000023841858,
          0.9380000233650208,
          0.9390000104904175,
          0.9480000138282776,
          0.9409999847412109,
          0.9340000152587891,
          0.9409999847412109,
          0.9359999895095825,
          0.9459999799728394,
          0.9350000023841858,
          0.9399999976158142,
          0.9409999847412109,
          0.9369999766349792,
          0.9380000233650208,
          0.9309999942779541,
          0.9380000233650208,
          0.6710000038146973,
          0.9380000233650208,
          0.6710000038146973,
          0.9350000023841858,
          0.9330000281333923,
          0.9359999895095825,
          0.9369999766349792
         ],
         "y": [
          28,
          28,
          68,
          90,
          52,
          51,
          59,
          110,
          121,
          34,
          10,
          12,
          26,
          15,
          29,
          23,
          32,
          25,
          168,
          10,
          17,
          20,
          18,
          25,
          56,
          22,
          24,
          15,
          20,
          31,
          51,
          84,
          26,
          14,
          62,
          69,
          68,
          13,
          11,
          20,
          16,
          8,
          12,
          26,
          14,
          16,
          10,
          25,
          34,
          60,
          24,
          12,
          124,
          52,
          9,
          16,
          123,
          26,
          85,
          7,
          61,
          20,
          13,
          77,
          21,
          83,
          8,
          24,
          34,
          45,
          24,
          52,
          20,
          14,
          49,
          29,
          40,
          33,
          21,
          57,
          44,
          20,
          12,
          13,
          13,
          8,
          16,
          5,
          11,
          8,
          16
         ],
         "z": [
          23,
          17,
          17,
          20,
          37,
          29,
          36,
          44,
          54,
          13,
          14,
          15,
          29,
          4,
          9,
          5,
          20,
          3,
          85,
          8,
          8,
          11,
          4,
          24,
          20,
          5,
          30,
          18,
          6,
          10,
          14,
          19,
          6,
          13,
          18,
          51,
          15,
          22,
          5,
          5,
          4,
          2,
          35,
          46,
          2,
          19,
          2,
          28,
          27,
          16,
          4,
          8,
          66,
          13,
          8,
          23,
          47,
          21,
          30,
          17,
          26,
          20,
          13,
          57,
          17,
          34,
          1,
          22,
          23,
          39,
          18,
          42,
          15,
          12,
          14,
          12,
          17,
          12,
          5,
          23,
          14,
          15,
          8,
          2,
          6,
          7,
          28,
          6,
          2,
          1,
          6
         ]
        },
        {
         "hovertemplate": "%{text}<extra>Best Trial</extra>",
         "marker": {
          "color": [
           10,
           14,
           46,
           50,
           60,
           79,
           89,
           97,
           99
          ],
          "colorbar": {
           "title": {
            "text": "Best Trial"
           },
           "x": 1.1,
           "xpad": 40
          },
          "colorscale": [
           [
            0,
            "rgb(255,245,240)"
           ],
           [
            0.125,
            "rgb(254,224,210)"
           ],
           [
            0.25,
            "rgb(252,187,161)"
           ],
           [
            0.375,
            "rgb(252,146,114)"
           ],
           [
            0.5,
            "rgb(251,106,74)"
           ],
           [
            0.625,
            "rgb(239,59,44)"
           ],
           [
            0.75,
            "rgb(203,24,29)"
           ],
           [
            0.875,
            "rgb(165,15,21)"
           ],
           [
            1,
            "rgb(103,0,13)"
           ]
          ],
          "line": {
           "color": "Grey",
           "width": 0.5
          }
         },
         "mode": "markers",
         "showlegend": false,
         "text": [
          "{<br>  \"number\": 10,<br>  \"values\": [<br>    0.9449999928474426,<br>    8.0,<br>    13.0<br>  ],<br>  \"params\": {<br>    \"number_of_layer\": 2,<br>    \"layer_0\": 1,<br>    \"layer_1\": 12<br>  }<br>}",
          "{<br>  \"number\": 14,<br>  \"values\": [<br>    0.9490000009536743,<br>    13.0,<br>    10.0<br>  ],<br>  \"params\": {<br>    \"number_of_layer\": 2,<br>    \"layer_0\": 3,<br>    \"layer_1\": 7<br>  }<br>}",
          "{<br>  \"number\": 46,<br>  \"values\": [<br>    0.949999988079071,<br>    114.0,<br>    47.0<br>  ],<br>  \"params\": {<br>    \"number_of_layer\": 4,<br>    \"layer_0\": 20,<br>    \"layer_1\": 13,<br>    \"layer_2\": 5,<br>    \"layer_3\": 9<br>  }<br>}",
          "{<br>  \"number\": 50,<br>  \"values\": [<br>    0.6710000038146973,<br>    3.0,<br>    14.0<br>  ],<br>  \"params\": {<br>    \"number_of_layer\": 3,<br>    \"layer_0\": 1,<br>    \"layer_1\": 3,<br>    \"layer_2\": 10<br>  }<br>}",
          "{<br>  \"number\": 60,<br>  \"values\": [<br>    0.9409999847412109,<br>    8.0,<br>    1.0<br>  ],<br>  \"params\": {<br>    \"number_of_layer\": 1,<br>    \"layer_0\": 1<br>  }<br>}",
          "{<br>  \"number\": 79,<br>  \"values\": [<br>    0.6710000038146973,<br>    4.0,<br>    3.0<br>  ],<br>  \"params\": {<br>    \"number_of_layer\": 2,<br>    \"layer_0\": 1,<br>    \"layer_1\": 2<br>  }<br>}",
          "{<br>  \"number\": 89,<br>  \"values\": [<br>    0.9380000233650208,<br>    4.0,<br>    4.0<br>  ],<br>  \"params\": {<br>    \"number_of_layer\": 2,<br>    \"layer_0\": 2,<br>    \"layer_1\": 2<br>  }<br>}",
          "{<br>  \"number\": 97,<br>  \"values\": [<br>    0.9449999928474426,<br>    12.0,<br>    6.0<br>  ],<br>  \"params\": {<br>    \"number_of_layer\": 2,<br>    \"layer_0\": 3,<br>    \"layer_1\": 3<br>  }<br>}",
          "{<br>  \"number\": 99,<br>  \"values\": [<br>    0.9430000185966492,<br>    11.0,<br>    4.0<br>  ],<br>  \"params\": {<br>    \"number_of_layer\": 2,<br>    \"layer_0\": 1,<br>    \"layer_1\": 3<br>  }<br>}"
         ],
         "type": "scatter3d",
         "x": [
          0.9449999928474426,
          0.9490000009536743,
          0.949999988079071,
          0.6710000038146973,
          0.9409999847412109,
          0.6710000038146973,
          0.9380000233650208,
          0.9449999928474426,
          0.9430000185966492
         ],
         "y": [
          8,
          13,
          114,
          3,
          8,
          4,
          4,
          12,
          11
         ],
         "z": [
          13,
          10,
          47,
          14,
          1,
          3,
          4,
          6,
          4
         ]
        }
       ],
       "layout": {
        "scene": {
         "xaxis": {
          "title": {
           "text": "accuracy"
          }
         },
         "yaxis": {
          "title": {
           "text": "dead_weights"
          }
         },
         "zaxis": {
          "title": {
           "text": "num_neuron"
          }
         }
        },
        "template": {
         "data": {
          "bar": [
           {
            "error_x": {
             "color": "#2a3f5f"
            },
            "error_y": {
             "color": "#2a3f5f"
            },
            "marker": {
             "line": {
              "color": "#E5ECF6",
              "width": 0.5
             },
             "pattern": {
              "fillmode": "overlay",
              "size": 10,
              "solidity": 0.2
             }
            },
            "type": "bar"
           }
          ],
          "barpolar": [
           {
            "marker": {
             "line": {
              "color": "#E5ECF6",
              "width": 0.5
             },
             "pattern": {
              "fillmode": "overlay",
              "size": 10,
              "solidity": 0.2
             }
            },
            "type": "barpolar"
           }
          ],
          "carpet": [
           {
            "aaxis": {
             "endlinecolor": "#2a3f5f",
             "gridcolor": "white",
             "linecolor": "white",
             "minorgridcolor": "white",
             "startlinecolor": "#2a3f5f"
            },
            "baxis": {
             "endlinecolor": "#2a3f5f",
             "gridcolor": "white",
             "linecolor": "white",
             "minorgridcolor": "white",
             "startlinecolor": "#2a3f5f"
            },
            "type": "carpet"
           }
          ],
          "choropleth": [
           {
            "colorbar": {
             "outlinewidth": 0,
             "ticks": ""
            },
            "type": "choropleth"
           }
          ],
          "contour": [
           {
            "colorbar": {
             "outlinewidth": 0,
             "ticks": ""
            },
            "colorscale": [
             [
              0,
              "#0d0887"
             ],
             [
              0.1111111111111111,
              "#46039f"
             ],
             [
              0.2222222222222222,
              "#7201a8"
             ],
             [
              0.3333333333333333,
              "#9c179e"
             ],
             [
              0.4444444444444444,
              "#bd3786"
             ],
             [
              0.5555555555555556,
              "#d8576b"
             ],
             [
              0.6666666666666666,
              "#ed7953"
             ],
             [
              0.7777777777777778,
              "#fb9f3a"
             ],
             [
              0.8888888888888888,
              "#fdca26"
             ],
             [
              1,
              "#f0f921"
             ]
            ],
            "type": "contour"
           }
          ],
          "contourcarpet": [
           {
            "colorbar": {
             "outlinewidth": 0,
             "ticks": ""
            },
            "type": "contourcarpet"
           }
          ],
          "heatmap": [
           {
            "colorbar": {
             "outlinewidth": 0,
             "ticks": ""
            },
            "colorscale": [
             [
              0,
              "#0d0887"
             ],
             [
              0.1111111111111111,
              "#46039f"
             ],
             [
              0.2222222222222222,
              "#7201a8"
             ],
             [
              0.3333333333333333,
              "#9c179e"
             ],
             [
              0.4444444444444444,
              "#bd3786"
             ],
             [
              0.5555555555555556,
              "#d8576b"
             ],
             [
              0.6666666666666666,
              "#ed7953"
             ],
             [
              0.7777777777777778,
              "#fb9f3a"
             ],
             [
              0.8888888888888888,
              "#fdca26"
             ],
             [
              1,
              "#f0f921"
             ]
            ],
            "type": "heatmap"
           }
          ],
          "heatmapgl": [
           {
            "colorbar": {
             "outlinewidth": 0,
             "ticks": ""
            },
            "colorscale": [
             [
              0,
              "#0d0887"
             ],
             [
              0.1111111111111111,
              "#46039f"
             ],
             [
              0.2222222222222222,
              "#7201a8"
             ],
             [
              0.3333333333333333,
              "#9c179e"
             ],
             [
              0.4444444444444444,
              "#bd3786"
             ],
             [
              0.5555555555555556,
              "#d8576b"
             ],
             [
              0.6666666666666666,
              "#ed7953"
             ],
             [
              0.7777777777777778,
              "#fb9f3a"
             ],
             [
              0.8888888888888888,
              "#fdca26"
             ],
             [
              1,
              "#f0f921"
             ]
            ],
            "type": "heatmapgl"
           }
          ],
          "histogram": [
           {
            "marker": {
             "pattern": {
              "fillmode": "overlay",
              "size": 10,
              "solidity": 0.2
             }
            },
            "type": "histogram"
           }
          ],
          "histogram2d": [
           {
            "colorbar": {
             "outlinewidth": 0,
             "ticks": ""
            },
            "colorscale": [
             [
              0,
              "#0d0887"
             ],
             [
              0.1111111111111111,
              "#46039f"
             ],
             [
              0.2222222222222222,
              "#7201a8"
             ],
             [
              0.3333333333333333,
              "#9c179e"
             ],
             [
              0.4444444444444444,
              "#bd3786"
             ],
             [
              0.5555555555555556,
              "#d8576b"
             ],
             [
              0.6666666666666666,
              "#ed7953"
             ],
             [
              0.7777777777777778,
              "#fb9f3a"
             ],
             [
              0.8888888888888888,
              "#fdca26"
             ],
             [
              1,
              "#f0f921"
             ]
            ],
            "type": "histogram2d"
           }
          ],
          "histogram2dcontour": [
           {
            "colorbar": {
             "outlinewidth": 0,
             "ticks": ""
            },
            "colorscale": [
             [
              0,
              "#0d0887"
             ],
             [
              0.1111111111111111,
              "#46039f"
             ],
             [
              0.2222222222222222,
              "#7201a8"
             ],
             [
              0.3333333333333333,
              "#9c179e"
             ],
             [
              0.4444444444444444,
              "#bd3786"
             ],
             [
              0.5555555555555556,
              "#d8576b"
             ],
             [
              0.6666666666666666,
              "#ed7953"
             ],
             [
              0.7777777777777778,
              "#fb9f3a"
             ],
             [
              0.8888888888888888,
              "#fdca26"
             ],
             [
              1,
              "#f0f921"
             ]
            ],
            "type": "histogram2dcontour"
           }
          ],
          "mesh3d": [
           {
            "colorbar": {
             "outlinewidth": 0,
             "ticks": ""
            },
            "type": "mesh3d"
           }
          ],
          "parcoords": [
           {
            "line": {
             "colorbar": {
              "outlinewidth": 0,
              "ticks": ""
             }
            },
            "type": "parcoords"
           }
          ],
          "pie": [
           {
            "automargin": true,
            "type": "pie"
           }
          ],
          "scatter": [
           {
            "fillpattern": {
             "fillmode": "overlay",
             "size": 10,
             "solidity": 0.2
            },
            "type": "scatter"
           }
          ],
          "scatter3d": [
           {
            "line": {
             "colorbar": {
              "outlinewidth": 0,
              "ticks": ""
             }
            },
            "marker": {
             "colorbar": {
              "outlinewidth": 0,
              "ticks": ""
             }
            },
            "type": "scatter3d"
           }
          ],
          "scattercarpet": [
           {
            "marker": {
             "colorbar": {
              "outlinewidth": 0,
              "ticks": ""
             }
            },
            "type": "scattercarpet"
           }
          ],
          "scattergeo": [
           {
            "marker": {
             "colorbar": {
              "outlinewidth": 0,
              "ticks": ""
             }
            },
            "type": "scattergeo"
           }
          ],
          "scattergl": [
           {
            "marker": {
             "colorbar": {
              "outlinewidth": 0,
              "ticks": ""
             }
            },
            "type": "scattergl"
           }
          ],
          "scattermapbox": [
           {
            "marker": {
             "colorbar": {
              "outlinewidth": 0,
              "ticks": ""
             }
            },
            "type": "scattermapbox"
           }
          ],
          "scatterpolar": [
           {
            "marker": {
             "colorbar": {
              "outlinewidth": 0,
              "ticks": ""
             }
            },
            "type": "scatterpolar"
           }
          ],
          "scatterpolargl": [
           {
            "marker": {
             "colorbar": {
              "outlinewidth": 0,
              "ticks": ""
             }
            },
            "type": "scatterpolargl"
           }
          ],
          "scatterternary": [
           {
            "marker": {
             "colorbar": {
              "outlinewidth": 0,
              "ticks": ""
             }
            },
            "type": "scatterternary"
           }
          ],
          "surface": [
           {
            "colorbar": {
             "outlinewidth": 0,
             "ticks": ""
            },
            "colorscale": [
             [
              0,
              "#0d0887"
             ],
             [
              0.1111111111111111,
              "#46039f"
             ],
             [
              0.2222222222222222,
              "#7201a8"
             ],
             [
              0.3333333333333333,
              "#9c179e"
             ],
             [
              0.4444444444444444,
              "#bd3786"
             ],
             [
              0.5555555555555556,
              "#d8576b"
             ],
             [
              0.6666666666666666,
              "#ed7953"
             ],
             [
              0.7777777777777778,
              "#fb9f3a"
             ],
             [
              0.8888888888888888,
              "#fdca26"
             ],
             [
              1,
              "#f0f921"
             ]
            ],
            "type": "surface"
           }
          ],
          "table": [
           {
            "cells": {
             "fill": {
              "color": "#EBF0F8"
             },
             "line": {
              "color": "white"
             }
            },
            "header": {
             "fill": {
              "color": "#C8D4E3"
             },
             "line": {
              "color": "white"
             }
            },
            "type": "table"
           }
          ]
         },
         "layout": {
          "annotationdefaults": {
           "arrowcolor": "#2a3f5f",
           "arrowhead": 0,
           "arrowwidth": 1
          },
          "autotypenumbers": "strict",
          "coloraxis": {
           "colorbar": {
            "outlinewidth": 0,
            "ticks": ""
           }
          },
          "colorscale": {
           "diverging": [
            [
             0,
             "#8e0152"
            ],
            [
             0.1,
             "#c51b7d"
            ],
            [
             0.2,
             "#de77ae"
            ],
            [
             0.3,
             "#f1b6da"
            ],
            [
             0.4,
             "#fde0ef"
            ],
            [
             0.5,
             "#f7f7f7"
            ],
            [
             0.6,
             "#e6f5d0"
            ],
            [
             0.7,
             "#b8e186"
            ],
            [
             0.8,
             "#7fbc41"
            ],
            [
             0.9,
             "#4d9221"
            ],
            [
             1,
             "#276419"
            ]
           ],
           "sequential": [
            [
             0,
             "#0d0887"
            ],
            [
             0.1111111111111111,
             "#46039f"
            ],
            [
             0.2222222222222222,
             "#7201a8"
            ],
            [
             0.3333333333333333,
             "#9c179e"
            ],
            [
             0.4444444444444444,
             "#bd3786"
            ],
            [
             0.5555555555555556,
             "#d8576b"
            ],
            [
             0.6666666666666666,
             "#ed7953"
            ],
            [
             0.7777777777777778,
             "#fb9f3a"
            ],
            [
             0.8888888888888888,
             "#fdca26"
            ],
            [
             1,
             "#f0f921"
            ]
           ],
           "sequentialminus": [
            [
             0,
             "#0d0887"
            ],
            [
             0.1111111111111111,
             "#46039f"
            ],
            [
             0.2222222222222222,
             "#7201a8"
            ],
            [
             0.3333333333333333,
             "#9c179e"
            ],
            [
             0.4444444444444444,
             "#bd3786"
            ],
            [
             0.5555555555555556,
             "#d8576b"
            ],
            [
             0.6666666666666666,
             "#ed7953"
            ],
            [
             0.7777777777777778,
             "#fb9f3a"
            ],
            [
             0.8888888888888888,
             "#fdca26"
            ],
            [
             1,
             "#f0f921"
            ]
           ]
          },
          "colorway": [
           "#636efa",
           "#EF553B",
           "#00cc96",
           "#ab63fa",
           "#FFA15A",
           "#19d3f3",
           "#FF6692",
           "#B6E880",
           "#FF97FF",
           "#FECB52"
          ],
          "font": {
           "color": "#2a3f5f"
          },
          "geo": {
           "bgcolor": "white",
           "lakecolor": "white",
           "landcolor": "#E5ECF6",
           "showlakes": true,
           "showland": true,
           "subunitcolor": "white"
          },
          "hoverlabel": {
           "align": "left"
          },
          "hovermode": "closest",
          "mapbox": {
           "style": "light"
          },
          "paper_bgcolor": "white",
          "plot_bgcolor": "#E5ECF6",
          "polar": {
           "angularaxis": {
            "gridcolor": "white",
            "linecolor": "white",
            "ticks": ""
           },
           "bgcolor": "#E5ECF6",
           "radialaxis": {
            "gridcolor": "white",
            "linecolor": "white",
            "ticks": ""
           }
          },
          "scene": {
           "xaxis": {
            "backgroundcolor": "#E5ECF6",
            "gridcolor": "white",
            "gridwidth": 2,
            "linecolor": "white",
            "showbackground": true,
            "ticks": "",
            "zerolinecolor": "white"
           },
           "yaxis": {
            "backgroundcolor": "#E5ECF6",
            "gridcolor": "white",
            "gridwidth": 2,
            "linecolor": "white",
            "showbackground": true,
            "ticks": "",
            "zerolinecolor": "white"
           },
           "zaxis": {
            "backgroundcolor": "#E5ECF6",
            "gridcolor": "white",
            "gridwidth": 2,
            "linecolor": "white",
            "showbackground": true,
            "ticks": "",
            "zerolinecolor": "white"
           }
          },
          "shapedefaults": {
           "line": {
            "color": "#2a3f5f"
           }
          },
          "ternary": {
           "aaxis": {
            "gridcolor": "white",
            "linecolor": "white",
            "ticks": ""
           },
           "baxis": {
            "gridcolor": "white",
            "linecolor": "white",
            "ticks": ""
           },
           "bgcolor": "#E5ECF6",
           "caxis": {
            "gridcolor": "white",
            "linecolor": "white",
            "ticks": ""
           }
          },
          "title": {
           "x": 0.05
          },
          "xaxis": {
           "automargin": true,
           "gridcolor": "white",
           "linecolor": "white",
           "ticks": "",
           "title": {
            "standoff": 15
           },
           "zerolinecolor": "white",
           "zerolinewidth": 2
          },
          "yaxis": {
           "automargin": true,
           "gridcolor": "white",
           "linecolor": "white",
           "ticks": "",
           "title": {
            "standoff": 15
           },
           "zerolinecolor": "white",
           "zerolinewidth": 2
          }
         }
        },
        "title": {
         "text": "Pareto-front Plot"
        }
       }
      }
     },
     "metadata": {},
     "output_type": "display_data"
    }
   ],
   "source": [
    "# plotting pareto front\n",
    "fig_1 = optuna.visualization.plot_pareto_front(study_multiple_hyperparameter, target_names=[METRIC,\"dead_weights\",\"num_neuron\"])\n",
    "fig_1.show()\n"
   ]
  },
  {
   "cell_type": "code",
   "execution_count": 124,
   "metadata": {},
   "outputs": [
    {
     "data": {
      "application/vnd.plotly.v1+json": {
       "config": {
        "plotlyServerURL": "https://plot.ly"
       },
       "data": [
        {
         "cliponaxis": false,
         "hovertemplate": [
          "layer_0 (IntDistribution): 0.31444631990594824<extra></extra>",
          "number_of_layer (IntDistribution): 0.6855536800940517<extra></extra>"
         ],
         "marker": {
          "color": "rgb(66,146,198)"
         },
         "orientation": "h",
         "text": [
          "0.31",
          "0.69"
         ],
         "textposition": "outside",
         "type": "bar",
         "x": [
          0.31444631990594824,
          0.6855536800940517
         ],
         "y": [
          "layer_0",
          "number_of_layer"
         ]
        }
       ],
       "layout": {
        "showlegend": false,
        "template": {
         "data": {
          "bar": [
           {
            "error_x": {
             "color": "#2a3f5f"
            },
            "error_y": {
             "color": "#2a3f5f"
            },
            "marker": {
             "line": {
              "color": "#E5ECF6",
              "width": 0.5
             },
             "pattern": {
              "fillmode": "overlay",
              "size": 10,
              "solidity": 0.2
             }
            },
            "type": "bar"
           }
          ],
          "barpolar": [
           {
            "marker": {
             "line": {
              "color": "#E5ECF6",
              "width": 0.5
             },
             "pattern": {
              "fillmode": "overlay",
              "size": 10,
              "solidity": 0.2
             }
            },
            "type": "barpolar"
           }
          ],
          "carpet": [
           {
            "aaxis": {
             "endlinecolor": "#2a3f5f",
             "gridcolor": "white",
             "linecolor": "white",
             "minorgridcolor": "white",
             "startlinecolor": "#2a3f5f"
            },
            "baxis": {
             "endlinecolor": "#2a3f5f",
             "gridcolor": "white",
             "linecolor": "white",
             "minorgridcolor": "white",
             "startlinecolor": "#2a3f5f"
            },
            "type": "carpet"
           }
          ],
          "choropleth": [
           {
            "colorbar": {
             "outlinewidth": 0,
             "ticks": ""
            },
            "type": "choropleth"
           }
          ],
          "contour": [
           {
            "colorbar": {
             "outlinewidth": 0,
             "ticks": ""
            },
            "colorscale": [
             [
              0,
              "#0d0887"
             ],
             [
              0.1111111111111111,
              "#46039f"
             ],
             [
              0.2222222222222222,
              "#7201a8"
             ],
             [
              0.3333333333333333,
              "#9c179e"
             ],
             [
              0.4444444444444444,
              "#bd3786"
             ],
             [
              0.5555555555555556,
              "#d8576b"
             ],
             [
              0.6666666666666666,
              "#ed7953"
             ],
             [
              0.7777777777777778,
              "#fb9f3a"
             ],
             [
              0.8888888888888888,
              "#fdca26"
             ],
             [
              1,
              "#f0f921"
             ]
            ],
            "type": "contour"
           }
          ],
          "contourcarpet": [
           {
            "colorbar": {
             "outlinewidth": 0,
             "ticks": ""
            },
            "type": "contourcarpet"
           }
          ],
          "heatmap": [
           {
            "colorbar": {
             "outlinewidth": 0,
             "ticks": ""
            },
            "colorscale": [
             [
              0,
              "#0d0887"
             ],
             [
              0.1111111111111111,
              "#46039f"
             ],
             [
              0.2222222222222222,
              "#7201a8"
             ],
             [
              0.3333333333333333,
              "#9c179e"
             ],
             [
              0.4444444444444444,
              "#bd3786"
             ],
             [
              0.5555555555555556,
              "#d8576b"
             ],
             [
              0.6666666666666666,
              "#ed7953"
             ],
             [
              0.7777777777777778,
              "#fb9f3a"
             ],
             [
              0.8888888888888888,
              "#fdca26"
             ],
             [
              1,
              "#f0f921"
             ]
            ],
            "type": "heatmap"
           }
          ],
          "heatmapgl": [
           {
            "colorbar": {
             "outlinewidth": 0,
             "ticks": ""
            },
            "colorscale": [
             [
              0,
              "#0d0887"
             ],
             [
              0.1111111111111111,
              "#46039f"
             ],
             [
              0.2222222222222222,
              "#7201a8"
             ],
             [
              0.3333333333333333,
              "#9c179e"
             ],
             [
              0.4444444444444444,
              "#bd3786"
             ],
             [
              0.5555555555555556,
              "#d8576b"
             ],
             [
              0.6666666666666666,
              "#ed7953"
             ],
             [
              0.7777777777777778,
              "#fb9f3a"
             ],
             [
              0.8888888888888888,
              "#fdca26"
             ],
             [
              1,
              "#f0f921"
             ]
            ],
            "type": "heatmapgl"
           }
          ],
          "histogram": [
           {
            "marker": {
             "pattern": {
              "fillmode": "overlay",
              "size": 10,
              "solidity": 0.2
             }
            },
            "type": "histogram"
           }
          ],
          "histogram2d": [
           {
            "colorbar": {
             "outlinewidth": 0,
             "ticks": ""
            },
            "colorscale": [
             [
              0,
              "#0d0887"
             ],
             [
              0.1111111111111111,
              "#46039f"
             ],
             [
              0.2222222222222222,
              "#7201a8"
             ],
             [
              0.3333333333333333,
              "#9c179e"
             ],
             [
              0.4444444444444444,
              "#bd3786"
             ],
             [
              0.5555555555555556,
              "#d8576b"
             ],
             [
              0.6666666666666666,
              "#ed7953"
             ],
             [
              0.7777777777777778,
              "#fb9f3a"
             ],
             [
              0.8888888888888888,
              "#fdca26"
             ],
             [
              1,
              "#f0f921"
             ]
            ],
            "type": "histogram2d"
           }
          ],
          "histogram2dcontour": [
           {
            "colorbar": {
             "outlinewidth": 0,
             "ticks": ""
            },
            "colorscale": [
             [
              0,
              "#0d0887"
             ],
             [
              0.1111111111111111,
              "#46039f"
             ],
             [
              0.2222222222222222,
              "#7201a8"
             ],
             [
              0.3333333333333333,
              "#9c179e"
             ],
             [
              0.4444444444444444,
              "#bd3786"
             ],
             [
              0.5555555555555556,
              "#d8576b"
             ],
             [
              0.6666666666666666,
              "#ed7953"
             ],
             [
              0.7777777777777778,
              "#fb9f3a"
             ],
             [
              0.8888888888888888,
              "#fdca26"
             ],
             [
              1,
              "#f0f921"
             ]
            ],
            "type": "histogram2dcontour"
           }
          ],
          "mesh3d": [
           {
            "colorbar": {
             "outlinewidth": 0,
             "ticks": ""
            },
            "type": "mesh3d"
           }
          ],
          "parcoords": [
           {
            "line": {
             "colorbar": {
              "outlinewidth": 0,
              "ticks": ""
             }
            },
            "type": "parcoords"
           }
          ],
          "pie": [
           {
            "automargin": true,
            "type": "pie"
           }
          ],
          "scatter": [
           {
            "fillpattern": {
             "fillmode": "overlay",
             "size": 10,
             "solidity": 0.2
            },
            "type": "scatter"
           }
          ],
          "scatter3d": [
           {
            "line": {
             "colorbar": {
              "outlinewidth": 0,
              "ticks": ""
             }
            },
            "marker": {
             "colorbar": {
              "outlinewidth": 0,
              "ticks": ""
             }
            },
            "type": "scatter3d"
           }
          ],
          "scattercarpet": [
           {
            "marker": {
             "colorbar": {
              "outlinewidth": 0,
              "ticks": ""
             }
            },
            "type": "scattercarpet"
           }
          ],
          "scattergeo": [
           {
            "marker": {
             "colorbar": {
              "outlinewidth": 0,
              "ticks": ""
             }
            },
            "type": "scattergeo"
           }
          ],
          "scattergl": [
           {
            "marker": {
             "colorbar": {
              "outlinewidth": 0,
              "ticks": ""
             }
            },
            "type": "scattergl"
           }
          ],
          "scattermapbox": [
           {
            "marker": {
             "colorbar": {
              "outlinewidth": 0,
              "ticks": ""
             }
            },
            "type": "scattermapbox"
           }
          ],
          "scatterpolar": [
           {
            "marker": {
             "colorbar": {
              "outlinewidth": 0,
              "ticks": ""
             }
            },
            "type": "scatterpolar"
           }
          ],
          "scatterpolargl": [
           {
            "marker": {
             "colorbar": {
              "outlinewidth": 0,
              "ticks": ""
             }
            },
            "type": "scatterpolargl"
           }
          ],
          "scatterternary": [
           {
            "marker": {
             "colorbar": {
              "outlinewidth": 0,
              "ticks": ""
             }
            },
            "type": "scatterternary"
           }
          ],
          "surface": [
           {
            "colorbar": {
             "outlinewidth": 0,
             "ticks": ""
            },
            "colorscale": [
             [
              0,
              "#0d0887"
             ],
             [
              0.1111111111111111,
              "#46039f"
             ],
             [
              0.2222222222222222,
              "#7201a8"
             ],
             [
              0.3333333333333333,
              "#9c179e"
             ],
             [
              0.4444444444444444,
              "#bd3786"
             ],
             [
              0.5555555555555556,
              "#d8576b"
             ],
             [
              0.6666666666666666,
              "#ed7953"
             ],
             [
              0.7777777777777778,
              "#fb9f3a"
             ],
             [
              0.8888888888888888,
              "#fdca26"
             ],
             [
              1,
              "#f0f921"
             ]
            ],
            "type": "surface"
           }
          ],
          "table": [
           {
            "cells": {
             "fill": {
              "color": "#EBF0F8"
             },
             "line": {
              "color": "white"
             }
            },
            "header": {
             "fill": {
              "color": "#C8D4E3"
             },
             "line": {
              "color": "white"
             }
            },
            "type": "table"
           }
          ]
         },
         "layout": {
          "annotationdefaults": {
           "arrowcolor": "#2a3f5f",
           "arrowhead": 0,
           "arrowwidth": 1
          },
          "autotypenumbers": "strict",
          "coloraxis": {
           "colorbar": {
            "outlinewidth": 0,
            "ticks": ""
           }
          },
          "colorscale": {
           "diverging": [
            [
             0,
             "#8e0152"
            ],
            [
             0.1,
             "#c51b7d"
            ],
            [
             0.2,
             "#de77ae"
            ],
            [
             0.3,
             "#f1b6da"
            ],
            [
             0.4,
             "#fde0ef"
            ],
            [
             0.5,
             "#f7f7f7"
            ],
            [
             0.6,
             "#e6f5d0"
            ],
            [
             0.7,
             "#b8e186"
            ],
            [
             0.8,
             "#7fbc41"
            ],
            [
             0.9,
             "#4d9221"
            ],
            [
             1,
             "#276419"
            ]
           ],
           "sequential": [
            [
             0,
             "#0d0887"
            ],
            [
             0.1111111111111111,
             "#46039f"
            ],
            [
             0.2222222222222222,
             "#7201a8"
            ],
            [
             0.3333333333333333,
             "#9c179e"
            ],
            [
             0.4444444444444444,
             "#bd3786"
            ],
            [
             0.5555555555555556,
             "#d8576b"
            ],
            [
             0.6666666666666666,
             "#ed7953"
            ],
            [
             0.7777777777777778,
             "#fb9f3a"
            ],
            [
             0.8888888888888888,
             "#fdca26"
            ],
            [
             1,
             "#f0f921"
            ]
           ],
           "sequentialminus": [
            [
             0,
             "#0d0887"
            ],
            [
             0.1111111111111111,
             "#46039f"
            ],
            [
             0.2222222222222222,
             "#7201a8"
            ],
            [
             0.3333333333333333,
             "#9c179e"
            ],
            [
             0.4444444444444444,
             "#bd3786"
            ],
            [
             0.5555555555555556,
             "#d8576b"
            ],
            [
             0.6666666666666666,
             "#ed7953"
            ],
            [
             0.7777777777777778,
             "#fb9f3a"
            ],
            [
             0.8888888888888888,
             "#fdca26"
            ],
            [
             1,
             "#f0f921"
            ]
           ]
          },
          "colorway": [
           "#636efa",
           "#EF553B",
           "#00cc96",
           "#ab63fa",
           "#FFA15A",
           "#19d3f3",
           "#FF6692",
           "#B6E880",
           "#FF97FF",
           "#FECB52"
          ],
          "font": {
           "color": "#2a3f5f"
          },
          "geo": {
           "bgcolor": "white",
           "lakecolor": "white",
           "landcolor": "#E5ECF6",
           "showlakes": true,
           "showland": true,
           "subunitcolor": "white"
          },
          "hoverlabel": {
           "align": "left"
          },
          "hovermode": "closest",
          "mapbox": {
           "style": "light"
          },
          "paper_bgcolor": "white",
          "plot_bgcolor": "#E5ECF6",
          "polar": {
           "angularaxis": {
            "gridcolor": "white",
            "linecolor": "white",
            "ticks": ""
           },
           "bgcolor": "#E5ECF6",
           "radialaxis": {
            "gridcolor": "white",
            "linecolor": "white",
            "ticks": ""
           }
          },
          "scene": {
           "xaxis": {
            "backgroundcolor": "#E5ECF6",
            "gridcolor": "white",
            "gridwidth": 2,
            "linecolor": "white",
            "showbackground": true,
            "ticks": "",
            "zerolinecolor": "white"
           },
           "yaxis": {
            "backgroundcolor": "#E5ECF6",
            "gridcolor": "white",
            "gridwidth": 2,
            "linecolor": "white",
            "showbackground": true,
            "ticks": "",
            "zerolinecolor": "white"
           },
           "zaxis": {
            "backgroundcolor": "#E5ECF6",
            "gridcolor": "white",
            "gridwidth": 2,
            "linecolor": "white",
            "showbackground": true,
            "ticks": "",
            "zerolinecolor": "white"
           }
          },
          "shapedefaults": {
           "line": {
            "color": "#2a3f5f"
           }
          },
          "ternary": {
           "aaxis": {
            "gridcolor": "white",
            "linecolor": "white",
            "ticks": ""
           },
           "baxis": {
            "gridcolor": "white",
            "linecolor": "white",
            "ticks": ""
           },
           "bgcolor": "#E5ECF6",
           "caxis": {
            "gridcolor": "white",
            "linecolor": "white",
            "ticks": ""
           }
          },
          "title": {
           "x": 0.05
          },
          "xaxis": {
           "automargin": true,
           "gridcolor": "white",
           "linecolor": "white",
           "ticks": "",
           "title": {
            "standoff": 15
           },
           "zerolinecolor": "white",
           "zerolinewidth": 2
          },
          "yaxis": {
           "automargin": true,
           "gridcolor": "white",
           "linecolor": "white",
           "ticks": "",
           "title": {
            "standoff": 15
           },
           "zerolinecolor": "white",
           "zerolinewidth": 2
          }
         }
        },
        "title": {
         "text": "Hyperparameter Importances"
        },
        "xaxis": {
         "title": {
          "text": "Importance for accuracy"
         }
        },
        "yaxis": {
         "title": {
          "text": "Hyperparameter"
         }
        }
       }
      }
     },
     "metadata": {},
     "output_type": "display_data"
    }
   ],
   "source": [
    "hyperparameter_importances = optuna.visualization.plot_param_importances(\n",
    "    study_multiple_hyperparameter, target=lambda t: t.values[0], target_name=\"accuracy\"\n",
    ")\n",
    "hyperparameter_importances.show()\n"
   ]
  }
 ],
 "metadata": {
  "kernelspec": {
   "display_name": "Python 3",
   "language": "python",
   "name": "python3"
  },
  "language_info": {
   "codemirror_mode": {
    "name": "ipython",
    "version": 3
   },
   "file_extension": ".py",
   "mimetype": "text/x-python",
   "name": "python",
   "nbconvert_exporter": "python",
   "pygments_lexer": "ipython3",
   "version": "3.10.6"
  },
  "orig_nbformat": 4,
  "vscode": {
   "interpreter": {
    "hash": "916dbcbb3f70747c44a77c7bcd40155683ae19c65e1c03b4aa3499c5328201f1"
   }
  }
 },
 "nbformat": 4,
 "nbformat_minor": 2
}
