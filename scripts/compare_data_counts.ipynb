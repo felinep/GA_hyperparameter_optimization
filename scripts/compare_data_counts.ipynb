{
 "cells": [
  {
   "attachments": {},
   "cell_type": "markdown",
   "metadata": {},
   "source": [
    "# COMPARE NETWORK ACCURACIES WITH DIFFERENT DATA AMOUNTS"
   ]
  },
  {
   "cell_type": "markdown",
   "metadata": {},
   "source": [
    "Import necessary packages:"
   ]
  },
  {
   "cell_type": "code",
   "execution_count": 1,
   "metadata": {},
   "outputs": [
    {
     "name": "stderr",
     "output_type": "stream",
     "text": [
      "2023-02-14 11:03:32.274861: I tensorflow/core/platform/cpu_feature_guard.cc:193] This TensorFlow binary is optimized with oneAPI Deep Neural Network Library (oneDNN) to use the following CPU instructions in performance-critical operations:  AVX2 FMA\n",
      "To enable them in other operations, rebuild TensorFlow with the appropriate compiler flags.\n",
      "2023-02-14 11:03:32.510933: W tensorflow/compiler/xla/stream_executor/platform/default/dso_loader.cc:64] Could not load dynamic library 'libcudart.so.11.0'; dlerror: libcudart.so.11.0: cannot open shared object file: No such file or directory\n",
      "2023-02-14 11:03:32.510959: I tensorflow/compiler/xla/stream_executor/cuda/cudart_stub.cc:29] Ignore above cudart dlerror if you do not have a GPU set up on your machine.\n",
      "2023-02-14 11:03:33.571276: W tensorflow/compiler/xla/stream_executor/platform/default/dso_loader.cc:64] Could not load dynamic library 'libnvinfer.so.7'; dlerror: libnvinfer.so.7: cannot open shared object file: No such file or directory\n",
      "2023-02-14 11:03:33.571577: W tensorflow/compiler/xla/stream_executor/platform/default/dso_loader.cc:64] Could not load dynamic library 'libnvinfer_plugin.so.7'; dlerror: libnvinfer_plugin.so.7: cannot open shared object file: No such file or directory\n",
      "2023-02-14 11:03:33.571591: W tensorflow/compiler/tf2tensorrt/utils/py_utils.cc:38] TF-TRT Warning: Cannot dlopen some TensorRT libraries. If you would like to use Nvidia GPU with TensorRT, please make sure the missing libraries mentioned above are installed properly.\n"
     ]
    }
   ],
   "source": [
    "from __future__ import print_function\n",
    "from ipywidgets import interact, interactive, fixed, interact_manual\n",
    "from keras.callbacks import EarlyStopping\n",
    "import ipywidgets as widgets\n",
    "\n",
    "from pymoo_implementation.problem.problem_mlp_optimization import create_MLP_from_parameter, evaluate_MLP\n",
    "import matplotlib.pyplot as plt\n",
    "import pandas as pd\n",
    "import numpy as np\n",
    "import tensorflow as tf\n",
    "import random\n",
    "import math\n",
    "import copy\n",
    "import string\n",
    "from datetime import date\n",
    "from typing import *\n",
    "from sklearn.model_selection import train_test_split\n",
    "import pickle\n",
    "import time\n",
    "import os\n",
    "\n",
    "# Setup jupyter\n",
    "%matplotlib inline"
   ]
  },
  {
   "cell_type": "markdown",
   "metadata": {},
   "source": [
    "Set constants:"
   ]
  },
  {
   "cell_type": "code",
   "execution_count": 2,
   "metadata": {},
   "outputs": [],
   "source": [
    "# Data constants\n",
    "PREFIX = \"think_pad\"\n",
    "DATASET_NUMBER = 1"
   ]
  },
  {
   "cell_type": "code",
   "execution_count": 3,
   "metadata": {},
   "outputs": [],
   "source": [
    "# System constants\n",
    "PATH = (os.getcwd().replace(\"scripts\", \"\"))\n",
    "DATA_PATH = PATH + f\"/data/random{DATASET_NUMBER}\"\n",
    "\n",
    "# Random seed\n",
    "RANDOM_SEED = 42\n",
    "\n",
    "# mlp setup constants\n",
    "MAX_HIDDENLAYERS = 10\n",
    "MAX_NEURON_PER_LAYER = 300\n",
    "NUM_EPOCHS = 500 #100 # plot showed that no more than 40 epochs are necessary, else the network will be overfitting \n",
    "\n",
    "METRIC = \"accuracy\"\n",
    "\n",
    "example = np.array([300, 300, 300, 300, 300])\n",
    "original_data = pd.read_csv(DATA_PATH, delimiter='\\t');  \n",
    "today = date.today() \n",
    "\n",
    "PLOT_NAME = PATH + f\"plots/{PREFIX}-set{DATASET_NUMBER}-{example}-{today}\"\n",
    "PICKLE_NAME = PATH + f\"pickled_data/{PREFIX}-plot-data-set{DATASET_NUMBER}-{example}{today}.p\"\n"
   ]
  },
  {
   "cell_type": "markdown",
   "metadata": {},
   "source": [
    "Read the data:"
   ]
  },
  {
   "cell_type": "code",
   "execution_count": 4,
   "metadata": {},
   "outputs": [],
   "source": [
    "def get_data(datacount:int):\n",
    "    data = original_data.iloc[:\n",
    "    datacount\n",
    "    , 9:]\n",
    "    input = data.iloc[:, :-9]\n",
    "    target = data.iloc[:, -9:-7]\n",
    "\n",
    "    return input, target"
   ]
  },
  {
   "cell_type": "markdown",
   "metadata": {},
   "source": [
    "Method for plotting the accuracy history from the model training history:"
   ]
  },
  {
   "cell_type": "code",
   "execution_count": 5,
   "metadata": {},
   "outputs": [],
   "source": [
    "# Method for plotting the accuracy history from the model training history\n",
    "def plot_metric_history(history: tf.keras.callbacks.History, metric: str):\n",
    "    n_epochs = len(history[metric])\n",
    "\n",
    "    plt.plot(range(1, n_epochs + 1), history[metric], label=f'train {metric}')\n",
    "    plt.plot(range(1, n_epochs + 1), history[f'val_{metric}'], label=f'validation {metric}')\n",
    "    plt.ylim(0,1.0)\n",
    "    plt.legend()\n",
    "    plt.title(f'Training and validation {metric} for {n_epochs} epochs of training.')\n",
    "    plt.show()"
   ]
  },
  {
   "attachments": {},
   "cell_type": "markdown",
   "metadata": {},
   "source": [
    "Store data as pickle and result plot as png:"
   ]
  },
  {
   "cell_type": "code",
   "execution_count": 6,
   "metadata": {},
   "outputs": [],
   "source": [
    "def store_data_and_plots(accuracy_list, duration_list, data_count_list):\n",
    "    pickle.dump([accuracy_list, duration_list, data_count_list], open(PICKLE_NAME, \"wb\"))\n",
    "\n",
    "    figure, axis = plt.subplots(2,1)\n",
    "\n",
    "    axis[0].plot(data_count_list[1:], accuracy_list[1:], label='accuracy', color = \"blue\")\n",
    "    axis[0].plot(data_count_list[1:], np.ones(len(accuracy_list[1:])) * accuracy_list[0], label='500.000_data_accuracy', color = \"red\")\n",
    "\n",
    "    axis[0].set_xlabel(\"instances of data\")\n",
    "    axis[0].set_ylabel(\"accuracy\")\n",
    "    axis[0].set_title(f\"MLP-parameters: {example}\")\n",
    "    axis[0].grid(True)\n",
    "    axis[0].legend()\n",
    "\n",
    "    \n",
    "\n",
    "    axis[1].plot(data_count_list[1:], duration_list[1:])\n",
    "    axis[1].plot(data_count_list[1:], duration_list[1:], label='duration', color=\"blue\")\n",
    "    axis[1].plot(data_count_list[1:], np.ones(len(duration_list[1:])) * duration_list[0], label='500.000_data_duration', color = \"red\")\n",
    "    axis[1].set_xlabel(\"instances of data\")\n",
    "    axis[1].set_ylabel(\"calculation time [min]\")\n",
    "    axis[1].grid(True)\n",
    "    axis[1].legend()\n",
    "\n",
    "\n",
    "    plt.tight_layout()\n",
    "    plt.show()\n",
    "    figure.savefig(f\"{PLOT_NAME}.png\")\n"
   ]
  },
  {
   "attachments": {},
   "cell_type": "markdown",
   "metadata": {},
   "source": [
    "Create, train and evaluate the MLP:"
   ]
  },
  {
   "cell_type": "code",
   "execution_count": 7,
   "metadata": {},
   "outputs": [],
   "source": [
    "def train_network(start, end, step, accuracy_list, duration_list, data_count_list):\n",
    "    time0 = time.time()\n",
    "    cnn_model = create_MLP_from_parameter(example)\n",
    "    for i in range(start, end, step):\n",
    "        \n",
    "        input, target = get_data(i)\n",
    "        accuracy = - evaluate_MLP(cnn_model, example, input, target)[0]\n",
    "        accuracy_list.append(accuracy)\n",
    "\n",
    "        time_duration = (time.time() - time0) /60\n",
    "        time0 = time.time()\n",
    "        duration_list.append(time_duration)\n",
    "\n",
    "        data_count_list.append(i)\n",
    "        print (f\"data_count: {i}, acc:{accuracy:0.03f}, time:{time_duration:0.03f} min\")\n",
    "    \n",
    "    return (accuracy_list, duration_list, data_count_list)"
   ]
  },
  {
   "attachments": {},
   "cell_type": "markdown",
   "metadata": {},
   "source": [
    "Calculate accuracies for different data counts and store data for comparision:"
   ]
  },
  {
   "cell_type": "code",
   "execution_count": 8,
   "metadata": {},
   "outputs": [
    {
     "name": "stderr",
     "output_type": "stream",
     "text": [
      "2023-02-14 11:03:49.573537: E tensorflow/compiler/xla/stream_executor/cuda/cuda_driver.cc:267] failed call to cuInit: CUDA_ERROR_NO_DEVICE: no CUDA-capable device is detected\n",
      "2023-02-14 11:03:49.574309: I tensorflow/compiler/xla/stream_executor/cuda/cuda_diagnostics.cc:156] kernel driver does not appear to be running on this host (Maschine): /proc/driver/nvidia/version does not exist\n",
      "2023-02-14 11:03:49.576105: I tensorflow/core/platform/cpu_feature_guard.cc:193] This TensorFlow binary is optimized with oneAPI Deep Neural Network Library (oneDNN) to use the following CPU instructions in performance-critical operations:  AVX2 FMA\n",
      "To enable them in other operations, rebuild TensorFlow with the appropriate compiler flags.\n"
     ]
    }
   ],
   "source": [
    "accuracy_list = []\n",
    "duration_list = []\n",
    "data_count_list = []\n",
    "\n",
    "acc_res, duration_res, data_count_res = train_network(500000, 500001, 1, accuracy_list, duration_list, data_count_list)\n",
    "store_data_and_plots(acc_res, duration_res, data_count_res)"
   ]
  },
  {
   "cell_type": "code",
   "execution_count": null,
   "metadata": {},
   "outputs": [
    {
     "ename": "NameError",
     "evalue": "name 'pickle' is not defined",
     "output_type": "error",
     "traceback": [
      "\u001b[0;31m---------------------------------------------------------------------------\u001b[0m",
      "\u001b[0;31mNameError\u001b[0m                                 Traceback (most recent call last)",
      "Cell \u001b[0;32mIn[1], line 1\u001b[0m\n\u001b[0;32m----> 1\u001b[0m accuracy_list, duration_list, data_count_list \u001b[39m=\u001b[39m pickle\u001b[39m.\u001b[39mload(\u001b[39mopen\u001b[39m(\u001b[39m\"\u001b[39m\u001b[39m/home/kassandra/GA_hyperparameter_optimization/pickled_data/thinkPad-plot-data-set1-[300 300 300 300 300]2023-02-14.p\u001b[39m\u001b[39m\"\u001b[39m, \u001b[39m\"\u001b[39m\u001b[39mrb\u001b[39m\u001b[39m\"\u001b[39m))\n\u001b[1;32m      2\u001b[0m acc_res, duration_res, data_count_res \u001b[39m=\u001b[39m train_network(\u001b[39m100\u001b[39m, \u001b[39m10100\u001b[39m, \u001b[39m100\u001b[39m, accuracy_list, duration_list, data_count_list)\n\u001b[1;32m      3\u001b[0m store_data_and_plots(acc_res, duration_res, data_count_res)\n",
      "\u001b[0;31mNameError\u001b[0m: name 'pickle' is not defined"
     ]
    }
   ],
   "source": [
    "#accuracy_list, duration_list, data_count_list = pickle.load(open(\"/home/kassandra/GA_hyperparameter_optimization/pickled_data/thinkPad-plot-data-set1-[300 300 300 300 300]2023-02-14.p\", \"rb\"))\n",
    "acc_res, duration_res, data_count_res = train_network(100, 10100, 100, accuracy_list, duration_list, data_count_list)\n",
    "store_data_and_plots(acc_res, duration_res, data_count_res)"
   ]
  },
  {
   "cell_type": "code",
   "execution_count": null,
   "metadata": {},
   "outputs": [
    {
     "name": "stderr",
     "output_type": "stream",
     "text": [
      "2023-02-14 10:54:21.952463: E tensorflow/compiler/xla/stream_executor/cuda/cuda_driver.cc:267] failed call to cuInit: CUDA_ERROR_NO_DEVICE: no CUDA-capable device is detected\n",
      "2023-02-14 10:54:21.953173: I tensorflow/compiler/xla/stream_executor/cuda/cuda_diagnostics.cc:156] kernel driver does not appear to be running on this host (Maschine): /proc/driver/nvidia/version does not exist\n",
      "2023-02-14 10:54:21.955520: I tensorflow/core/platform/cpu_feature_guard.cc:193] This TensorFlow binary is optimized with oneAPI Deep Neural Network Library (oneDNN) to use the following CPU instructions in performance-critical operations:  AVX2 FMA\n",
      "To enable them in other operations, rebuild TensorFlow with the appropriate compiler flags.\n"
     ]
    }
   ],
   "source": [
    "#accuracy_list, duration_list, data_count_list = pickle.load(open(\"/home/kassandra/GA_hyperparameter_optimization/pickled_data/thinkPad-plot-data-set1-[300 300 300 300 300]2023-02-14.p\", \"rb\"))\n",
    "acc_res, duration_res, data_count_res = train_network(10000, 110000, 10000, accuracy_list, duration_list, data_count_list)\n",
    "store_data_and_plots(acc_res, duration_res, data_count_res)"
   ]
  }
 ],
 "metadata": {
  "kernelspec": {
   "display_name": ".venv",
   "language": "python",
   "name": "python3"
  },
  "language_info": {
   "codemirror_mode": {
    "name": "ipython",
    "version": 3
   },
   "file_extension": ".py",
   "mimetype": "text/x-python",
   "name": "python",
   "nbconvert_exporter": "python",
   "pygments_lexer": "ipython3",
   "version": "3.8.10"
  },
  "vscode": {
   "interpreter": {
    "hash": "ffa4fb3745a6512ef0ab2c8f4038ced844a3e74668069da71ee16b58ce275483"
   }
  }
 },
 "nbformat": 4,
 "nbformat_minor": 2
}
