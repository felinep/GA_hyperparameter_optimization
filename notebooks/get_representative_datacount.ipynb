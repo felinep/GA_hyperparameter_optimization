{
 "cells": [
  {
   "attachments": {},
   "cell_type": "markdown",
   "metadata": {},
   "source": [
    "# COMPARE NETWORK ACCURACIES FOR DIFFERENT DATA AMOUNTS"
   ]
  },
  {
   "cell_type": "markdown",
   "metadata": {},
   "source": [
    "Import necessary packages:"
   ]
  },
  {
   "cell_type": "code",
   "execution_count": 12,
   "metadata": {},
   "outputs": [],
   "source": [
    "# Jupyter packages\n",
    "from __future__ import print_function\n",
    "from ipywidgets import interact, interactive, fixed, interact_manual\n",
    "from keras.callbacks import EarlyStopping\n",
    "import ipywidgets as widgets\n",
    "\n",
    "# Common packages, you know them from before \n",
    "import matplotlib.pyplot as plt\n",
    "import pandas as pd\n",
    "import numpy as np\n",
    "import tensorflow as tf\n",
    "import random\n",
    "import math\n",
    "import copy\n",
    "import string\n",
    "from datetime import date\n",
    "from typing import *\n",
    "from sklearn.model_selection import train_test_split\n",
    "import pickle\n",
    "import time\n",
    "import os\n",
    "\n",
    "# Setup jupyter\n",
    "%matplotlib inline"
   ]
  },
  {
   "attachments": {},
   "cell_type": "markdown",
   "metadata": {},
   "source": [
    "# Define constants:"
   ]
  },
  {
   "cell_type": "code",
   "execution_count": 13,
   "metadata": {},
   "outputs": [],
   "source": [
    "PATH = (os.getcwd().replace(\"notebooks\", \"\"))\n",
    "execfile(PATH + \"/scripts/pymoo_implementation/problem/problem_mlp_optimization.py\")"
   ]
  },
  {
   "cell_type": "code",
   "execution_count": 14,
   "metadata": {},
   "outputs": [],
   "source": [
    "# Data constants\n",
    "PC_NAME = \"thinkPad\"\n",
    "DATASET_NUMBER = \"random2\"\n",
    "DATA_PATH = f\"~/belle_neural_trigger/data/{DATASET_NUMBER}.csv\"\n",
    "\n",
    "# Random seed\n",
    "RANDOM_SEED = 42\n",
    "\n",
    "# mlp setup constants\n",
    "MAX_HIDDENLAYERS = 10\n",
    "MAX_NEURON_PER_LAYER = 300\n",
    "NUM_EPOCHS = 500 #100 # plot showed that no more than 40 epochs are necessary, else the network will be overfitting \n",
    "\n",
    "METRIC = \"accuracy\"\n",
    "\n",
    "# genetic algorithm constants\n",
    "NUM_GENERATIONS = 5 #min 2, step size instead of complete number of generations\n",
    "POPULATION_SIZE = 250\n",
    "\n",
    "example = np.array([300, 300, 300, 300, 300])\n",
    "original_data = pd.read_csv(DATA_PATH, delimiter='\\t');  \n",
    "today = date.today() \n",
    "\n",
    "PLOT_PREFIX = f\"plots/{PC_NAME}-set{DATASET_NUMBER}-{example}-{today}\"\n",
    "PICKLE_NAME = f\"pickled_data/{PC_NAME}-plot-data-set{DATASET_NUMBER}-{example}{today}.p\"\n"
   ]
  },
  {
   "attachments": {},
   "cell_type": "markdown",
   "metadata": {},
   "source": [
    "# Define necessary functions:"
   ]
  },
  {
   "attachments": {},
   "cell_type": "markdown",
   "metadata": {},
   "source": [
    "Read data function:"
   ]
  },
  {
   "cell_type": "code",
   "execution_count": 15,
   "metadata": {},
   "outputs": [],
   "source": [
    "def get_data(datacount:int):\n",
    "    data = original_data.iloc[:\n",
    "    datacount\n",
    "    , 9:]\n",
    "    input = data.iloc[:, :-9]\n",
    "    target = data.iloc[:, -9:-7]\n",
    "\n",
    "    return input, target"
   ]
  },
  {
   "attachments": {},
   "cell_type": "markdown",
   "metadata": {},
   "source": [
    "Store data and plots function:"
   ]
  },
  {
   "cell_type": "code",
   "execution_count": 16,
   "metadata": {},
   "outputs": [],
   "source": [
    "def store_data_and_plots(accuracy_list, duration_list, data_count_list, part_number):\n",
    "    pickle.dump([accuracy_list, duration_list, data_count_list], open(PICKLE_NAME, \"wb\"))\n",
    "\n",
    "    figure, axis = plt.subplots(2,1)\n",
    "\n",
    "    axis[0].plot(data_count_list[1:], accuracy_list[1:], label='accuracy', color = \"blue\")\n",
    "    axis[0].plot(data_count_list[1:], np.ones(len(accuracy_list[1:])) * accuracy_list[0], label='500.000_data_accuracy', color = \"red\")\n",
    "\n",
    "    axis[0].set_xlabel(\"instances of data\")\n",
    "    axis[0].set_ylabel(\"accuracy\")\n",
    "    axis[0].set_title(f\"MLP-parameters: {example}\")\n",
    "    axis[0].grid(True)\n",
    "    axis[0].legend()\n",
    "\n",
    "    axis[1].plot(data_count_list[1:], duration_list[1:])\n",
    "    axis[1].plot(data_count_list[1:], duration_list[1:], label='duration', color=\"blue\")\n",
    "    axis[1].plot(data_count_list[1:], np.ones(len(duration_list[1:])) * duration_list[0], label='500.000_data_duration', color = \"red\")\n",
    "    axis[1].set_xlabel(\"instances of data\")\n",
    "    axis[1].set_ylabel(\"calculation time [min]\")\n",
    "    axis[1].grid(True)\n",
    "    axis[1].legend()\n",
    "\n",
    "\n",
    "    plt.tight_layout()\n",
    "    plt.show()\n",
    "    figure.savefig(f\"{PLOT_PREFIX}part{part_number}.png\")\n"
   ]
  },
  {
   "attachments": {},
   "cell_type": "markdown",
   "metadata": {},
   "source": [
    "Train the network function:"
   ]
  },
  {
   "cell_type": "code",
   "execution_count": 19,
   "metadata": {},
   "outputs": [],
   "source": [
    "def train_network(start, end, step, accuracy_list, duration_list, data_count_list):\n",
    "    time0 = time.time()\n",
    "\n",
    "    for i in range(start, end, step):\n",
    "        input, target = get_data(i)\n",
    "        accuracy = - evaluate_MLP(create_MLP_from_parameter(example), example, input, target)[0]\n",
    "        accuracy_list.append(accuracy)\n",
    "\n",
    "        time_duration = (time.time() - time0) /60\n",
    "        time0 = time.time()\n",
    "        duration_list.append(time_duration)\n",
    "\n",
    "        data_count_list.append(i)\n",
    "        print (f\"data_count: {i}, acc:{accuracy:0.03f}, time:{time_duration:0.03f} min\")\n",
    "    \n",
    "    return (accuracy_list, duration_list, data_count_list)"
   ]
  },
  {
   "attachments": {},
   "cell_type": "markdown",
   "metadata": {},
   "source": [
    "# Run Evaluation:"
   ]
  },
  {
   "cell_type": "markdown",
   "metadata": {},
   "source": [
    "High datacount as best possible accuracy solution to compare to:"
   ]
  },
  {
   "cell_type": "code",
   "execution_count": 21,
   "metadata": {},
   "outputs": [
    {
     "name": "stdout",
     "output_type": "stream",
     "text": [
      "data_count: 500, acc:0.130, time:0.064 min\n"
     ]
    },
    {
     "ename": "FileNotFoundError",
     "evalue": "[Errno 2] No such file or directory: 'pickled_data/thinkPad-plot-data-setrandom2-[300 300 300 300 300]2023-02-10.p'",
     "output_type": "error",
     "traceback": [
      "\u001b[0;31m---------------------------------------------------------------------------\u001b[0m",
      "\u001b[0;31mFileNotFoundError\u001b[0m                         Traceback (most recent call last)",
      "Cell \u001b[0;32mIn[21], line 6\u001b[0m\n\u001b[1;32m      3\u001b[0m data_count_list \u001b[39m=\u001b[39m []\n\u001b[1;32m      5\u001b[0m acc_res, duration_res, data_count_res \u001b[39m=\u001b[39m train_network(\u001b[39m500\u001b[39m, \u001b[39m501\u001b[39m, \u001b[39m1\u001b[39m, accuracy_list, duration_list, data_count_list)\n\u001b[0;32m----> 6\u001b[0m store_data_and_plots(acc_res, duration_res, data_count_res, \u001b[39m1\u001b[39;49m)\n",
      "Cell \u001b[0;32mIn[16], line 2\u001b[0m, in \u001b[0;36mstore_data_and_plots\u001b[0;34m(accuracy_list, duration_list, data_count_list, part_number)\u001b[0m\n\u001b[1;32m      1\u001b[0m \u001b[39mdef\u001b[39;00m \u001b[39mstore_data_and_plots\u001b[39m(accuracy_list, duration_list, data_count_list, part_number):\n\u001b[0;32m----> 2\u001b[0m     pickle\u001b[39m.\u001b[39mdump([accuracy_list, duration_list, data_count_list], \u001b[39mopen\u001b[39;49m(PICKLE_NAME, \u001b[39m\"\u001b[39;49m\u001b[39mwb\u001b[39;49m\u001b[39m\"\u001b[39;49m))\n\u001b[1;32m      4\u001b[0m     figure, axis \u001b[39m=\u001b[39m plt\u001b[39m.\u001b[39msubplots(\u001b[39m2\u001b[39m,\u001b[39m1\u001b[39m)\n\u001b[1;32m      6\u001b[0m     axis[\u001b[39m0\u001b[39m]\u001b[39m.\u001b[39mplot(data_count_list[\u001b[39m1\u001b[39m:], accuracy_list[\u001b[39m1\u001b[39m:], label\u001b[39m=\u001b[39m\u001b[39m'\u001b[39m\u001b[39maccuracy\u001b[39m\u001b[39m'\u001b[39m, color \u001b[39m=\u001b[39m \u001b[39m\"\u001b[39m\u001b[39mblue\u001b[39m\u001b[39m\"\u001b[39m)\n",
      "File \u001b[0;32m~/belle_neural_trigger/.venv/lib/python3.8/site-packages/IPython/core/interactiveshell.py:282\u001b[0m, in \u001b[0;36m_modified_open\u001b[0;34m(file, *args, **kwargs)\u001b[0m\n\u001b[1;32m    275\u001b[0m \u001b[39mif\u001b[39;00m file \u001b[39min\u001b[39;00m {\u001b[39m0\u001b[39m, \u001b[39m1\u001b[39m, \u001b[39m2\u001b[39m}:\n\u001b[1;32m    276\u001b[0m     \u001b[39mraise\u001b[39;00m \u001b[39mValueError\u001b[39;00m(\n\u001b[1;32m    277\u001b[0m         \u001b[39mf\u001b[39m\u001b[39m\"\u001b[39m\u001b[39mIPython won\u001b[39m\u001b[39m'\u001b[39m\u001b[39mt let you open fd=\u001b[39m\u001b[39m{\u001b[39;00mfile\u001b[39m}\u001b[39;00m\u001b[39m by default \u001b[39m\u001b[39m\"\u001b[39m\n\u001b[1;32m    278\u001b[0m         \u001b[39m\"\u001b[39m\u001b[39mas it is likely to crash IPython. If you know what you are doing, \u001b[39m\u001b[39m\"\u001b[39m\n\u001b[1;32m    279\u001b[0m         \u001b[39m\"\u001b[39m\u001b[39myou can use builtins\u001b[39m\u001b[39m'\u001b[39m\u001b[39m open.\u001b[39m\u001b[39m\"\u001b[39m\n\u001b[1;32m    280\u001b[0m     )\n\u001b[0;32m--> 282\u001b[0m \u001b[39mreturn\u001b[39;00m io_open(file, \u001b[39m*\u001b[39;49margs, \u001b[39m*\u001b[39;49m\u001b[39m*\u001b[39;49mkwargs)\n",
      "\u001b[0;31mFileNotFoundError\u001b[0m: [Errno 2] No such file or directory: 'pickled_data/thinkPad-plot-data-setrandom2-[300 300 300 300 300]2023-02-10.p'"
     ]
    }
   ],
   "source": [
    "accuracy_list = []\n",
    "duration_list = []\n",
    "data_count_list = []\n",
    "\n",
    "acc_res, duration_res, data_count_res = train_network(500, 501, 1, accuracy_list, duration_list, data_count_list)\n",
    "store_data_and_plots(acc_res, duration_res, data_count_res, 1)"
   ]
  },
  {
   "attachments": {},
   "cell_type": "markdown",
   "metadata": {},
   "source": [
    "Evalute accuracy with datacounts from 100 to 10000 instances in 100er steps:"
   ]
  },
  {
   "cell_type": "code",
   "execution_count": null,
   "metadata": {},
   "outputs": [],
   "source": [
    "\n",
    "acc_res, duration_res, data_count_res = train_network(100, 10100, 100, accuracy_list, duration_list, data_count_list)\n",
    "store_data_and_plots(acc_res, duration_res, data_count_res, 1)"
   ]
  }
 ],
 "metadata": {
  "kernelspec": {
   "display_name": ".venv",
   "language": "python",
   "name": "python3"
  },
  "language_info": {
   "codemirror_mode": {
    "name": "ipython",
    "version": 3
   },
   "file_extension": ".py",
   "mimetype": "text/x-python",
   "name": "python",
   "nbconvert_exporter": "python",
   "pygments_lexer": "ipython3",
   "version": "3.8.10"
  },
  "vscode": {
   "interpreter": {
    "hash": "ffa4fb3745a6512ef0ab2c8f4038ced844a3e74668069da71ee16b58ce275483"
   }
  }
 },
 "nbformat": 4,
 "nbformat_minor": 2
}
